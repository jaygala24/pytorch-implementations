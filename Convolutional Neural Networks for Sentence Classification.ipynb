{
 "cells": [
  {
   "cell_type": "markdown",
   "metadata": {
    "id": "yeMtUsLNDOsR"
   },
   "source": [
    "# Convolutional Neural Networks for Sentence Classification\n",
    "\n",
    "_This notebook demonstrates the implementation of Convolutional Neural Networks for Sentence Classification proposed by [Kim, 2014](https://arxiv.org/pdf/1408.5882.pdf)._\n"
   ]
  },
  {
   "cell_type": "markdown",
   "metadata": {},
   "source": [
    "Traditionally, Convolutional Neural Networks (CNNs) were invented for computed vision and achieved state-of-the-art performance in computer vision and speech recognition. CNNs act like feature extractors where they scan different regions of the image using the kernel and output of each layer is passed to the next CNN layer. The lower layers in CNNs are useful at detecting low-level features such as edges whereas the higher layers in CNNs are useful at detecting facial features such as eyes, nose, ear, etc.\n",
    "\n",
    "The above paper proposed by [Kim, 2014](https://arxiv.org/pdf/1408.5882.pdf) was one of the earliest work demonstrating the applications of CNNs in NLP tasks, specifically text classification. In this case, CNN is used as a feature extractor which encodes semantic features of text and then these features are fed into classifier.\n",
    "\n",
    "RNNs extract the prefix sequence features which might not be always helpful as preserving complete context is very difficult for longer sequences and we may get wrong prediction. CNNs help us to extract subsequence features which are beneficial for classification tasks as the dominant features context would be preserved.\n",
    "\n",
    "We will build a CNN based sentiment classifier for IMDB movie reviews.\n"
   ]
  },
  {
   "cell_type": "code",
   "execution_count": 1,
   "metadata": {
    "executionInfo": {
     "elapsed": 5029,
     "status": "ok",
     "timestamp": 1622648644726,
     "user": {
      "displayName": "Jay Gala",
      "photoUrl": "https://lh3.googleusercontent.com/a-/AOh14Ghr20IAxple1q2jggw00r147YTV5sjlqKrRANzYVA=s64",
      "userId": "11525158385229787114"
     },
     "user_tz": -330
    },
    "id": "QM7kOJJLFB28"
   },
   "outputs": [],
   "source": [
    "%%capture\n",
    "# download the spacy language models for english\n",
    "!python -m spacy download en --quiet"
   ]
  },
  {
   "cell_type": "code",
   "execution_count": 2,
   "metadata": {
    "executionInfo": {
     "elapsed": 2867,
     "status": "ok",
     "timestamp": 1622648647583,
     "user": {
      "displayName": "Jay Gala",
      "photoUrl": "https://lh3.googleusercontent.com/a-/AOh14Ghr20IAxple1q2jggw00r147YTV5sjlqKrRANzYVA=s64",
      "userId": "11525158385229787114"
     },
     "user_tz": -330
    },
    "id": "ssZUPl3UFNC6"
   },
   "outputs": [],
   "source": [
    "%%capture\n",
    "!pip install torchtext --upgrade"
   ]
  },
  {
   "cell_type": "code",
   "execution_count": 3,
   "metadata": {
    "executionInfo": {
     "elapsed": 154436,
     "status": "ok",
     "timestamp": 1622648802013,
     "user": {
      "displayName": "Jay Gala",
      "photoUrl": "https://lh3.googleusercontent.com/a-/AOh14Ghr20IAxple1q2jggw00r147YTV5sjlqKrRANzYVA=s64",
      "userId": "11525158385229787114"
     },
     "user_tz": -330
    },
    "id": "-0IQi07nz9J6"
   },
   "outputs": [],
   "source": [
    "%%capture\n",
    "!wget https://dl.fbaipublicfiles.com/fasttext/vectors-english/crawl-300d-2M.vec.zip\n",
    "!unzip crawl-300d-2M.vec.zip\n",
    "!rm -rf crawl-300d-2M.vec.zip"
   ]
  },
  {
   "cell_type": "markdown",
   "metadata": {
    "id": "B--2aTzsFPgA"
   },
   "source": [
    "## Imports\n"
   ]
  },
  {
   "cell_type": "code",
   "execution_count": 4,
   "metadata": {
    "executionInfo": {
     "elapsed": 5741,
     "status": "ok",
     "timestamp": 1622648807738,
     "user": {
      "displayName": "Jay Gala",
      "photoUrl": "https://lh3.googleusercontent.com/a-/AOh14Ghr20IAxple1q2jggw00r147YTV5sjlqKrRANzYVA=s64",
      "userId": "11525158385229787114"
     },
     "user_tz": -330
    },
    "id": "ZyKMGPOjFUu5"
   },
   "outputs": [],
   "source": [
    "import random\n",
    "import numpy as np\n",
    "\n",
    "import torch\n",
    "import torch.nn as nn\n",
    "import torch.optim as optim\n",
    "import torch.nn.functional as F\n",
    "\n",
    "import spacy\n",
    "import torchtext\n",
    "import torchtext.vocab as vocab\n",
    "from torchtext.legacy.datasets import IMDB\n",
    "from torchtext.legacy.data import Field, LabelField, BucketIterator\n",
    "\n",
    "import warnings\n",
    "from tqdm.notebook import tqdm\n",
    "warnings.filterwarnings('ignore')"
   ]
  },
  {
   "cell_type": "code",
   "execution_count": 5,
   "metadata": {
    "executionInfo": {
     "elapsed": 23,
     "status": "ok",
     "timestamp": 1622648807739,
     "user": {
      "displayName": "Jay Gala",
      "photoUrl": "https://lh3.googleusercontent.com/a-/AOh14Ghr20IAxple1q2jggw00r147YTV5sjlqKrRANzYVA=s64",
      "userId": "11525158385229787114"
     },
     "user_tz": -330
    },
    "id": "DjC3C6_2FYB6"
   },
   "outputs": [],
   "source": [
    "# for reproducibility\n",
    "# refer https://pytorch.org/docs/stable/notes/randomness.html\n",
    "SEED = 42\n",
    "\n",
    "random.seed(SEED)\n",
    "np.random.seed(SEED)\n",
    "torch.manual_seed(SEED)\n",
    "torch.cuda.manual_seed(SEED)\n",
    "torch.backends.cudnn.deterministic = True"
   ]
  },
  {
   "cell_type": "code",
   "execution_count": 6,
   "metadata": {
    "executionInfo": {
     "elapsed": 16,
     "status": "ok",
     "timestamp": 1622648807740,
     "user": {
      "displayName": "Jay Gala",
      "photoUrl": "https://lh3.googleusercontent.com/a-/AOh14Ghr20IAxple1q2jggw00r147YTV5sjlqKrRANzYVA=s64",
      "userId": "11525158385229787114"
     },
     "user_tz": -330
    },
    "id": "KV2NLb9oFaav"
   },
   "outputs": [],
   "source": [
    "device = torch.device('cuda' if torch.cuda.is_available() else 'cpu')"
   ]
  },
  {
   "cell_type": "markdown",
   "metadata": {
    "id": "WjxWOXY2F3Fg"
   },
   "source": [
    "## Data Preprocessing and Loading\n"
   ]
  },
  {
   "cell_type": "code",
   "execution_count": 32,
   "metadata": {
    "executionInfo": {
     "elapsed": 810146,
     "status": "ok",
     "timestamp": 1622650907554,
     "user": {
      "displayName": "Jay Gala",
      "photoUrl": "https://lh3.googleusercontent.com/a-/AOh14Ghr20IAxple1q2jggw00r147YTV5sjlqKrRANzYVA=s64",
      "userId": "11525158385229787114"
     },
     "user_tz": -330
    },
    "id": "x9DZy-LFH7Bc"
   },
   "outputs": [],
   "source": [
    "# create field objects for text and label\n",
    "review = Field(tokenize='spacy', batch_first=True)\n",
    "sentiment = LabelField(batch_first=True)\n",
    "\n",
    "# load the imdb dataset\n",
    "train_data, test_data = IMDB.splits(text_field=review, label_field=sentiment)\n",
    "train_data, valid_data = train_data.split()"
   ]
  },
  {
   "cell_type": "code",
   "execution_count": 33,
   "metadata": {
    "executionInfo": {
     "elapsed": 71638,
     "status": "ok",
     "timestamp": 1622650979181,
     "user": {
      "displayName": "Jay Gala",
      "photoUrl": "https://lh3.googleusercontent.com/a-/AOh14Ghr20IAxple1q2jggw00r147YTV5sjlqKrRANzYVA=s64",
      "userId": "11525158385229787114"
     },
     "user_tz": -330
    },
    "id": "9eFs-n60Jdrc"
   },
   "outputs": [],
   "source": [
    "# load the pretrained fasttext embeddings and build the vocabulary\n",
    "en_fast_embed = vocab.Vectors(name='crawl-300d-2M.vec', cache='.', unk_init = torch.Tensor.normal_)\n",
    "review.build_vocab(train_data, max_size=25000, vectors=en_fast_embed)\n",
    "sentiment.build_vocab(train_data)\n",
    "\n",
    "del en_fast_embed"
   ]
  },
  {
   "cell_type": "code",
   "execution_count": 34,
   "metadata": {
    "colab": {
     "base_uri": "https://localhost:8080/"
    },
    "executionInfo": {
     "elapsed": 39,
     "status": "ok",
     "timestamp": 1622650979185,
     "user": {
      "displayName": "Jay Gala",
      "photoUrl": "https://lh3.googleusercontent.com/a-/AOh14Ghr20IAxple1q2jggw00r147YTV5sjlqKrRANzYVA=s64",
      "userId": "11525158385229787114"
     },
     "user_tz": -330
    },
    "id": "LbQNCow6HuMp",
    "outputId": "0254c26d-ab4e-4b55-a9ad-56377b8f0e5b"
   },
   "outputs": [
    {
     "name": "stdout",
     "output_type": "stream",
     "text": [
      "# of training examples: 17500\n",
      "# of validation examples: 7500\n",
      "# of testing examples: 25000\n",
      "dict_keys(['text', 'label'])\n",
      "dict_values([['The', 'fact', 'that', 'someone', 'actually', 'spent', 'money', 'on', 'such', 'a', 'bad', 'script', ',', 'is', 'beyond', 'me', '.', 'This', 'really', 'must', 'be', 'one', 'of', 'the', 'worst', 'films', ',', 'in', 'addition', 'to', '\"', 'Haunted', 'Highway', '\"', 'I', 'have', 'ever', 'seen', '.', 'BAD', 'actors', ',', 'and', 'a', 'really', 'bad', 'story', '.', 'There', \"'s\", 'no', 'normal', 'reactions', 'to', 'any', 'event', 'in', 'this', 'film', ',', 'and', 'even', 'though', 'it', \"'s\", 'Halloween', ',', 'normal', 'people', 'would', 'have', 'bigger', 'reactions', 'when', 'they', \"'re\", 'witnessing', 'their', 'father', 'being', 'killed', ',', 'not', 'to', 'mention', 'gutted', ',', 'people', 'with', 'tape', 'covering', 'their', 'airways', ',', 'not', 'being', 'able', 'to', 'breathe', '(', 'in', 'a', 'room', 'with', 'at', 'least', '50', 'people', 'I', 'might', 'add', ')', 'and', 'some', 'person', 'dressed', 'up', 'as', 'Satan', 'dragging', 'dead', 'people', 'out', 'of', 'his', 'house', ',', 'even', 'an', '8', 'year', 'old', 'would', 'see', 'the', 'difference', 'between', 'a', 'doll', 'and', 'a', 'person', '.', 'Not', 'to', 'mention', 'the', 'fact', 'that', 'no', 'one', 'could', 'possibly', 'be', 'that', 'naive', 'and', 'dumb', 'to', 'believe', 'the', 'reality', 'of', 'Satan', 'and', 'Jesus', \"'\", 'appearances', 'on', 'the', 'same', 'day', ',', 'like', 'this', 'kid', 'does', '.', 'When', 'i', 'was', '8', ',', 'I', 'sure', 'had', 'more', 'brains', 'than', 'that', '.', '<', 'br', '/><br', '/>But', ',', 'the', 'really', 'stupid', 'thing', 'is', 'that', 'everyone', 'else', 'seems', 'to', 'be', 'falling', 'for', 'this', 'mute', 'Satan', 'look', '-', 'alike', 'as', 'well', ',', 'no', 'questions', 'asked', '.', 'The', 'question', 'throughout', 'the', 'film', 'is', ',', 'is', 'it', 'really', 'Satan', ',', 'or', 'is', 'it', 'some', 'crazy', 'person', 'killing', 'people', 'off', 'whenever', 'he', 'feels', 'like', 'it', '?', 'Well', ',', 'he', \"'s\", 'got', 'human', 'hands', ',', 'arms', ',', 'built', 'and', 'whatever', ',', 'so', 'I', 'guess', 'he', \"'s\", 'supposed', 'to', 'be', 'in', 'the', 'movie', 'as', 'well', ',', 'otherwise', 'they', 'did', 'a', 'lousy', 'job', 'concealing', 'it', '.', 'Then', ',', 'with', 'this', 'person', 'being', 'human', 'and', 'all', ',', 'he', 'was', 'able', 'to', 'kill', 'an', 'old', 'lady', ',', 'a', 'man', 'and', 'his', 'mistress', ',', '5', '(', '!', '!', '?', '?', '?', ')', 'cops', '(', 'all', 'with', 'guns', 'and', 'training', 'i', 'presume', ')', ',', 'and', 'a', 'few', 'other', 'people', '.....', 'and', 'obviously', 'everyone', 'was', 'just', 'standing', 'there', 'waiting', 'for', 'him', ',', 'or', 'what?<br', '/><br', '/>The', 'whole', 'concept', 'and', 'way', 'of', 'telling', 'the', 'story', 'is', 'absolutely', 'the', 'worst', 'thing', 'I', \"'ve\", 'seen', ',', 'and', 'I', 'would', 'never', 'recommend', 'anyone', 'to', 'waste', '1', 'hour', 'and', '30', 'minutes', 'of', 'their', 'lives', 'to', 'watch', 'this', 'total', 'crap', '.'], 'neg'])\n"
     ]
    }
   ],
   "source": [
    "print(f'# of training examples: {len(train_data.examples)}')\n",
    "print(f'# of validation examples: {len(valid_data.examples)}')\n",
    "print(f'# of testing examples: {len(test_data.examples)}')\n",
    "\n",
    "print(train_data[0].__dict__.keys())\n",
    "print(train_data[0].__dict__.values())"
   ]
  },
  {
   "cell_type": "code",
   "execution_count": 35,
   "metadata": {
    "executionInfo": {
     "elapsed": 23,
     "status": "ok",
     "timestamp": 1622650979186,
     "user": {
      "displayName": "Jay Gala",
      "photoUrl": "https://lh3.googleusercontent.com/a-/AOh14Ghr20IAxple1q2jggw00r147YTV5sjlqKrRANzYVA=s64",
      "userId": "11525158385229787114"
     },
     "user_tz": -330
    },
    "id": "j_7k6_xaKd6e"
   },
   "outputs": [],
   "source": [
    "BATCH_SIZE = 64\n",
    "\n",
    "train_iterator, valid_iterator, test_iterator = BucketIterator.splits(\n",
    "    (train_data, valid_data, test_data),\n",
    "    batch_size=BATCH_SIZE,\n",
    "    device=device\n",
    ")"
   ]
  },
  {
   "cell_type": "code",
   "execution_count": 36,
   "metadata": {
    "colab": {
     "base_uri": "https://localhost:8080/"
    },
    "executionInfo": {
     "elapsed": 23,
     "status": "ok",
     "timestamp": 1622650979187,
     "user": {
      "displayName": "Jay Gala",
      "photoUrl": "https://lh3.googleusercontent.com/a-/AOh14Ghr20IAxple1q2jggw00r147YTV5sjlqKrRANzYVA=s64",
      "userId": "11525158385229787114"
     },
     "user_tz": -330
    },
    "id": "QE2tx68lLCNf",
    "outputId": "987ffbb6-8da9-42c2-94f1-e3da1b74fc64"
   },
   "outputs": [
    {
     "name": "stdout",
     "output_type": "stream",
     "text": [
      "{'text': torch.Size([64, 1150]), 'label': torch.Size([64])}\n"
     ]
    }
   ],
   "source": [
    "# sanity check to see if data loader is working\n",
    "x = next(iter(train_iterator))\n",
    "\n",
    "print({'text': x.text.shape, 'label': x.label.shape})"
   ]
  },
  {
   "cell_type": "markdown",
   "metadata": {
    "id": "ZtW9HLyyLPOO"
   },
   "source": [
    "## Model Architecture\n"
   ]
  },
  {
   "cell_type": "markdown",
   "metadata": {},
   "source": [
    "![cnn_architecture](data:image/jpeg;base64,/9j/4AAQSkZJRgABAQEAYABgAAD/4RCcRXhpZgAATU0AKgAAAAgABAE7AAIAAAAOAAAISodpAAQAAAABAAAIWJydAAEAAAAcAAAQeOocAAcAAAgMAAAAPgAAAAAc6gAAAAgAAAAAAAAAAAAAAAAAAAAAAAAAAAAAAAAAAAAAAAAAAAAAAAAAAAAAAAAAAAAAAAAAAAAAAAAAAAAAAAAAAAAAAAAAAAAAAAAAAAAAAAAAAAAAAAAAAAAAAAAAAAAAAAAAAAAAAAAAAAAAAAAAAAAAAAAAAAAAAAAAAAAAAAAAAAAAAAAAAAAAAAAAAAAAAAAAAAAAAAAAAAAAAAAAAAAAAAAAAAAAAAAAAAAAAAAAAAAAAAAAAAAAAAAAAAAAAAAAAAAAAAAAAAAAAAAAAAAAAAAAAAAAAAAAAAAAAAAAAAAAAAAAAAAAAAAAAAAAAAAAAAAAAAAAAAAAAAAAAAAAAAAAAAAAAAAAAAAAAAAAAAAAAAAAAAAAAAAAAAAAAAAAAAAAAAAAAAAAAAAAAAAAAAAAAAAAAAAAAAAAAAAAAAAAAAAAAAAAAAAAAAAAAAAAAAAAAAAAAAAAAAAAAAAAAAAAAAAAAAAAAAAAAAAAAAAAAAAAAAAAAAAAAAAAAAAAAAAAAAAAAAAAAAAAAAAAAAAAAAAAAAAAAAAAAAAAAAAAAAAAAAAAAAAAAAAAAAAAAAAAAAAAAAAAAAAAAAAAAAAAAAAAAAAAAAAAAAAAAAAAAAAAAAAAAAAAAAAAAAAAAAAAAAAAAAAAAAAAAAAAAAAAAAAAAAAAAAAAAAAAAAAAAAAAAAAAAAAAAAAAAAAAAAAAAAAAAAAAAAAAAAAAAAAAAAAAAAAAAAAAAAAAAAAAAAAAAAAAAAAAAAAAAAAAAAAAAAAAAAAAAAAAAAAAAAAAAAAAAAAAAAAAAAAAAAAAAAAAAAAAAAAAAAAAAAAAAAAAAAAAAAAAAAAAAAAAAAAAAAAAAAAAAAAAAAAAAAAAAAAAAAAAAAAAAAAAAAAAAAAAAAAAAAAAAAAAAAAAAAAAAAAAAAAAAAAAAAAAAAAAAAAAAAAAAAAAAAAAAAAAAAAAAAAAAAAAAAAAAAAAAAAAAAAAAAAAAAAAAAAAAAAAAAAAAAAAAAAAAAAAAAAAAAAAAAAAAAAAAAAAAAAAAAAAAAAAAAAAAAAAAAAAAAAAAAAAAAAAAAAAAAAAAAAAAAAAAAAAAAAAAAAAAAAAAAAAAAAAAAAAAAAAAAAAAAAAAAAAAAAAAAAAAAAAAAAAAAAAAAAAAAAAAAAAAAAAAAAAAAAAAAAAAAAAAAAAAAAAAAAAAAAAAAAAAAAAAAAAAAAAAAAAAAAAAAAAAAAAAAAAAAAAAAAAAAAAAAAAAAAAAAAAAAAAAAAAAAAAAAAAAAAAAAAAAAAAAAAAAAAAAAAAAAAAAAAAAAAAAAAAAAAAAAAAAAAAAAAAAAAAAAAAAAAAAAAAAAAAAAAAAAAAAAAAAAAAAAAAAAAAAAAAAAAAAAAAAAAAAAAAAAAAAAAAAAAAAAAAAAAAAAAAAAAAAAAAAAAAAAAAAAAAAAAAAAAAAAAAAAAAAAAAAAAAAAAAAAAAAAAAAAAAAAAAAAAAAAAAAAAAAAAAAAAAAAAAAAAAAAAAAAAAAAAAAAAAAAAAAAAAAAAAAAAAAAAAAAAAAAAAAAAAAAAAAAAAAAAAAAAAAAAAAAAAAAAAAAAAAAAAAAAAAAAAAAAAAAAAAAAAAAAAAAAAAAAAAAAAAAAAAAAAAAAAAAAAAAAAAAAAAAAAAAAAAAAAAAAAAAAAAAAAAAAAAAAAAAAAAAAAAAAAAAAAAAAAAAAAAAAAAAAAAAAAAAAAAAAAAAAAAAAAAAAAAAAAAAAAAAAAAAAAAAAAAAAAAAAAAAAAAAAAAAAAAAAAAAAAAAAAAAAAAAAAAAAAAAAAAAAAAAAAAAAAAAAAAAAAAAAAAAAAAAAAAAAAAAAAAAAAAAAAAAAAAAAAAAAAAAAAAAAAAAAAAAAAAAAAAAAAAAAAAAAAAAAAAAAAAAAAAAAAAAAAAAAAAAAAAAAAAAAAAAAAAAAAAAAAAAAAAAAAAAAAAAAAAAAAAAAAAAAAAAAAAAAAAAAAAAAAAAAAAAAAAAAAAAAAAAAAAAAAAAAAAAAAAAAAAAAAAAAAAAAAAAAAAAAAAAAAAAAAAAAAAAAAAAAAAAAAAAAAAAAAAAAAAAAAAAAAAAAAAAAAAAAAAAAAAAAAAAAAAAAAAAAAAAAAAAAAAAAAAAAAAAAAAAAAAAAAAAAAAAAAAAAAAAAAAAAAAAAAAAAAAAAAAAAAAAAAAAAAAAAAAAAAAAAAAAAAAAAAAAAAAAAAAAAAAAAAAAAAAAAAAAAAAAAAAAAAAAAAAAAAAAAAAAAAAAAAAAAAAAAAAAAAAAAAAAAAAAAAAAAAAAAAAAAAAAAAAAAAAAAAAAAAAAAAAAAAAAAAAAAAAAAAAAAAAAAAAAAAAAAAAAAAAAAAAAAAAAAAAAAAAAAAAAAAAAAAAAAAAAAAAAAAAAAAAAAAAAAAAAAAAAAAAAAAAAAAAAAAAAAAAAAAAAAAAAAAAAAAAAAAAAAAAAAAAAAAAAAAAAAAAAAAAAAAAAAAAAAAAAAAAAAAAAAAAAAAAAAAAAAAAAAAAAAAAAAAAAAAAAAAAAAAAAAAAAAAAAAAAAAAAAAAAAAAAAAAAAAAAAAAAAAAAAAAAAAAAAAAAAAAAAAAAAAAAAAAAAAAAAAAAAAAAAAAAAAAAAAAAAAAAAAAAAAAAAAAAAAAAAAAAAAAAAAAAAAAAAAAAAAAAAAAAAAAAAAAAAAAAAAAAAAAAAAAAAAAAAAAAAAAAAAAAAAAAEFkbWluaXN0cmF0b3IAAAHqHAAHAAAIDAAACGoAAAAAHOoAAAAIAAAAAAAAAAAAAAAAAAAAAAAAAAAAAAAAAAAAAAAAAAAAAAAAAAAAAAAAAAAAAAAAAAAAAAAAAAAAAAAAAAAAAAAAAAAAAAAAAAAAAAAAAAAAAAAAAAAAAAAAAAAAAAAAAAAAAAAAAAAAAAAAAAAAAAAAAAAAAAAAAAAAAAAAAAAAAAAAAAAAAAAAAAAAAAAAAAAAAAAAAAAAAAAAAAAAAAAAAAAAAAAAAAAAAAAAAAAAAAAAAAAAAAAAAAAAAAAAAAAAAAAAAAAAAAAAAAAAAAAAAAAAAAAAAAAAAAAAAAAAAAAAAAAAAAAAAAAAAAAAAAAAAAAAAAAAAAAAAAAAAAAAAAAAAAAAAAAAAAAAAAAAAAAAAAAAAAAAAAAAAAAAAAAAAAAAAAAAAAAAAAAAAAAAAAAAAAAAAAAAAAAAAAAAAAAAAAAAAAAAAAAAAAAAAAAAAAAAAAAAAAAAAAAAAAAAAAAAAAAAAAAAAAAAAAAAAAAAAAAAAAAAAAAAAAAAAAAAAAAAAAAAAAAAAAAAAAAAAAAAAAAAAAAAAAAAAAAAAAAAAAAAAAAAAAAAAAAAAAAAAAAAAAAAAAAAAAAAAAAAAAAAAAAAAAAAAAAAAAAAAAAAAAAAAAAAAAAAAAAAAAAAAAAAAAAAAAAAAAAAAAAAAAAAAAAAAAAAAAAAAAAAAAAAAAAAAAAAAAAAAAAAAAAAAAAAAAAAAAAAAAAAAAAAAAAAAAAAAAAAAAAAAAAAAAAAAAAAAAAAAAAAAAAAAAAAAAAAAAAAAAAAAAAAAAAAAAAAAAAAAAAAAAAAAAAAAAAAAAAAAAAAAAAAAAAAAAAAAAAAAAAAAAAAAAAAAAAAAAAAAAAAAAAAAAAAAAAAAAAAAAAAAAAAAAAAAAAAAAAAAAAAAAAAAAAAAAAAAAAAAAAAAAAAAAAAAAAAAAAAAAAAAAAAAAAAAAAAAAAAAAAAAAAAAAAAAAAAAAAAAAAAAAAAAAAAAAAAAAAAAAAAAAAAAAAAAAAAAAAAAAAAAAAAAAAAAAAAAAAAAAAAAAAAAAAAAAAAAAAAAAAAAAAAAAAAAAAAAAAAAAAAAAAAAAAAAAAAAAAAAAAAAAAAAAAAAAAAAAAAAAAAAAAAAAAAAAAAAAAAAAAAAAAAAAAAAAAAAAAAAAAAAAAAAAAAAAAAAAAAAAAAAAAAAAAAAAAAAAAAAAAAAAAAAAAAAAAAAAAAAAAAAAAAAAAAAAAAAAAAAAAAAAAAAAAAAAAAAAAAAAAAAAAAAAAAAAAAAAAAAAAAAAAAAAAAAAAAAAAAAAAAAAAAAAAAAAAAAAAAAAAAAAAAAAAAAAAAAAAAAAAAAAAAAAAAAAAAAAAAAAAAAAAAAAAAAAAAAAAAAAAAAAAAAAAAAAAAAAAAAAAAAAAAAAAAAAAAAAAAAAAAAAAAAAAAAAAAAAAAAAAAAAAAAAAAAAAAAAAAAAAAAAAAAAAAAAAAAAAAAAAAAAAAAAAAAAAAAAAAAAAAAAAAAAAAAAAAAAAAAAAAAAAAAAAAAAAAAAAAAAAAAAAAAAAAAAAAAAAAAAAAAAAAAAAAAAAAAAAAAAAAAAAAAAAAAAAAAAAAAAAAAAAAAAAAAAAAAAAAAAAAAAAAAAAAAAAAAAAAAAAAAAAAAAAAAAAAAAAAAAAAAAAAAAAAAAAAAAAAAAAAAAAAAAAAAAAAAAAAAAAAAAAAAAAAAAAAAAAAAAAAAAAAAAAAAAAAAAAAAAAAAAAAAAAAAAAAAAAAAAAAAAAAAAAAAAAAAAAAAAAAAAAAAAAAAAAAAAAAAAAAAAAAAAAAAAAAAAAAAAAAAAAAAAAAAAAAAAAAAAAAAAAAAAAAAAAAAAAAAAAAAAAAAAAAAAAAAAAAAAAAAAAAAAAAAAAAAAAAAAAAAAAAAAAAAAAAAAAAAAAAAAAAAAAAAAAAAAAAAAAAAAAAAAAAAAAAAAAAAAAAAAAAAAAAAAAAAAAAAAAAAAAAAAAAAAAAAAAAAAAAAAAAAAAAAAAAAAAAAAAAAAAAAAAAAAAAAAAAAAAAAAAAAAAAAAAAAAAAAAAAAAAAAAAAAAAAAAAAAAAAAAAAAAAAAAAAAAAAAAAAAAAAAAAAAAAAAAAAAAAAAAAAAAAAAAAAAAAAAAAAAAAAAAAAAAAAAAAAAAAAAAAAAAAAAAAAAAAAAAAAAAAAAAAAAAAAAAAAAAAAAAAAAAAAAAAAAAAAAAAAAAAAAAAAAAAAAAAAAAAAAAAAAAAAAAAAAAAAAAAAAAAAAAAAAAAAAAAAAAAAAAAAAAAAAAAAAAAAAAAAAAAAAAAAAAAAAAAAAAAAAAAAAAAAAAAAAAAAAAAAAAAAAAAAAAAAAAAAAAAAAAAAAAAAAAAAAAAAAAAAAAAAAAAAAAAAAAAAAAAAAAAAAAAAAAAAAAAAAAAAAAAAAAAAAAAAAAAAAAAAAAAAAAAAAAAAAAAAAAAAAAAAAAAAAAAAAAAAAAAAAAAAAAAAAAAAAAAAAAAAAAAAAAAAAAAAAAAAAAAAAAAAAAAAAAAAAAAAAAAAAAAAAAAAAAAAAAAAAAAAAAAAAAAAAAAAAAAAAAAAAAAAAAAAAAAAAAAAAAAAAAAAAAAAAAAAAAAAAAAAAAAAAAAAAAAAAAAAAAAAAAAAAAAAAAAAAAAAAAAAAAAAAAAAAAAAAAAAAAAAAAAAAAAAAAAAAAAAAAAAAAAAAAAAAAAAAAAAAAAAAAAAAAAAAAAAAAAAAEEAZABtAGkAbgBpAHMAdAByAGEAdABvAHIAAAD/4QpmaHR0cDovL25zLmFkb2JlLmNvbS94YXAvMS4wLwA8P3hwYWNrZXQgYmVnaW49J++7vycgaWQ9J1c1TTBNcENlaGlIenJlU3pOVGN6a2M5ZCc/Pg0KPHg6eG1wbWV0YSB4bWxuczp4PSJhZG9iZTpuczptZXRhLyI+PHJkZjpSREYgeG1sbnM6cmRmPSJodHRwOi8vd3d3LnczLm9yZy8xOTk5LzAyLzIyLXJkZi1zeW50YXgtbnMjIj48cmRmOkRlc2NyaXB0aW9uIHJkZjphYm91dD0idXVpZDpmYWY1YmRkNS1iYTNkLTExZGEtYWQzMS1kMzNkNzUxODJmMWIiIHhtbG5zOmRjPSJodHRwOi8vcHVybC5vcmcvZGMvZWxlbWVudHMvMS4xLyIvPjxyZGY6RGVzY3JpcHRpb24gcmRmOmFib3V0PSJ1dWlkOmZhZjViZGQ1LWJhM2QtMTFkYS1hZDMxLWQzM2Q3NTE4MmYxYiIgeG1sbnM6ZGM9Imh0dHA6Ly9wdXJsLm9yZy9kYy9lbGVtZW50cy8xLjEvIj48ZGM6Y3JlYXRvcj48cmRmOlNlcSB4bWxuczpyZGY9Imh0dHA6Ly93d3cudzMub3JnLzE5OTkvMDIvMjItcmRmLXN5bnRheC1ucyMiPjxyZGY6bGk+QWRtaW5pc3RyYXRvcjwvcmRmOmxpPjwvcmRmOlNlcT4NCgkJCTwvZGM6Y3JlYXRvcj48L3JkZjpEZXNjcmlwdGlvbj48L3JkZjpSREY+PC94OnhtcG1ldGE+DQogICAgICAgICAgICAgICAgICAgICAgICAgICAgICAgICAgICAgICAgICAgICAgICAgICAgICAgICAgICAgICAgICAgICAgICAgICAgICAgICAgICAgICAgICAgICAgICAgICAgCiAgICAgICAgICAgICAgICAgICAgICAgICAgICAgICAgICAgICAgICAgICAgICAgICAgICAgICAgICAgICAgICAgICAgICAgICAgICAgICAgICAgICAgICAgICAgICAgICAgICAKICAgICAgICAgICAgICAgICAgICAgICAgICAgICAgICAgICAgICAgICAgICAgICAgICAgICAgICAgICAgICAgICAgICAgICAgICAgICAgICAgICAgICAgICAgICAgICAgICAgIAogICAgICAgICAgICAgICAgICAgICAgICAgICAgICAgICAgICAgICAgICAgICAgICAgICAgICAgICAgICAgICAgICAgICAgICAgICAgICAgICAgICAgICAgICAgICAgICAgICAgCiAgICAgICAgICAgICAgICAgICAgICAgICAgICAgICAgICAgICAgICAgICAgICAgICAgICAgICAgICAgICAgICAgICAgICAgICAgICAgICAgICAgICAgICAgICAgICAgICAgICAKICAgICAgICAgICAgICAgICAgICAgICAgICAgICAgICAgICAgICAgICAgICAgICAgICAgICAgICAgICAgICAgICAgICAgICAgICAgICAgICAgICAgICAgICAgICAgICAgICAgIAogICAgICAgICAgICAgICAgICAgICAgICAgICAgICAgICAgICAgICAgICAgICAgICAgICAgICAgICAgICAgICAgICAgICAgICAgICAgICAgICAgICAgICAgICAgICAgICAgICAgCiAgICAgICAgICAgICAgICAgICAgICAgICAgICAgICAgICAgICAgICAgICAgICAgICAgICAgICAgICAgICAgICAgICAgICAgICAgICAgICAgICAgICAgICAgICAgICAgICAgICAKICAgICAgICAgICAgICAgICAgICAgICAgICAgICAgICAgICAgICAgICAgICAgICAgICAgICAgICAgICAgICAgICAgICAgICAgICAgICAgICAgICAgICAgICAgICAgICAgICAgIAogICAgICAgICAgICAgICAgICAgICAgICAgICAgICAgICAgICAgICAgICAgICAgICAgICAgICAgICAgICAgICAgICAgICAgICAgICAgICAgICAgICAgICAgICAgICAgICAgICAgCiAgICAgICAgICAgICAgICAgICAgICAgICAgICAgICAgICAgICAgICAgICAgICAgICAgICAgICAgICAgICAgICAgICAgICAgICAgICAgICAgICAgICAgICAgICAgICAgICAgICAKICAgICAgICAgICAgICAgICAgICAgICAgICAgICAgICAgICAgICAgICAgICAgICAgICAgICAgICAgICAgICAgICAgICAgICAgICAgICAgICAgICAgICAgICAgICAgICAgICAgIAogICAgICAgICAgICAgICAgICAgICAgICAgICAgICAgICAgICAgICAgICAgICAgICAgICAgICAgICAgICAgICAgICAgICAgICAgICAgICAgICAgICAgICAgICAgICAgICAgICAgCiAgICAgICAgICAgICAgICAgICAgICAgICAgICAgICAgICAgICAgICAgICAgICAgICAgICAgICAgICAgICAgICAgICAgICAgICAgICAgICAgICAgICAgICAgICAgICAgICAgICAKICAgICAgICAgICAgICAgICAgICAgICAgICAgICAgICAgICAgICAgICAgICAgICAgICAgICAgICAgICAgICAgICAgICAgICAgICAgICAgICAgICAgICAgICAgICAgICAgICAgIAogICAgICAgICAgICAgICAgICAgICAgICAgICAgICAgICAgICAgICAgICAgICAgICAgICAgICAgICAgICAgICAgICAgICAgICAgICAgICAgICAgICAgICAgICAgICAgICAgICAgCiAgICAgICAgICAgICAgICAgICAgICAgICAgICAgICAgICAgICAgICAgICAgICAgICAgICAgICAgICAgICAgICAgICAgICAgICAgICAgICAgICAgICAgICAgICAgICAgICAgICAKICAgICAgICAgICAgICAgICAgICAgICAgICAgICAgICAgICAgICAgICAgICAgICAgICAgICAgICAgICAgICAgICAgICAgICAgICAgICAgICAgICAgICAgICAgICAgICAgICAgIAogICAgICAgICAgICAgICAgICAgICAgICAgICAgICAgICAgICAgICAgICAgICAgICAgICAgICAgICAgICAgICAgICAgICAgICAgICAgICAgICAgICAgICAgICAgICAgICAgICAgCiAgICAgICAgICAgICAgICAgICAgICAgICAgICAgICAgICAgICAgICAgICAgICAgICAgICAgICAgICAgICAgICAgICAgICAgICAgICAgICAgICAgICAgICAgICAgICAgICAgICAKICAgICAgICAgICAgICAgICAgICAgICAgICAgIDw/eHBhY2tldCBlbmQ9J3cnPz7/2wBDAAcFBQYFBAcGBQYIBwcIChELCgkJChUPEAwRGBUaGRgVGBcbHichGx0lHRcYIi4iJSgpKywrGiAvMy8qMicqKyr/2wBDAQcICAoJChQLCxQqHBgcKioqKioqKioqKioqKioqKioqKioqKioqKioqKioqKioqKioqKioqKioqKioqKioqKir/wAARCAK4As0DASIAAhEBAxEB/8QAHwAAAQUBAQEBAQEAAAAAAAAAAAECAwQFBgcICQoL/8QAtRAAAgEDAwIEAwUFBAQAAAF9AQIDAAQRBRIhMUEGE1FhByJxFDKBkaEII0KxwRVS0fAkM2JyggkKFhcYGRolJicoKSo0NTY3ODk6Q0RFRkdISUpTVFVWV1hZWmNkZWZnaGlqc3R1dnd4eXqDhIWGh4iJipKTlJWWl5iZmqKjpKWmp6ipqrKztLW2t7i5usLDxMXGx8jJytLT1NXW19jZ2uHi4+Tl5ufo6erx8vP09fb3+Pn6/8QAHwEAAwEBAQEBAQEBAQAAAAAAAAECAwQFBgcICQoL/8QAtREAAgECBAQDBAcFBAQAAQJ3AAECAxEEBSExBhJBUQdhcRMiMoEIFEKRobHBCSMzUvAVYnLRChYkNOEl8RcYGRomJygpKjU2Nzg5OkNERUZHSElKU1RVVldYWVpjZGVmZ2hpanN0dXZ3eHl6goOEhYaHiImKkpOUlZaXmJmaoqOkpaanqKmqsrO0tba3uLm6wsPExcbHyMnK0tPU1dbX2Nna4uPk5ebn6Onq8vP09fb3+Pn6/9oADAMBAAIRAxEAPwD6RooooAKKKKACiiigAooooAKKKKACiiigAooooAKKKKACiiigAooooAKKKKACiiigAooooAKKKKACiiigAooooAKKKKACiiigAooooAKKKKACiiigAooooAKKKKACiiigAooooAKKKKACiiigAooooAKKKKACiiigAooooAKKKKACiiigAooooAKKKKACiiigAooooAKKKKACiiigAooooAKKKKACiiigAooooAKKKKACiiigAooooAKKKKACiiigAooooAKKKKACiiigAooooAKKKKACiiigAooooAKKKKACiiigArC8Sa9e6RdaXZ6VpsWoXepTvEiTXXkIgWNpCS2xj0XGMd63a5HxJewL8RfBtiW/0iSW8mVAP4Ft2Uk+nLqKALH9qeNP+hX0r/wdt/8AI9H9qeNP+hX0r/wdt/8AI9dNRQBzP9qeNP8AoV9K/wDB23/yPR/anjT/AKFfSv8Awdt/8j101cd421i/tdS07TtK1SWzluElleOzsDd3UgXaBtUgoiZblm9gKQy3/anjT/oV9K/8Hbf/ACPR/anjT/oV9K/8Hbf/ACPXI6B4t8S+KotC0iPUE0u8uIbye8vfsqNIwgn8lVVCSiscgt1AxxRqEGv3HjjwWt14ktJ5obq8hkks7dSr7EYncCflcrhWXoDyKrf+vkSdVDrfi+4j8y38N6PKmSNya6zDIOCMi37EEfhUn9qeNP8AoV9K/wDB23/yPXJ6N40udDt7O71QW8WjXSaoAkECxhLiC5lYdAOXjVj7spPUmpL3XvE5tdKspNXlttVfTftl1babpYuJt7sdobcPLjjH3ckgsQfSo5tL/wBdf8i5RtK39dP8zp21bxmqlm8MaSABkk643H/kvTYtZ8YTwpLD4a0iSORQyOmusQwPIIP2fkVwfh/Udb1/xZpWvXepIpufCbXM1qLVSjfOoZOc8Fvm/TpWr4d1bxB4mj03StG1S30GKz8P2N5K0NjG/myTRnCqh+VI12dAO+ARiq1Wn9btfoLpf+un+Z1X9qeNP+hX0r/wdt/8j0f2p40/6FfSv/B23/yPXIaD4p8U+M9UsrG21WDSAdLknuZYLVZd80dy8JKb8gK23POePzrrvCeqaj4l+HNrez3CW+o3EEiNcRxAqHVmTeEPH8OcUnpHm/rr/kLrYig1/wAWXXmfZfD2izeU5jk8vXi2xh1U4t+D7VN/anjT/oV9K/8AB23/AMj1xHwruL7SbPwnpn2iKW21WyvLybbbJGxZGjC5I5Y/M3J5OfarsXinxLrOr6dpthqkNn9r1XVLWS4FsshWK3b5NoPG7Axk+uSDVW1t/Wjt+Yef9dzqv7U8af8AQr6V/wCDtv8A5Ho/tTxp/wBCvpX/AIO2/wDkeuVtPFPiW8ns/DS6nDHqEur3llJqxtV3GK3QPkR/d3tuA9OCcVBrlr4jk8VeFLa68U2txLb6zLEstvapvA+zSOPNXoH25GBxghsZpLW3nb8bf5g9E/K/4X/yOth1vxfcKzQeHNHlCsUYprrHDA4IOLfqD2qT+1PGn/Qr6V/4O2/+R65HT/EGsX2pQ+H9HuLXSJL7VtUaW8itEJWOCXGFT7pkYsCWYHoTyaQeKfFcuu23hdNVt1vI9YlsJ9SW0U+bF9l89W2ZwJBnBxxkZxjihapNdVf8v1YPRvyv+F/8jr/7U8af9CvpX/g7b/5Ho/tTxp/0K+lf+Dtv/kejwTqGp3cOsWes3i30+l6m9mt0IREZU8uOQFlXgH95jjA4rpqOlw1Tszmf7U8af9CvpX/g7b/5Ho/tTxp/0K+lf+Dtv/keumooAyfDGtP4h8PQajNaizld5Y5IBL5gRo5GjbDYGRlDg4Fa1cz8Pf8AkTU/6/b3/wBK5a6agAooooAKKKKACiiigAooooAKKKKACiiigAooooAKKKKACiiigAooooAKKKKACiiigAooooAKKKKACiiigAooooAKKKKACiiigAooooAKKKKACiiigAooooAKKKKACiiigAooooAKKKKACiiigAooooAKKKKACiiigAooooAKKKKACvmfxvrHii8+OkHjDRtOubjSfD7yQQhFw1xDbsq3ZRT94ZmZdw4IHfacfTFcvqEaRfEnw1HEioi6dfhVUYAG624AoA6WCeO5t454HEkUqh0dejKRkEU+mxxpDGscSKiIAqqowFA7AU6gArE1zwjpPiG8try/W6jurZGjjntLyW2fY2NyFo2UlTgcH0rbooA5Rfhp4Zi02Cytba6tUtZ5J7aS3vpo5bdpPvhHVgyqe6g49qtr4G8PJZabax2Lxx6XMZ7Vo7mVHSRs7mLhgzbsnduJ3Z5zXQUUAYV14K8PXuiw6TdacstjDdG8jhaR/llLtIWznPLO3GcYOMY4pus+CtF13VF1C+juluRD9nka2vJYBNFkny5AjAOuSeDnqa36KVkO7ZzVl8PvDmnrYC1tJ0OnQyQWx+2TfLE5JMZ+f5l54VsgcYxikvfh94evYbKP7Pc2psbVbKGSzvZoJPIUYETOjhnXjoxNdNRTEZWneGdH0i6guNNsUtpLe0FlF5bMAsIbcF25x15zjPvVnS9JstF0uLTtMh8m1i3bI97NjcxY8kk9SauUUPXcDm7nwD4fuNO06yS3uLWPTAws5LS9mhliDfeUSKwYg9wTU+l+CtA0VrM6bYeSbGSaS3/fOdjTf6w8tzn3zjtW7RQBz974H0C/tZYZbSSMyXjX4mhuJI5Y7hhgyI6sGQkcYBA9qjXwB4cXTbey+xzFLe6N6k32yYTGcggyNKH3sSCQck5HHSukooWmwPXc5688C6Be2Yt3tJYdt3JexzW9zLFNFNISXdJFYMuSTkA49qk07wXoOlrZfY7Iq9jPJcxSvNI7mV1Ku7sWJdiCRls/oK3aKFpsG+5UstMs9OlvJLOHy3vbg3NwdxO+Qqq7uTx8qKMDA4q3RRQAUUUUAcz8Pf8AkTU/6/b3/wBK5a6auZ+Hv/Imp/1+3v8A6Vy101ABRRRQAUUUUAFFFFABRRRQAUUUUAFFFFABRRRQAUUUUAFFFFABRRRQAUUUUAFFFFABRRRQAUUUUAFFFFABRRRQAUUUUAFFFFABRRRQAUUUUAFFFFABRRRQAUUUUAFFFFABRRRQAUUUUAFFFFABRRRQAUUUUAFFFFAFTUNW07SIll1W/tbGN22q9zMsYY+gLEc0291nS9NtY7nUdStLSCUgRyzzqivnpgk4NcT4kFtpvxLXVvEek3Oo6VJpQtrWSGwe8WCbzGLqURWKl1KYbGDtxmsa3t7LR9e03VNe8JXkGivo/wBnsrNbN777BJ5rMyMiqxUupTtgY254pLVL+u/52/H729G/67flf8D0+71rSrCES32pWdtGyeYHmnVAVyBuyT0yRz71LDf2dy0a291BK0kfnII5A29Om4Y6r79K8o8FeErj/hJdEl1rQ5EsobC/e1huoNy2ayXStFEc5CuIyfl6gZHahNL1jw34R0XXdG0a6l1DS7vULU2EcDB3tpp5fLwmM7QwhYdtuT0obsl5/wCbX+QJXv5f8OeoXWu6RY2y3F7qtlbwM5jEs1wiKXBwVyTjIIxiqc+vWMXii2sZY4vm02a+W+Z12xxq8asM+h3g5zj5a4FNCtPBniHTH8R6Vc6rpseiraxTw2D3giujIzzFkRWIMm4HdjBxjNZVn4W1xtCubZNJuoEuPDmrx2ds8ZH2dZbiNoICeits6LnIwR2obtr6/hf87XHFJu3p+Nvy29T2O91Wx0+3ae8u4YkETSjfIq7lXGSMnkcj8xWVovi608QxaRc6TGJrPUrd5/NaeMPCQFIRkDElvm5xnbjnqK4tLr/hK/E2gLb6NqRtLXRruC5e+06SGMSssQEZ8xRk5U89PQmsfTtD1W68L+GrTRtKvdOvbfw9qFnK0tm9v5d0YoVBJKjlmBw3fBIJxTel/wCv5v8AJfeTH3uXpf8A4H/BPXrXW9KvZ54bLU7O4lts+fHFcI7RY/vAHj8aLXXNJvrxrSy1OzuLlUEhhhuEdwp6NtBzjkc15RHZ22p/8I5beFvDN9pd5pVvKNQeTTXtxFH9nZDCXKgSlnKkbS3TNa3h3wv/AGXa/DSS20VrWe2jcXzrbFXi3Wb7vNOMjMmPvfxY707Wv5fjvr6Atbef4eXqen0UUUgCiiigAooooAKKKKACiiigAooooAKKKKACiiigAooooA5n4e/8ian/AF+3v/pXLXTVzPw9/wCRNT/r9vf/AErlrpqACiiigAorE8Z6pd6L4L1TUdOaNbq3ty0TSJuVW6AkZGevSqn9ieKz18YIP93So/6saAOmormf7B8Tnr4ykH+7psP9c1W/s3WTqf8AZx8ez/bPJ8/yFsbbd5edu7Gw8Z4oA6+iuZ/4RvxAevjjUh/u2Vp/WI0f8Ixrh6+O9aH+7a2P9bc0AdNRXM/8Ipq5+/488QH6Q2A/9tqP+ES1E/e8b+Ij+FmP5W9AHTUVzP8Awh94fveMvER/7aWw/lDR/wAIbOfveLfER/7eIh/KOgDpqK5Twmt3Z+JPEOmXGp3moQWr27QteOrum+PLDIA4yM11dAHM+N5bsWmk2tjf3Fgb3VIbeWa2KiTYQxIBYEDO0dqP+EOn/wCht8Rf+BEX/wAbo8af6zw5/wBhuD/0F66agDmf+EOn/wCht8Rf+BEX/wAbo/4Q6f8A6G3xF/4ERf8AxuumqrHqlhLqD2EV9bPeRjc9usymRR6lc5FAGH/wh0//AENviL/wIi/+N0f8IdP/ANDb4i/8CIv/AI3V7UfFmiabpGo6jLqNvLDpsbPcrBMrsmB93GeGOMAHHNVtJ8b6NqtybXz0tbtLaK5kgnmiJRZCQo3IzKT8vYnqPWgNiL/hDp/+ht8Rf+BEX/xuj/hDp/8AobfEX/gRF/8AG61otf0aZoVh1axkM7lIQlyh8xh1C88kegqQ6vpq37WLahai7Rd7W5mXzFXGclc5xjvQBi/8IdP/ANDb4i/8CIv/AI3R/wAIdP8A9Db4i/8AAiL/AON10Md3bytGsVxE7Sp5kYVwd68fMPUcjn3rHtfF2m3nie/0SEnzLAIJ5zJGIw74xGBu3luR/DjPGc8UdbAVv+EOn/6G3xF/4ERf/G6P+EOn/wCht8Rf+BEX/wAbrcuNTsLQObq9t4BGcOZJVXacbucnjjn6c0yXWtLgsYr2fUrOO0mIEdw86iN89MMTg0AY3/CHT/8AQ2+Iv/AiL/43R/wh0/8A0NviL/wIi/8AjdWLrxjpVvf31jFKLm9sbeO5kgidAzI5IGCzAZ+XJyRgEetan9p2H9o/2f8Abbf7bt3fZvNXzMeu3OcUAYf/AAh0/wD0NviL/wACIv8A43R/wh0//Q2+Iv8AwIi/+N1twatp1zeG0ttQtZrkLvMMcys4X12g5xVugDmf+EOn/wCht8Rf+BEX/wAbpvg9ruLUvEmnXeo3WoR6fqEcUEt2VMgRrWCQglVGfmdu3euormfDH/I1+Mv+wpD/AOkNtQB01FFFABRRRQAUUUUAFFFFABRRRQAUUUUAFFFFABRRRQAUUUUAFFFFABRRRQAUUUUAcla+L9X1JZptK8J3N1ax3M9ukxvYU3mKVomO0tkDch61P/wkHib/AKEu4/8ABjb/APxVHw+/5FST/sKal/6XT101AHM/8JB4m/6Eu4/8GNv/APFUf8JB4m/6Eu4/8GNv/wDFV01FAHM/8JB4m/6Eu4/8GNv/APFUf8JB4m/6Eu4/8GNv/wDFV01FAHM/8JB4m/6Eu4/8GNv/APFUf8JB4m/6Eu4/8GNv/wDFV01FAHM/8JB4m/6Eu4/8GNv/APFUf8JB4m/6Eu4/8GNv/wDFV01FAHM/8JB4m/6Eu4/8GNv/APFUf8JB4m/6Eu4/8GNv/wDFV01FAHM/8JB4m/6Eu4/8GNv/APFUf8JB4m/6Eu4/8GNv/wDFV01FAHM/8JB4m/6Eu4/8GNv/APFUf8JB4m/6Eu4/8GNv/wDFV01FAHKP4u1WzvbGPV/C1zZwXl0lqJxeQyBGfO0lVbOMjtXV1x/j/Ube1uvC1nLIBPea7brEmQM7dzMfpgY+pHrXYUAFFFFABRRRQAUUUUAFFFFABRRRQAUUUUAFFFFAHM/D3/kTU/6/b3/0rlrpq5n4e/8AImp/1+3v/pXLXTUAFFFFAHM/Ef8A5JzrX/Xsf5iumrjvivqNvpvwz1R7pwomEdvGMgbneRVA5+uT7A12NABXBadounaP8bbl9MtI7drrQzLOVzmR/tA5Oa72ofslt9t+2fZ4vtXl+V5+wb9mc7d3XGecdM0faT9fxTQfZa9PzucF4x1zxP8A8IjdGTT5PD0v2u0ihu4b1JmO+4RG4A44Pfg5rIvdJ1GHWfFmnx+KtfFtpWlxX1qPtp3rM6y5JfGSv7ofJ93k8V6pdWdtfQ+Te28VxFuV9kyB13KQVOD3BAIPYioZ7XTY5JprqC1V7xVt5pJEUGcchY2J+8PmIAP94+tS0+Vpb/8AA/zKT11/rX/I8i1zX9S1bR7m8ttT1b7Tp2hW91Oba9Syt7aWSIyb2OS0pbj5du0Yx1NS+I/Fms2X9kSWeszLFq2lW8msOqbxpUbFB9rXspbcy46cbsfKa9Gl8J+E9WuoryXRNJvJrRfs8cpto3MQXjYDjjb0x2q5ZeHNF060ltbDSLG3gmjEUscVuqrIgGArAD5gASMHtVt6t+d/z/O6+70IWyXl/l/l/Wpet1VLWJY5GkRUAV2bcWGOpPf61JUdvbw2ltHb2sMcEEShI4o1CqijgAAcAD0qSh7gtjmdC/5H7xV9bT/0Ua6auZ0L/kfvFX1tP/RRrpqQzmfGn+s8Of8AYbg/9BeumrmfGn+s8Of9huD/ANBeumoAK8lm8Ja43iC6i0fSZ7ET3F473V2baWGHzUkAmglXE4ZmZcowIGSOgBr1quTPxF0g3FzDBa6lPJBdNZgRWpImuFYgxIejNhS3oFGSRUtJuw7tI4m+8G6nrGii0svCC6PJZaFc2Mgd4MXkzIoRUKscqGXdufbgkd81peJPBF1davfpY+Hopra+stPiEsfkqiGG4LSowLBuUI6Ag7cegrpv+FhaW6QpbWepXN7I0gewhtSZ4PLIDl1JAUDcvfncMZzVjTPHGj6vaNc2bTmNbD+0DviKnytzr0PfMbcVblrzP1/N/wCf3E205f66f5I5jVfAksknieWw0W2WW8vrGazdBGpKxeVvIOflxtbrjPbOazJtC8Q/8JZa3zeHLo/ZdckupPsws1hkhYOqurFvNdyGUtuKgc8cCuptPHqy3moE2dxdwCW3Wxhs7ctNIJbcTfNk4GATySAOnWpoPiNpF5NZW1nDfyXN4jusQtSTCEkMbmT+6FYEE5+mcipfuv0/4D/Qe69f+Cv1Mv4f+GNW8N6zdS6jp0aw6hD5kRjmDf2YN7N9jGW5QbsgqMZ3dttRa14U1BdQ8Q6jYaSsry6lp95AsTRrJcJCY2kAJIwcq3DEZP51qR/EG3tdH0i5vrLULn+0YoClzaWZEUjygYCgsSD7c4H0qxcePrGC9a1/s7VCWaaO3mNqRHcyRKzMiEnJOFbBIAOOCacvd17fo7/1/mC1+f6nOQ+GtV1zxmuraroDW9i+spd+TdyROyxrZGIMyqxGfMxwM44NQ2vhfUtE1tb668Mtq+npLqCQ2MDQEwedOHSRVdwuGUEHnIz05Na+k/EmC40qw1TV0exiuNKF69t9mZpGcyIg2EE7gS4CrjJyDmtB/iJpMNvKbu01K2uop4oGsZbU+fulz5ZCgkEMQQCCeQQcYotZ/h+n6Buv69f1OSvvBeqGDVI7PwzBBJf6HbW8X2WWLy7eWORy0W5mDfdZQCAQdvUYFTnwvqv2o6d/wj5+2nX/AO0v+Eg3xbfJ8/zM53eZv8v91t24x3xXf6Fr1vr9rPLbwXNtJbTtbzwXUeySKQANgjJHRlOQSMGtOn1T/re4PVNf1tY888PeDbnS18KynS4YLmzv7ya+kUpuCSJOFJYH5slo+Bnt6ceh0UUht3CuZ8Mf8jX4y/7CkP8A6Q21dNXM+GP+Rr8Zf9hSH/0htqBHTUUUUAFFFFABRRRQAUUUUAFFFFABRRRQAUUUUAFFFFABRRRQAUUUUAFFFFABRRRQBzPw+/5FST/sKal/6XT101cx8Pjnwm5HI/tTUv8A0unrp6ACiiigAooooAKKKKACiijOOtABRSbh6j86Nw9R+dAC0Um4eo/OjcPUfnQAtFJuHqPzo3D1H50AfO3xl0zxf4w+JGmz+GIPLt9FuRa6fJKwX7ReiJ7lzHnrgQqmTgbxjPUj3rQNVGueHrHU/Ikt2uoVd4JVIeF8fNGwPRlbKkeoNZHivaNf8G4wP+J254/68buumBUdMCgBaKTcPUfnRuHqPzoAWik3D1H50bh6j86AFopNw9R+dG4eo/OgBaKTcPUfnRuHqPzoAWik3D1H50bh6j86AFooBB6GigArm/Hfjex+H/hz+29Ws766tBMsT/Yo0do92cMwZlG3IxnPUiuj3D1H51i+MfD0Hi3wbqmhXBTbfW7RqzchH6o34MFP4UAcV8EviBpvjDRLyw0yzv4m0+eWaWa4jRYz508siKCGJJ2nnjjHXpXqFecfAzwbL4L+GNrBqEJg1G9ka6uo3+8hPCr+CqvHYk16NuHqPzoAWik3D1H50bh6j86APDP2hLDXfGElj4e0OELYWLw3F7dTHbF500oghjBGTuG9mIxwrA+gPpvw71PUdS8D2I163lttXs1+x38U33hNH8pYnodwAcEcEMCKT4gbf+ETGMZOp6eT/wCBsFdOCozjHPWgDjvFl/rjeNfD+haHqkemRahBdS3Ext1lf935eNgbjPzHrkYzxxWAPF3iRrtfCwv7cap/bTaadY+zDb5Qt/P3eXnb5mDtx0zzjtXSeKPBkfifxZouoXUm2006C5UmG5kgnSSTy9jIyYIxsbPI698mrX/CBeHD4fGj/Yn+zCf7UJPtEnn+f/z187dv3/7W7PbpSjtr/Wv+Q3/X3P8AU4+78W+JtN1qbwi2pW9zqEl/a28GrvaqPLimjkc74wQpkHlMB0B3KcVDrep6vBrKeGtbv01RrTVtHu4L0QLE5SS7ClHVflyCmQQBkGu0T4feHF0W40x7KSaK6mW4mmmuZXuHlXG2QzFt+4YGCDx2p9j4E0CwgaNLWad3uoryS4ubqWaaSWJg0bNIzFjtIGATj2prdX7r9P8AL5gnb+vX+vI4uy1zXbvVrLSdGu7XSlvtZ1aKeaKyQkLC+QwXoXPdjnJOTmpbXxT4kvJ7Pw2NUiiv5dXvLGTVvsq7jFboHyI/ub23AenBOK7m28KaLZ30N5b2eyeCee4jfzXO2Sc5lbBOPm9Og7YrG8S+CYr2wWPSNOsZi+oNf3EV3czws8jLgvHPHl4m6cqCMZGBmktEr9l9+n/BB639X+v/AAB3gfVNXu9S8R6drmoRag+lXyW8U8cIj3IYUf5gON2W59+mOldfXKeAvCL+FLPUTOlvFNqN39oaC2keRIgEVAvmPhnPy5LEAkk10eoX9rpenXF/qEywWttGZZpW6IgGST7AVT6ei/IlGDoX/I/eKvraf+ijXTV5t4Q8f+FdX+I+uW2ma3bXM2oNbi0SMkmbZCd+OO2Dn6V6TSGcp43uIo7zwvAzgSza5F5ad22xyMfyArq6+cPjRrPibU/itpUnhOwuLyDwtMMGMfLJdeWbiSMf3yIYxlRkjkfxAH6D0jVLbW9FstVsGL2t7AlxCxGCUdQwyOxwelAFyuH1T4bwajon2SSe0uJY9Wm1SH7bZCaAtIzkxvGW+YYcjOQcgHjpXcVwlv44vf7Tl0vTtMuNWu3uL0r5s8cKxpBKqEZC9PnAHBPr60tL/wBdLMfT+uzMqXwnqHhC5s73Qkjhu3jnjuH0rRIzbBXKMEECyKwI28OWbod3GAJNF+H+uweHLJItVh0+6n0k6ffpcWvnsoLu4KlXVQ48xgeGX8ud3WvF1yfhPc+KtBtiZjp5uoopiB5fy5Oex2+nfFY7+O9c0zVdbmvtHkuLHT7W1ubhFuI1+yqyMX2nGZDxnHA469qbX2X/AFv/AJv/AIcSezXX9Lf8Akm+GV0qR/ZdXtpArwGS2vLJpLecR2whw6CRd3TeMnAPGD1q54S+H0vhqdpJdSguALee2jSCz8lVWWcy5xuIGCxGBgYxVW++Iv8AY17dWzQNdSNqU9vG97dRWsMflpGdgkIxk7/lU8n5ueK2/FGt3dt4FXVbDfZ3Ej2pCuFZkDyxhlPVScMRxn2o+L3u/wCqt+QfD7vb9GZVl4F13TLnSXsvEGnSRaVYR2dtFeaS8nlkKFeRdtwoDNjGSDgcDqc1rX4aX8PiCz1KfVbCdrS8ln89tOP2qdJFdSjzGQ/dD4XAA4HHarVz8SjbeIW0o6QHmdp0t4lvojPI0SM/zRDlFYIdpJ7jIGak1L4oaTp9il4IzJbvZ29ysrSpGgad9sUbMxAXOGJJOAFpN82r/q4Wtp/XYqL8MJ20uxtrjXEM2nWCWdrPFZ7NpjmjlikZTI2SDGARwGyfu1dXwNf3urDV9c1eCbUftNrJ/otoY4ligZ2WMKXY5JdiWJPbjiqVp8V4NQihi0zTF1HUJL42XkWN9FNHv8oyqwmB2lcKcngjB44579CzRqXXYxAJXOcH0zVa7/P57i307/8ADGdpGj/2VdatN5/m/wBo3v2vbs2+X+6jj29Tn/V5zx16cVp0UUulim7u4UUUUCCuZ8Mf8jX4y/7CkP8A6Q21dNXM+GP+Rr8Zf9hSH/0htqAOmooooAKKKKACiiigAooooAKKKKACiiigAooooAKKKKACiiigAooooAKKKKACue8eeJo/B3gTVtdkKhrS3JhDdGlPyxj8WK10NZet+HdO8RGxXV4vtENjcrdxwk/I0qghSw/iAyTg8Zwe1AHmn7NfihNc+GJ02R83mk3LpLlss6yM0iufqWcf8Br1+uF+Gvh3T4dD0zxBbxGK/uLAW1wyNhZ0VyULL0LLyA3XBI5GMd1QAUUUUAFFFFABRRRQAVx3jTS7DWfEvhOx1eyt7+0e8nZ7e5iWSNiLaQglWBBwa7GuZ8Rf8jp4R/6+7n/0lkoAX/hW3gf/AKE3QP8AwWQ//E1m6z4W+GmgQwvqnhXQo/PfZFHHo6SySNjJCoiFjgDJwOK7euY8YXkVlLZtc2d8kciSxjVtPtvPmsGIXGFEbkB8EZxgYGeopMaK+m+Cfh3rGmw3+meFfDtxazrujlTTIcMOn93g54x2q1/wrbwP/wBCboH/AILIf/ia5qz0zVIvgFqdgLS7F41reC3TymW5mVnco7J1EjAhiOuT0HSsLxf4YmsdXjtIbQjSV0sLYp/ZNzqBW6LuZCpjlXy5jlCHfr6jBy3o7f11Etv68v8AM9C/4Vt4H/6E3QP/AAWQ/wDxNQWvgHwHdrI0XgzRVEcjRnzNHjTJU4ONyDI9COD2rzfxFZy2ek6qfE1jqd9ritZLY6kIHKxx7IQwMikpGd/mbkLZYt/FkVrvp7Jqqv4v0q/u9A/tDU2MAs5Z181plMLtGiklSm/a2CAT7ijrb+un+f3h0v8A11/r0O4/4Vt4H/6E3QP/AAWQ/wDxNH/CtvA//Qm6B/4LIf8A4mvPrDwhe6pZ3P8AwkWl3tx5Ph5xZJcq7GN/OnMS/wDXZYzGP7w/Guo8U2lxffDHR4tQF6JMWr3e2ya6wQoLefACHdN33lHPfsaOl/63a/QOtv62T/U0m8A+A1vo7Q+DNF8ySNpARo8ZQAEA5fZtB+YYBOTzjoan/wCFbeB/+hN0D/wWQ/8AxNcDpSXVrbw3N/4avrjTLfTNRQWdraTlbkGeExhIny8Yb5tqHoAccCs5NCePwlE+m2d1A11qcdxrlvLod4II4tjhIlgIjaWNG27tpJJ+ZuOKOn9d7f8ABD+vwuen/wDCtvA//Qm6B/4LIf8A4mj/AIVt4H/6E3QP/BZD/wDE15lcaHcLoNib9LqWzW6u5LSCfw/cSWgVggVPs6yNNFyGMbH7uW4GQK9O8KhDaac95pl1Z6r/AGXCJvOEjhF5/dmVuGYHJIJ3c5NNC/r8TI1Lw78L9Ia4XUPDXh+I2yRtKP7JjYjzGKooAQ5ZiDhRkn0qbR/Cfw21+ze50rwtoE0cchikDaTHG8bjqrIyBlPI4IHWsW7v5dKm8TzHSH1TUl1+F4FFrLcCBTBH5czLErPtUBug68cZzWz4WubHTrWWSSTUr3UdavW86a80qezEs4iyFCSINiBI8AnI46k1K+G/l+dv8xvR2/rr/kVNL0j4U6zqX2DTfDvh+a4KsyA6OiLKqnDGN2jCyAHqVJq/qng74b6JZi61Xwx4ctYWkSJXk02H5nY7VUfLySTXP6XO1z410TUrLTtWtYLCynjvNLuLBkg0tfLHywERqHcsoHBfIzjAqP4g6X4g8S2sWs6TaWmpaZstZNOhaSVZoy0qM8hjEZySMDORtXdxyarsHc6i28DfD68nuobfwloDS2knlTIdLiBRtoYdV6EEEHpVn/hW3gf/AKE3QP8AwWQ//E1X0nz3+J2rOVRQNJs1uhGxZBPvlOASBnCn0HBFdbS6B1OF/wCEZ0Lw98SvDz6Boun6Y09rerKbO1SEyACIgNtAzj3q98RbW3vvD1jaXsEdxbT6xp8csMqBkkU3UeVYHgg+hqbWP+SjeGf+va+/lFR47/5BOl/9hvTv/SqOgBf+FbeB/wDoTdA/8FkP/wATWPregfC/w7JFHq3hjQopJVZ1jj0ZZn2Ljc5VIyQoyMseB613tcJ411O4tfEENpYWV3avc2ZW41u30e4vmii3cRRiJGG8nJy3A4OGzSd+g0SXvhb4Z2Ggf21ceGPD508ojrNDpUcu8OQF2hUJbJYAAA5zWhH8OfA0kauvg3QgGAIDaVECPqCuRWR4n8N2N38KNP0nS9OuLq0t5LIW8E1u/mhFmjBLIwDA7N2cgYGc4rlX0TWD48m80SRX66yj2s0WjzySLZqy7Qt15qxLFsBVkIznPBJFVpzW8/8AL/P8GTry3PQZPh14EijaSTwfoCogLMTpkPAH/Aais/AXw/v7GC8s/CXh6a3uI1kikXTIcOpGQR8vpXm9jYXV34mtZrjRZ4DePfQajEulXIYb45NiTXLkiYFgCCoCrxyOKs6UZtF8MwxwaRqyrd+ElsreCDT5yftatJ5iEBfkbc2ctgEcg4qb6X/rZv8ARfeXbW39bpfq/uPRv+FbeB/+hN0D/wAFkP8A8TR/wrbwP/0Jugf+CyH/AOJrzy88MavLouu30FjeLqKxadFE7xSs3keTCLhY0BUsSAwYKQxxtyDXV/DLT5rN9XkjJTTppIvs8MelS6fCGCne0cUsjOM/Lk4UEjjPJq7WbXYhO6T7mx/wrbwP/wBCboH/AILIf/iar/D+ytdNh8QWWnW0NpawazMsUECBEjGyM4VRwBknpXW1zPgz/j48S/8AYbm/9Fx1IzpqKK5TxalzeeIvDumQ6leWEF1LOZzZy+W77IiVG7B4zzQB1dFcz/whQ/6GXxF/4MD/AIUf8IUP+hl8Rf8AgwP+FAHTVFdWsN7ZzWt1GssE8bRyRt0ZWGCD9Qa57/hCh/0MviL/AMGB/wAKP+EKH/Qy+Iv/AAYH/CgDyL4C/DKbw38SPFV7qMbMNHmbTrR3UfOWw5ceh8sp+ElfQdcuvgdFZiviLxAC5yxF/wDeOMZPy+gA/Cnf8IUP+hl8Rf8AgwP+FAEfiKCKDxR4OWCNY1bV7hyFGMs1ldEn6kkmunhhit4/LgjWNMk7VGBknJ/Uk1y8vgG3mlhkm17XpJIGLxO97kxsVKkqdvB2sRkdiR3qX/hCh/0MviL/AMGB/wAKAOmrA07wdp+ma02qQTXLTsbklXZSv7+RZH4C54KDHPTOc1B/whQ/6GXxF/4MD/hR/wAIUP8AoZfEX/gwP+FHW4dLFpPCdgnghvC3mXDWDWjWhcsPM2EEZzjGefSq7eCLObTtWtbu/vrltXtY7W6ncxhyqKVDDagUNg88Y9qb/wAIUP8AoZfEX/gwP+FH/CFD/oZfEX/gwP8AhRuAy78DpLJdSWGt6nYNd3Es86xmKSOTzFQMpjkRlIGwYOMjJ5wcVcPhDTv+EOtvDSPOljbLCqMHG/EbKy5JGOSozx9MVW/4Qof9DL4i/wDBgf8ACsfxPodz4f0P+0rHxHrrTw3VsAs15vRg08asCpXkEMRQtFZf1bYHq7lq3+Hcem3drdWmsalLHp95Le2tkfIEe+QPvUt5e5s72GWJIz1qLQvh/Enhe7tdSEljd3t+b9TbShmsmD7oVRiCDsAHGCvLDBBruaKNv6/rsD1/r+u7OdtPCCRXdneahq+o6jd2l010ktw6AFjEYtuxVCqoVicKBzySa6KiigAooooAKKKKACuY8MH/AIqvxl/2FIf/AEhtq0vE+hQeJ/CupaJd4EV9bvCWIzsJHDfUHB/Cvnj9mbwLPb+NNc1nVbcpJoxbT41YZ2zkkSYPqqjB/wB+gD6cooooAKKKKACiiigAooooAKKKKACiiigAooooAKKKKACuG8NXHjjxF4V0rWv7d0G2/tGziuvJ/sSZ/L3oG27vtQzjOM4FdzXM/DX/AJJV4V/7A9r/AOiVoAP7P8cf9DLoP/ghm/8Akuj+z/HH/Qy6D/4IZv8A5Lqz4qbU1tbT+znu47cz/wCmyWMavOsW1vuKwOfm25wC2M4rIt/FsGk6aqTaqmoSTXrW9u2oMLN4gEDlZyyDaRz/AAZIKcHOaAL39n+OP+hl0H/wQzf/ACXR/Z/jj/oZdB/8EM3/AMl1FZeNX1aa3ttI0+O6uZUnZz9rAhQxOitiQKdwO8FSB9cc4qf8J88c099cW0celf2da3EW+YLJ5s0joFbI2gZAGc4GM9+ADQ/s/wAcf9DLoP8A4IZv/kuj+z/HH/Qy6D/4IZv/AJLqvD48S4mW0trW3vL1rmO3C2d6ssPzo7q3mYHA8tgRtyMcA8ZtReKp7mdLC105W1XzJkkge42xIItu5vM2kkHzEx8ufm5AwaA/r+vuM/RvDPjHQtGttMs/E+itBbLtQyaFKWIznki6HrV7+z/HH/Qy6D/4IZv/AJLqC+8dR2MqW89tBa3i2wuZ7e+vkgKAsyhUJyHYlGx0GMZIyK1L7xHHB4fs9VsrZ7tL54FgjDBCfOZQpJPT7wJoApf2f44/6GXQf/BDN/8AJdH9n+OP+hl0H/wQzf8AyXSQ+LLs3MiXekrDFbX0dhcSrdb8SybdpQbRuX94mSdpGTwcVXPjpG1dtLSKzF3IJxBAL9WmVo1ZsyxgHy1IU4OT2yBmk3ZX/ruNK7sWf7P8cf8AQy6D/wCCGb/5Lo/s/wAcf9DLoP8A4IZv/kuqFn4w1C60X/SLAxzR6Kmo3V1BMuI96OVCBlOWymcEYGec451IvFIOq2+kGzna9mCSRgkYeAqC0xYDAAPykddxUdGBqmrOxN9L/wBdP8yL+z/HH/Qy6D/4IZv/AJLo/s/xx/0Mug/+CGb/AOS66aikM5jQ9Q12Pxde6Lr15p96IrGG7ims7J7bG+SRCpDSyZ/1YOcjrS+Iv+R08I/9fdz/AOkslFv/AMlYv/8AsCWv/o+ejxF/yOnhH/r7uf8A0lkoA6auYt/Hum3GrQ2i2l+ttcXb2UGotCot5Z1yCgO7d1VgCVAJHBrp6890y11rUfFcV34o8Oaqsdtdu1hFFLZiytBkhZmCzeZI5U5JK8FjhR1IviSB/C2dBrfjXTtD12DR5Vae9mtZrsRpNCmyOMZOTI69eg+hJwASI4/H+iHXE0m4la2u5L37FEkrL+8k8lZeMHphwM/3uO4rL8ceGdQ1nU7q40+yWff4evrJHLIp86QpsXkjqA3PQdyM1kJ4T1m28S2t8+ltIg1sS743jLRxNYLD5vLdFkHI68ZAPFJPS7/r3rfkN76f1pf8zqJtN8Fan4iub2WTTp9Ssyst0q3Y/dmP7ryxhsZXAwWGRgelareJ9AV4UbXNNDTyGKJTdx5kcHBVeeSD2FeT6d4A8QjSUsLi11NrnT9NvLcPNLZJbyySRMgEZjQSuHJ3HzGXBAJJNafiLwfqUEdvHoOgziU6TFZj7N9le1kZSSYriKXBVQTnfGcnJ9Blrt0/4f8AyX3if9fh/n+B3/ifxVp/hSytp9R3M11cJbQRI6Kzuxx1dlAA6kk8CrsOtaVcahNYW+p2ct5bjM1uk6tJGPVlByPxrH8V6Nd6va6GkVtHNJa6nbzz8rhEXO4jd1Ht1rkdH8M6yqeH9Ml0J7ObRZriW61QyRFLvdHIvyEMXJkLhm3AYxz2pbJ/10X9fkG9vT/P/gHpVlqVjqSO+nXtvdrGQrtBKrhSQCAcHjgg/QiobXXdJvvtP2LVLK4+yZFx5Vwj+Tjrvwfl6HrXP6B4YudP+ElvoEEUem6i2leQ5jx+7nMeCxK8E7jnIzXDWngzxGmkzGLTL5rq10c2CwaibDypCXQskaQoPMACMVMrAZIyOWqnpJrt/wAH/L8QWyf9dP6+R6vB4i0W602XUbbWLCaygOJbmO6Ro4/95gcD8az7jxz4ftb2zim1O1W2vLaS5ivjcRi3Ko6KRv3YyS4xj0NeeReGPEZ1m51CfRtSvLYXlje+RevZrLdJEsqsm2IrGGUujhTwQo5zxXR6X4bub3xhaaxeeGYNNtfs99+5d43ZHleLazgEgOyo5O3IHQnJpf8AB/L/AD/IOn9d/wCvvO0Y6bbu2rvJbxebEiNdFwFdM/IN2cEZY4/3veq8mueH3msGm1TTGluCWsi1xGWlJ+UmPnnuOPpXJv4V1Ob4J6f4cnsQ99HFaxzWzSIRhJULjOdpAUHvWN4s8EavdeItbSzttQlsdWt4IbcWJskhiVF2lJGmRpIwDlwYwepwM03pK3mC2uz0q41jRxfHSrvUbEXUigGzknTewbgDYTkg5x05zVePxJpFtpVtc393aaVDMzRQpc3MSAlWK7VIYqenQH8jxXmFz/oepQ6S9jb307eL4J/7TW5hdv8AXK20rnzBIqfKRtChRnPatDS/DmtaB9nnvvDUmsiTTp7MW0UsBNu7XMknO9wNjq65IJI2jIqb+7f+tr/rb8R2/r52/wCD+B6C2p+H9Hvnil1DT7O6vZgzJLcorzSFQBwTkkgAAegGK1q8kt/h3q1v4S8Q2VxZRXd/caJZ2drNvQmSSONgyhicqA2ME46A163VPR2EtVc5nWP+SjeGf+va+/lFR47/AOQTpf8A2G9O/wDSqOjWP+SjeGf+va+/lFR47/5BOl/9hvTv/SqOkB01UtR1nS9IUNq2pWdiGGQbmdY8jIGfmI7kD8RV2uS8Q+HZtU8ZWl8bKO4toNIvLcO5U7ZZGj2gAnPIVuenr1qW2vx/Jv8A4A0k9zdh1/R7j7V9n1Wxl+xjNzsuUbyB6vg/L+NMj8SaHLp/2+LWtPez3FPtK3SGPcBkjdnGQATj0Fea3HgrXrLQ9Lj0zRYDJB4dhsrmLELfvRNEzgKx2s4VZCCfl3dTzWZcaZq2m63b3GqaHqN6l34htbmCO8e082fbayqQRGVjDgrkDgfd5znF21t8vxt+WpPS/wA/wv8Anoevy+ItEg0uLUp9YsI7CY4junukETn0Dk4PT1qHxD4m07w14bn1y/lDWkSBl8tlzLn7oUkgEnPHOK89n8L6v5P9promo2sk2qXN5BBp81s09kskaIA0cpMThyrFgDkbuD1rfvPD2rXvwbj0WbT7can9niU2sOxEUhwcDnaMKOxxnOO1Ldfd/XyH1+/8zqIfEOlST2ltJqFpDe3cSyxWb3MZlYEZ4UMd31XI9DVi21OwvbiWCzvba4mh/wBbHFKrMnJHIByOVI57g+ledan4Z1aSbWdJh0JpZNS1aG9t9ZV4hHbxKYyM5beGQIVACkHI55OOq8DaC+haPdrdWcdtdXOo3c8hXaWkV53ZGJHX5CvXp0p7q/8AXT+vkD0/r11/D8Tpa5nwZ/x8eJf+w3N/6Ljrpq5nwZ/x8eJf+w3N/wCi46QHTVzOv/8AI9+E/wDrpd/+iDXTVzOv/wDI9+E/+ul3/wCiDQB01FFFAGP4o8RReGtIW7ki8+WWZIIITIIw7seMueFUAEknoAab4c1+TWtJlvLu0jtPKkZC0NyLiGVQAd8cgA3LzjoDkEYqr438NyeJNLs1t47Waewvor2OC7yIpimcoxAOAQTzg4OODUfhbw5daba61JfxWtnLq100/wBks3LxW4MapgEquSdu4nA5P40tbS79Pw/4I9Lr+u//AAC/N4u0K30+C9n1GNLa4s3vopCrYaBApZ+nQB19+apN480a4sLqfS7uKV7V4RItyksA2yuFVhlCWU87WAIJHUda49/h/wCKr/Q7XS7z+yYI9P0G40mF0uZHMzuIwsjDyxtXEfI5Iz3re8R+CtR1fUru4tZrVEns7GBRIzAhoLkytnCngqcD39OtVpzLt/wX+lvvJ1t5/wDDf8H7joF8V6G1naXY1GMQXjSLC5BG4xhi+cjjaEbOcYxVSL4geGZbK6uzqfkwWiJJM1xbyw4R22o4DqCyk8bhke9YQ8A6rDrWvXVlqFvDDNBcf2Mu0sbWa4AMzMCMY3qCMZ4Zqxk+HPiK4uLl50tIhdWltC/n6vcXjhobhZSS0idGG7CgADA9eFHVq/8Aw2/9fMctNv62/r5HZp460j/Sp57lEtYhB5RWOUzSNKGKr5XlhsnacAbiRk4FM/4WFokuraPZWjyzjVWmRJBC6iJo+quCuVOeCDjHesrxF4Q16613UNR0q4h8m6ntHe3W9ktZJY4o5FZfORS0fzOpBXkgEZGazdL+H+v2Zs0nWyEcd9fNKUvZXZYbmPG5WdCzOpyPmPzdcjOKWuv9dv6+Q9NP67/18zttJ8X6Frl81npd+JpghkUGJ0EqA4LRswAkUEgZUkcitqvO/BXgLUdD1XTptUjj26VaNbRTf2vd3RmJCruWKQhIVwvKgNzgAgDn0SqduhOoVzPxD/5Eub/r7s//AEqirpq5n4h/8iXN/wBfdn/6VRUhnTUUUUAFFFFAHNeItR1tfEmkaPoN1Y2bXkFzPLNeWj3GBEYgFCrJHjPmHnJ6Un9n+OP+hl0H/wAEM3/yXRqv/JTfDn/YP1D/ANCtqzvHdrpt7q2nwXthPrt40EwtdGUgRMcrmeQnhQvADHpuOATSYzR/s/xx/wBDLoP/AIIZv/kuk/s/xwCAfEug5PT/AIkMv/yXWdeS6x4L+Fun20l6kupo1tZPeyZkSEySrGX+blgobgnrgZrI1G/n0vxbpf8Aamvxap/Zk947TtCqyQL9iLlZVjAUkdflA4I703ZXfb+v1Eruy7nU/wBn+OP+hl0H/wAEM3/yXVPT/DHirSmuzp2t+HbY3lw11ceX4flHmSsAGc/6X1OBzXJW3jLxUhvLc3j+dPoy31rJqyWsAEjSogKCNjtVg/yiU5zjPerP/CTeJ5IDplveX51GG/CXFvNBZx6gIjCXxHk/Z5TkZyMHb2zzQ9P687Bv/Xlc7D+z/HH/AEMug/8Aghm/+S6P7P8AHH/Qy6D/AOCGb/5Lrz5/iD4n1GG5Oky3bjS9PWeSeO2tIUll3SKxuBPKpRAY9p8vvuOcYFbd14r8QQ+Jkubq5e30oXFpAy2scFxBG0qpujn585XLP8rLlcFSc801q7f12B6Grrtz418PaLNqk2t6Hdx25QvAujSxlwXAIDfamweeuD9K7euZ+Iv/ACT/AFP/AHY//Ri101IAooooAKKKKACiiigAooooAKKKKACiiigArmfhr/ySrwr/ANge1/8ARK101cz8Nf8AklXhX/sD2v8A6JWgDU1jRhqwtnjvLixurWQyQXFvt3KSpUghgVYEHkEfkQDWcng+JP8ASP7TvG1P7T9pN+wj3lvL8vbtC7NuzjG33znmujooAyrHQUtL6G9lvbu7uoopYjJO4O4SOrngAAYKAADAA7Vn/wDCD2KwpDHd3aRpaw24wU3AxSGSOQHb95WJPoe4rpaKAMaLw7m5gub/AFO9vZ4LgXCGQoqqRGyBQqqABh2JxyTjnAAqOXwrCL5r6yvbq0vDNJL5ybG4kCBkwykFf3aH1BHXtTPGkOnP4feXUNKstTmVlis4ryBZV86RgifeBx8zDOO1WdI0WDw14WTTdLMNuIImIkeMBPMOWZ2UEDG4kkDAxwMUu7/r+th72X9f1qVv+EU8pllstY1G2uGg8ie4DI7zruZgTuUgMC7YKgAbsYwBjSutJgvLK1tpZJilrLFKjb9zM0bBl3E5JyRz3PrXKeB/HV74t1Wa3ngtbOO1twWGWLXrFsCeAnGYPlOGwSSe2OcPxZbG08Sa14puINE1e006S2RraWVzcwgBflXHyo5L7gCDuyOlV1X9df8AMXc7+Tw7aSLchpJv9Jv4r98MOJI/LwBx9390ue/J5rPtfBFvaGyWPUbzyLCR3gg2xBQHVlYMQmW4c8k5985J6YHIBoqbK1gv1MGy8JWtppk9m11czC40+PT3dioYRIHCkYXG7EhGfYcdcuTwnYpqCX4muTexyI0dyWXeiKu3yh8uPLIzkY6knOcEblFVfW4dLBRRRSA5m3/5Kxf/APYEtf8A0fPR4i/5HTwj/wBfdz/6SyUW/wDyVi//AOwJa/8Ao+ejxF/yOnhH/r7uf/SWSgDpqKKKACiiigAooooAKp6rq1lounte6nP5MCsq52lizMcKoVQSxJIAABJq5WF4w0efXPDzWlrbWt0/mxyeTdSvErhWB+WRPmjbjIcA4NJjRFH400u5ltWs7iOS2ljuGk3JKsyGHbuXytm7I3cg4I4wDmmw/EHwzPDeypqLKLHyxcLLbSxupkOEAVlBYt2ABJrnNO8IeLLGW31BbmzkvLVL37NBeXks/lGVYxGrTFN0gBRiSRnkAZxmq3/CA+ILrwvFZ3tvYx6hb38epSXMGsT79QmGQ++RYY2i4Pyld23AGMCn/wAD8/0X9MXT7/6+Z6FpGtWGu2bXWlz+dGrmNwyMjxuOqsjAMp5HBAPNXq5rwV4dn0CyvnvYkiub66M7ot7PdlRsVQGlmO52wo5wB0GOMnpabEgooopDKn9lacNT/tEWFr9u27ftXkr5uPTfjOPxq3RRQAUUUUAczrH/ACUbwz/17X38oqPHf/IJ0v8A7Denf+lUdGsf8lG8M/8AXtffyio8d/8AIJ0v/sN6d/6VR0AdNRRRQBBe3ttp1jNeX86W9tAheWWQ4VFHUk1iJ4x8NXmnz6g92vlae6GQXFtIkkTPwhEbqHy2cKQOc8ZqXxp4fk8UeEL7SIJhBLOqmNyzKAyuHAJXkAlcEjkZ4rkF8C6+NP1K5tvLsr+6a2Tyzrd3cySQxOWZDcyZaPduO0omV9eeEPodZ/wnPh7+zDffbnEYuPs3lG2lE3m43eX5O3zN2Ocbc456VlyfFDQIdXEEtxmxewW8ju4o5JCR5jo4ZFQlAuzlmxjODisHS/AviXSNWOrwW+nyTw6i15Day6nPKHSS2WF1aaRC+9doIYg5yRgVtW/hLWprjU7zUpNNW5v9GayK2wZUSVpJX/u8qBIo3dSQTgUPTVf1p/mC1/rz/wAjtopUnhSWF1eORQyspyGB5BFOqjollJpvh/T7GdlaW1tYoXKElSyoAcZ7cVeqpJJtImN2lcK5nwZ/x8eJf+w3N/6Ljrpq5nwZ/wAfHiX/ALDc3/ouOkM6auZ1/wD5Hvwn/wBdLv8A9EGumrmdf/5Hvwn/ANdLv/0QaAOmooooAKKKKAOffxnpcfnq63Alh1JdMaHYNxlYAggZ+7tbdn0BNUofiRorgTXMV7Z2MkMs9tf3EIWG6SMbnKEEt90EjcBkcjNS3Hgi3ufHo8RyXTeUYNr2Pl/K0wVkE27PURuy4x6HPFczYfBewtrWSxnbS1tFtJrWGa00mOK7cOpUNLMSSzKD/CF3Hk+lLW39f1vr8x6XNPVPiW1pZwPb+HNWWeW6tYxDcwohaKZ9odSHIz1G0kEEjIGa0ofH+mTX0cQtb5LSaeS2t9RaJfs88qbtyKd27+BgCVAJHBNUrzwf4j1PTSmpeJLaW5hmtZbUR2BSBDBIH3MnmFmZsYOGAGBgU228AXsZs7CfWIZNE0+7kvLS3W0ImDtvKq8m/DKpckYUE4GTxyPbT+lp/wAH5iXn/T1/4BLB8TdOu7KwuLPSNYnbUVeS0gECLJPGiqzSKGcfKNwHXJ7Ajmuts7qO+sYLuEOI541kUSIUYAjPKnkH2NcZqPw9nufC2iaNFd6bdR6Zai2dNT00TxykKoEqgOrRuNvGG7kehrqtD0w6NoFjprXUt2bSBITPKctJtGNxqtNRa6F+iiikMK5n4h/8iXN/192f/pVFXTVzPxD/AORLm/6+7P8A9KoqAOmooooAKKKKAOQ8UXZ0rxtoGpzWWoXFpFa3sMj2VjLclGcwFQVjViM7G5xjiqerat4N16aOXXfCWoalJEu2N7zwndTFB6AtAcCu7ooA4xfEvhlNH/slPDurrp3lmP7Gvhe7EOw/w7PJxj2xUNlrPhDTreKCw8LapbxQl2jSPwtdqELjDEfueCRwT3FdzRQB55BN4CtUKW3gu9iVkdGVPCV0AyvgMp/c8g4HHsKX7T4F/sn+zP8AhDtQ+w+Z5v2f/hFLvZv6b8eT97HGetehUUAcDPf+CbkWYuPCGoSCxULahvCl0RAAcgL+54GecCpJ9Y8H3WtR6vc+FtUl1GLGy7fwtdmRcdDu8nPHb0ruqKAPP/F/ii31zwtd6bpula/JdXJjSNX0K7jXPmKeWaMADHckCvQKKKACiiigAooooAKKKKACiiigAooooAKKKKACuZ+Gv/JKvCv/AGB7X/0StdNXKwfDbw5a28dvapqkEEShI4otbvVVFHAAAlwAPQUAdVRXM/8ACvtC/v6x/wCD29/+PUf8K+0L+/rH/g9vf/j1AHTUVzP/AAr7Qv7+sf8Ag9vf/j1H/CvtC/v6x/4Pb3/49QB0U1vDchBcQxyhHEiB1DbWByGGehB6GnSxJNE8UyLJG6lWRxkMD1BHcVzf/CvtC/v6x/4Pb3/49R/wr7Qv7+sf+D29/wDj1AHQi1t1ljkWCISRIY43CDKKcZUHsOBx7CqF14Z0O91eLVbzR7GfUIsGO6kt1aRcdMMRnjt6Vm/8K+0L+/rH/g9vf/j1H/CvtC/v6x/4Pb3/AOPUAdNRXM/8K+0L+/rH/g9vf/j1H/CvtC/v6x/4Pb3/AOPUAdNRXM/8K+0L+/rH/g9vf/j1H/CvtC/v6x/4Pb3/AOPUAdNRXM/8K+0L+/rH/g9vf/j1H/CvtC/v6x/4Pb3/AOPUAFv/AMlYv/8AsCWv/o+ejxF/yOnhH/r7uf8A0lkq7o3hTSdAvLi706O5NxcRpFJLc3s1yxRSxVQZXbABZjgY61S8Rf8AI6eEf+vu5/8ASWSgDpqKKKACiiigDhb/AMb6lpHi7XbS7sEnsrSCzFkkUoEk087siqcjgE9yflC55zxW1Xx5rsF/aaZHo0FtqSanbQXcRu/MjaGYMVKPsBOdjA5UEFe+a3dX8DWWs6rfX017eQm8t4Y2SFkAjkhkMkUykqSHUk9ypzyDVd/h9BPG8tzrOozanJeQXbaiwhEm6HIRQoTYFALcbf4ietEel+6+66/4PyCXW3b8bGVN8TfM1a60hLe1hnaK6EDQ6hHPPE8KMwMsQGI8hcj5j7gVF4f8c6gmqW0WsFrm2u4dMj835VEEs8DsWIA5DOqr7EjFaEHwvs7f7JGmt6obaxab7NbHydkSSqyuvEeWyHPzMSRgc9cxeIPAIHhe903QlmnuNQgtLPzZ51T7KsAxHMMLksvBwOpxjFJaL7v1v6dBuzf3/pY1JPGYPw+1TxTFaFYbSK5kt1Zs+ekRYK/TgNtz9CKzPA2v6pfay1nrGo3UzzWK3SQXunrbMfmwXiK9Y+QMP844z1rql0DTx4XHh9oQ2n/ZPsZizjMe3bj8qo6H4Sj0fUhf3GqX2qXMdsLSB7wx/uIcg7RsRckkDLHJOBzVKyk+3/D/APAJesfP/hv+CcnF4q10eKdTj1GSWK2GtjT7SKCSIoqi0aU7gYtxzwx+brgDAB3UtN+J2qaZYxXfiGKGaxXQLG7MxmSNpLiZimTkBVBbg84ULnvgdvL4K06a+e6aa6DvqX9pEB1x5nkeTj7v3dvOOue+OKzZPhjpbwwQrf6gkMGnQWCqrR5PkPvhlzsyHVsnjAPcGpjdLXy/LX8SpavT+tf8jOtviwl7GYNP0611HURew2Yi0/U454GMqOyMJgoGB5bBgVBGO/GdHT/iA974yfQX06CF45jBIpv1+0KQm7zBCVBaLPAcEk9cCr8HgyLzLefUdX1HUbqC9S8E07xqCyIyKoRUCquGJ+UAk8k02TwRDP4gh1G61bUJ4Le7N7BYymNo4piCMq5TzAvJO3dj8OKpb6/1t/wSXtp/W/8AwDp6KKKQwooooA5nWP8Ako3hn/r2vv5RUeO/+QTpf/Yb07/0qjo1j/ko3hn/AK9r7+UVHjv/AJBOl/8AYb07/wBKo6ALvinX28NaJ9vjsnvpGuIbdLeNwhdpJFQcnjq1clqvxetNF1Oaz1G3sIZLHylv4n1WNZkdwGIhjIBmChhk/LnkDJGK7bWdGt9cs4ra7eVEiuYblTEQDuikV1HIPGVGfb0rKvPBUNzrNze2+rajYxX0iS3tpauipcOgAB3FS65CqDtYZAojvr/W3/B/AHtoZ/8Awn9zJd28kGiM+kXWpnTIr77UA5kDMjOY9vCblYA7snHQZrP0z4i3lxoIudO0mfVEsbBLzUZp7pI5EVtxCqFQK77VJxhB05yar/8ACF6xL4stUSG7tNJtdYbUgpvo3tuSzZRAglDszcqxKLliO1a6/DCwt7L7Hp2r6pZW01otneRxPEftcS5xuJQlWwxXcm04P0NJX5fP/gdfmPTm8v8Ag/5EbfEiVp7ie10Qy6Ra3tvazXpugrHzxGVZY9vIHmrkEj2z0Gp4y8YDwmljm3gc3srRia8uha28WFz88pVgpPQDHJ7inv4H0ttPv7JHuI4L68hvHVGUbGi8oKq/Lwv7lcg5PJ59LmvaDJrXkNb6re6ZNBuAe22MsisMFXSRWVhxxkZHbvTe2n9aL9bij5nPx+M7yW4vp7Wyz5Gm2t5Jb3d7HFDCr+buYSKjZI2cnJBGMY5znyfFoW+m6XJfabZ6bealFJcxQ6lqqW0YgUgK/mOudz5BVduccnFXZvhNo76WLC21LVLSLyreJ/JeE+YsLO6hleNlILSEkYwcAYA4OjceCpJ5La6/4SXVl1K3R4RfhLbzHhcgmMqIQmAVBB25B70Pd/1/XT5XD+vy/wCD+Br+HdctvEvhyx1mxDLBeRCRVYglfUZHBwcjisvwZ/x8eJf+w3N/6Ljre0+yj03ToLOF5ZEgjCB5pC7tjuzHkk+tYPgz/j48S/8AYbm/9Fx03a+gle2p01czr/8AyPfhP/rpd/8Aog101czr/wDyPfhP/rpd/wDog0hnTUyaVYIJJXztjUscegGafQRkYPIpO9tBrfU86HjjxHB4Yg8RXVnpclnqVukllbRuySwvI6LEsjEkOD5gLFQu3HQ9aXUfGfiXSNSbRLiHSrnVGns1iuI0kjhMdw7p8ylmYMpjJ68j0rdh+HXhiFZ0NhJLFNC0AhmuZZI4Y2IZliVmIjBIB+THQY6Cp7TwRodnyILi4l+0RXJnuruWaVnj/wBXl3YkhcnC5xyeOarS67fpfb/g/wDDi1s+5z1v4w8RXWqL4djTS11gX1xA920Mn2fyooopNwj37tx85BjfxgnPaqfiP4ia5odm7+XprXVlY/ary2t7e4u97BmBG+PCwKQmQzk9SMcc9ffeDND1FpJXgmimkuTd/aLa6lhlErIsbFXRgVBRVBAODjpVK4+Gnha4g8g2E0Vu1sLWSCG8mjjmjXO0SKrgORuJy2Tk1KvZX3/4BWl/L/g/5HL3XjjXNE1LxC07xXSSatbWWnxLbTS/Z/MgWQkpHlnAXJ2qMls8gHi3ZeOfEupXVjpltZW0F5cXs1sbu9sbmCN0SESiVYZNr9ypUnqPvV0sngPQZftXmw3LNdCEyN9sl3b4gFjkU7srIAB84wxxyas6f4R0bTJbaa2tpDPbSyTJPNcSSSNJIu12dmYlyVwPmzgAYxiqVrWf9bf8H7yNdP6/rp9xxl18RtYXRLOWFbBL/wAm6e4hSzubsu0MzRfKkfMaMUJ3u2B05qjL8Q9bstQvtScRS2t3Y6YbKyEMsnkS3JbkhMswGGyFXLYUDHNdtcfD/wAOXBTdazRBVkRhDeTRiVJJGkdH2uN6l2Y7WyOSOnFNX4eeHBD5Rtbhk+yRWeDeS/cibdGc7uHQ/df7w6A1KvbX+t/+AW7X02/4b/gnPWPj3xBqF5BosFnBFqVxdtFFfXmn3NtA8SxeYziGTbJuH3du7HfPat74eXWoXeg3z6xKJbtNVvI3KyM6rtmYYUtyFGOB2HFTnwFoJsRbmG6MguPtP2v7bN9p83bt3+du352/L1xjjpWnouh6d4e077DpEBgt/MaUqZGcl2OWJZiSSSc9apbv0/yIey9f8/8ANGhXM/EP/kS5v+vuz/8ASqKumrmfiH/yJc3/AF92f/pVFSGdNRRRQAUUUUAFFFFABRRRQAUUUUAFFFFABRRRQAUUUUAFFFFABRRRQAUUUUAFFFFABRRRQAUUUUAFFFFABRRRQAUUUUAFFFFABRRRQAUUUUAFFFFABWJ4h8PS61Pp1zZ6nNpt3p8zSxSxRJJndGyEFXBHRq26KAOZ/wCEf8S/9Dpc/wDgvt//AImj/hH/ABL/ANDpc/8Agvt//ia6asnxRrD6B4YvtSgiWaeGPEETHAklYhY1J93ZR+NAGf8A8I/4l/6HS5/8F9v/APE0f8I/4l/6HS5/8F9v/wDE1xfxH+KXiLwr4y/sbQrDS54ks4p5JLwybizs4wNp6YQVyv8AwvLxz/0CvD3/AH1P/jWUqsYuzO2ngq1WCnFaM9e/4R/xL/0Olz/4L7f/AOJo/wCEf8S/9Dpc/wDgvt//AImvHLr49eNrS1kuJNI0ApGpZgrTZIHpzUv/AAvLxz/0CvD3/fU/+NL20C/7PxF7WPXv+Ef8S/8AQ6XP/gvt/wD4mj/hH/Ev/Q6XP/gvt/8A4mvIf+F5eOf+gV4e/wC+p/8AGok+PXjZ7qW3GkaBviVWJ3TYIbOO/wDsmj20AeX4hdD2P/hH/Ev/AEOlz/4L7f8A+Jo/4R/xL/0Olz/4L7f/AOJryH/heXjn/oFeHv8Avqf/ABqK6+PXja0tZLiTSNAKRKWYK02SB6c0e2gDy/EJXaPY/wDhH/Ev/Q6XP/gvt/8A4mj/AIR/xL/0Olz/AOC+3/8Aia8h/wCF5eOf+gV4e/76n/xo/wCF5eOf+gV4e/76n/xo9tAP7OxHY9e/4R/xL/0Olz/4L7f/AOJo/wCEf8S/9Dpc/wDgvt//AImvHG+Pfjdb5LY6RoG942kB3TYwpUHv/tCpf+F5eOf+gV4e/wC+p/8AGj20BLL672R69/wj/iX/AKHS5/8ABfb/APxNH/CP+Jf+h0uf/Bfb/wDxNeQn45+OQpP9k+HuB/en/wAa9z8O6qde8L6Vq5h8g6hZw3RiDbvL3oG25wM4zjOBVxnGexhWw9ShbnW5lf8ACP8AiX/odLn/AMF9v/8AE0f8I/4l/wCh0uf/AAX2/wD8TXTUVZznNWPha/j8RWmrav4huNSeziljhia2iiUeZt3E7FBP3BWh4j0P/hINKW0W8lspI7iG5iniVWKPFIrrwwIIyvStWigDmf8AhH/Ev/Q6XP8A4L7f/wCJo/4R/wAS/wDQ6XP/AIL7f/4mumooA5n/AIR/xL/0Olz/AOC+3/8AiaP+Ef8AEv8A0Olz/wCC+3/+Jrx6H49eNbqMywaToPl72Vd5mB4YjnB9qf8A8Ly8c/8AQK8Pf99T/wCNY+2gegsvxDV0j17/AIR/xL/0Olz/AOC+3/8AiaP+Ef8AEv8A0Olz/wCC+3/+Jrg/Afxc8SeIfG9jouuaZpcdveLKFks3k3oyIXyQ2QRhSO3UV7FWkZKSujkq0pUpck9zmf8AhH/Ev/Q6XP8A4L7f/wCJo/4R/wAS/wDQ6XP/AIL7f/4mumoqjI5n/hH/ABL/ANDpc/8Agvt//iaveG9BbQLS6Sa/l1C4u7p7qaeVEQlmAGAqgAABRWxRQAVzOv8A/I9+E/8Arpd/+iDXTVzOv/8AI9+E/wDrpd/+iDQBleN576y8a+G7q0vJljihvZWtI1UicpFu2nIzz09u1c/feNfEWg6Hp+ptq0OrNq2ky3pia3RY7JgEIdSmCYx5mDuJPA5FeoXml2GozWs1/ZwXMtnL51u8sYYwvjG5Seh9xWd/wh+jW1rqCaNYWmk3N/E0ct1aWsavz3OVweTnBBBpbJ/13/rysPqv6/r9bnA634u8Q+HdSv8ATLbWv7ccxWIilW3gWSBriZkY9UQnAG0MQORnPUwvqXiXUNY0i01K/vLT7H4gSFTMLTz5Va1kfbMsLMgIwQOmQ4OMgGur0jwPovhiz1O51x9Mlt7uFIbhBYxWtqsSkkAxjK5LOSSTzx0xW+nhTw/HpsOnx6LYLZwTC4jgFsuxJQchwMfe9+tO2n9dyd7/ANdLHmXhfWtb8L+E/Ds5vjqFrd6XeSrp5gRVjMMZkTawG4k4wck5zwBTf+E38Y2uhz3UrzBrjSDfRS3qWYEcm+MAxJDIzNEQ5HzjIwOea9Xex0nTrWKZ7WztYNPjcxOY1RbZMfNtOMIMdcY4qpY+FvDdtbT/ANnaLpkcF8A03lWyBZx1GcDDDv6U95N/11/r5Dey/rt/XzMD4gW+p2nwqu0fWZmvYzEZLxIkRnzMvG0DAHOOOcDqeayz4k1+KOXVv7XEiWuuppH9lm3jAmXzViLFgN4kIJkGCFxj5cc13mtvo40t4PET2YsboiBo71lEcpbgJhuCT2FQxeFfD8OqRalDomnpfQoEjuVtkEiADaAGxkYHH04pL4rv+tv0/MH8Nv6/r/I474mGe28R+HdSjcyrp8d7eJaGJHWSSKAup5BIPbI5GcjBqlqXijxFoOlySDXI9Vku/D1xqiObaNRayIE2ldo5jbeQA2T8vU816ZdQ2W+O7vY4N1vny5pVXMe7g4Y9M9PeqFn4T8PafDdxWOhadbxXo23KR2qKsy+jDHI5PB45pLr/AF3/AOB9w76p/wBdP+D95wGuax4v0tNcMfiQM2jaTBfj/QYsTyO8uVYY4TCAYB3dDu656vwrfaqPEet6Pq2onUhZx200U7wpGw81WLLhABgFOO/PJNdBNpWn3Hn/AGiwtZftMYhn3wq3moM4VsjlRk4B45NSx2ltDcy3EVvEk8wVZZVQBnC52gnqcZOM9M1RNn/Xy/4J5tp/jHWbjxtpWy6up9J1PUrm0Xzbe3jgKxpIR5QDGYsDGAWbCnnAGRXU/EP/AJEub/r7s/8A0qiq8vhDw4moNfpoOnLeNMJzcLaoHMgOQ+7Gc5J596o/EP8A5Eub/r7s/wD0qipL4Uhv4rnTUUUUAFFFFABRRRQAUUUUAFFFFABRRRQAUUUUAFFFFABRRRQAUUUUAFFFFABRRRQAUUUUAFFFFABRRRQAUUUUAFFFFABRRRQAUUUUAFFFFABRRRQAUUUUAFcv4t/07WfDWjjkXGoi7mH/AEzt1MgP/f3yfzrqK5e0/wCJj8UNQuOsekadFaIfSSZjJIP++Y4PzoA8f+MX/JVrj/sGW3/oc1cXXY/GWVI/ivPvdVzpltjJx/HNXE/aIf8AntH/AN9CvMr/AMRn2OWtfVYfP82Vta/5Ad5/1xb+VXqzdZnhOiXgEqEmFuAw9Ku/aIf+e0f/AH0Kz+ydikvaP0X6ktUYP+Q5ef8AXGH+b1Z+0Q/89o/++hVKCeH+27w+amPJi53D1ehbMJyXNH1/RmlVHWv+QHe/9cW/lVn7RD/z2j/76FUtZnhOiXgEqEmFsAMPSiPxIKsl7OXozSoqL7RD/wA9o/8AvoUfaIf+e0f/AH0KmzNOZdyrJ/yMVt/16y/+hx1frNeaNvENuVkQgWsucMP78dX/ADE/vr+dU9kZ02ry9f0Qr/6tvoa+nPh7/wAkx8L/APYHtP8A0SlfMLyJ5bfOvQ96+nvh4c/DHwuR/wBAe0/9EpXXhep4Wdf8u/n+h0VFFFdh8+FFFFABRRRQB8a6P/yDR/11l/8ARjVerP0iRBpwBZQfNl7/APTRqu+Yn99fzryJbs+9pNezj6I6n4Zf8lZ0D63H/pPJX0tXzP8ADF1b4teHwGBObjof+neSvpivQw/8M+VzT/en8gooorc8wKKKKACuZ1//AJHvwn/10u//AEQa6auZ1/8A5Hvwn/10u/8A0QaAOmprnbGxGeATwM/pTqKT1QHg0Pii/g0fU0i1+bULp9Oadrq11NplDCaMbpIHUNayfMRsHy/eHauhFzqsMqazHq+ozXJ8VTWCWz3LeR5HmOoj8v7p6AgnkdjjivVljRGYoiqWOWIGM/WnEZGKfb+uqf8AwP6sPv8A10t/wTwefXhdaRaxp4jv7zUrzRdQfWrGW4ZkhmFuTtaM8RFWyAoxwM4PWptR17Xk1aaCLU4LC4tksk0qGXVZYTIrRxnK2qQuLgMxdSSeMY+XGa9S0vwdZ6ZqkV+b7Ub6S3jeO1W9ufNW2ViNwXjJzgDLFjgYzW+UUuHKgsvQkcimnZ39P1/zE9Vb1/G3+RxXxCsvtd/4SbzJ1kTWBtWGZkDHyJTzj3UD6E+tcD4f8V66qpf3Wqebciwu59Us7fU5Lq4RlQkf6M0IS2ZXwAN2D0+brXulVbC8s9Qga60+SOaNnZGkQdWRirD8CCPwqbaNd/8AKw76p+n5tngl/rDahouvWE+uedZ/2ZbXoEOuSXuHWcB2MpVcEKQWRflXg11moeMFsI9Y06PXmN42uaelhGbndK9q/wBmyy85KMDJluhyeea9W8mLbjy0xgjG0dD1FKEQNuCqGAxnHOPSqvqn/W9/+B6E20/rtb/gnjF7qGs2+k2t9JrFy1tqGuXltdy3eqvZwwRRSTCKMSqjGIEgDcBk4C5AxXf/AA5u7698IrLqN3Hej7TMtvPHM8waEOQv710QyY6b9vzAA5PWupZVdSrqGU8EEZBpQMDA4FJaKw5au/8AXX+vkFcz8Q/+RLm/6+7P/wBKoq6auZ+If/Ilzf8AX3Z/+lUVAHTUUUUAFFFFABRRRQAUUUUAFFFFABRRRQAUUUUAFFFFABRRRQAUUUUAFFFFABRRRQAUUUUAFFFFABRRRQAUUUUAFFFFABRRRQAUUUUAFFFFABRRRQAUUUUAFcv4D/0rSb/WTydY1Ge6U+sYbyoj+MUUZ/Gr3jHU5dH8Gare2v8Ax8x2zLbD1mYbYx+Lsoq7oumRaLoNhpdv/qrK2jt0+iKFH8qAPn7402dtdfFeY3NvFMV0y2x5iBsfPN61wv8AZOnf9A+1/wC/K/4V6B8Yv+SrXH/YMtv/AEOauLrzazftGfYZdCDwsG13/NmPq+mWEej3bx2VsjrExVliUEHH0q5/ZOnf9A+1/wC/K/4U3Wv+QHef9cW/lV6s+Z8u51KnD2j0Wy/Up/2Tp3/QPtf+/K/4VTh0ywOsXaGytiixREL5S4BJfPb2H5VsVRg/5Dl5/wBcYf5vQpOz1CdOHNHRb/ox39k6d/0D7X/vyv8AhVPV9MsI9Gu3jsrZHWJirLEoIOOvStiqOtf8gO9/64t/KiMnzLUdWnD2ctFsx39k6d/0D7X/AL8r/hR/ZOnf9A+1/wC/K/4VcoqeZ9zT2cOyMWTS9P8A7et4/sNtsNtKSvkrgkNHg4x7n86u/wBjaZ/0DrT/AL8L/hTZP+Ritv8Ar1l/9Djq/VOTstTKFOF5aLf9EUH0fTBG3/EutOn/ADwX/Cvqn4ecfDHwvj/oD2n/AKJSvmN/9W30NfTnw9/5Jj4X/wCwPaf+iUrqwzbvc8TOIxjycqtv+h0VFc7dfEDwfZXctreeKdHguIXMcsUl9GrIwOCCCeCD2qP/AIWV4I7eLdFJ9Fvoyf512HgHTUVzH/Cx/CB+5r1rL/1yJf8A9BBo/wCFieGj9y7uZP8Arlp9w/8AKM0AdPRXmPxE+LsPh3wXc6n4cgupr2GSPat9pF3HAVLgMC7IqjgnHzDn16VkeAP2itN8YX0WmX2gala38hxmyia7j/3jtG5R/wABIHc0AeIaZplhPZeZPY20jtLLlnhUk/vG7kVb/sbTP+gdaf8Afhf8KTR/+QaP+usv/oxqvV5MpO71PuqVODpxbS2RvfCvT7O1+LmgPbWkELZuBujjCn/j3k9BX09XzT8Mv+Ss6B9bj/0nkr6I1XXNK0GCOfW9Ts9Ohkfy0ku51iVmxnaCxAzgGu+g7wPl8zSjiWl5F6iobW8tr63W4sbiK5hf7skLh1b6EcVNW55oUUUUAFczr/8AyPfhP/rpd/8Aog101czr/wDyPfhP/rpd/wDog0AdNRRRQAUUUUAcl4+jv7O10/xBo9pcX15pFzvNpbqWeeJ1KOgUdfvBv+AV53rnhfVrGS1ttVDXMR0oGJzpNxf/AOnO7vMU8qRPKkJZdrtxgcEYNe40Urf18rf15jv/AF87/wBeR5Fa6WU1iSLxdperaprhmsxp95FA42xCOMMRKuUiw4kMiluc/wAWRVHR9HsdPt7G213Qb19Ct7zUlubVNPmkX7SZgYXaNVJdfK4VwCoPfNe10U9/6/r/AIfUS0Vv6/r9Dy7wR4cvZfEmn3fiGyvCLPSg1obreRCTcymNWzwZFiKDnJGa9Roop9Lev4u4utwooopDCuZ+If8AyJc3/X3Z/wDpVFXTVzPxD/5Eub/r7s//AEqioA6aiiigAooooAKKKKACiiigAooooAKKKKACiiigAooooAKKKKACiiigAooooAKKKKACiiigAooooAKKKKACiiigAooooAKKKKACiiigAooooAKKKKACiiigDl/F/wDpuqeHNGHIutSW5mH/AEzt1M2f+/iwj8a6iuXt/wDiY/FK8m6x6PpqWyH0knfzJB+CxQ/99V1FAHzd8a47uT4rzfZLmOEDTLbcHh35+eb/AGhiuE+z6r/0ELf/AMBD/wDF16J8Yv8Akq1x/wBgy2/9Dmri682s2qjPr8vpp4WLd+vV92YerQakNHujLfQMgibcotiCRj138Vc+z6r/ANBC3/8AAQ//ABdO1r/kB3n/AFxb+VXqz5nynUqUfaPfZdX5+Zn/AGfVf+ghb/8AgIf/AIuqcMGpf2xdgX0AfyotzfZTgjL443/WtyqMH/IcvP8ArjD/ADehSdmE6UeaO+/d9n5jfs+q/wDQQt//AAEP/wAXVPVoNSGj3ZlvoGQRNuUWxBIx67+K3Ko61/yA73/ri38qIyfMgq0o+zlvs+r/AMxv2fVf+ghb/wDgIf8A4uj7Pqv/AEELf/wEP/xdaFFLmZp7KPn97/zMKSDUv7dgBvoN/wBmkIb7McAbkyMb/p+VXfs+q/8AQQt//AQ//F0sn/IxW3/XrL/6HHV+m5PQzhSjeW+/d9l5ma9vqvlt/wATC36f8+h/+Lr6s+HmR8MPC2Tk/wBj2nP/AGxSvmN/9W30NfTnw9/5Jj4X/wCwPaf+iUrrwzvc8TOIqPJbz6t9joqKKK6zwQooooAy/EXhzS/FmiyaRr1t9qsZWRpIt7Ju2sGHKkHqB3qXSND0rQLIWeiadbafbjny7aIICfU46n3PNX6KAPijTre/ezLQX0ccZll2obfcR+8bvuFW/suqf9BKL/wF/wDsqdo//INH/XWX/wBGNV6vJlJ3Z9zSpRdOL127v/M2/hTDex/F7QDc3iTJm4+VYNn/AC7yd8mvqBlDKVYAgjBBHWvmr4Zf8lZ0D63H/pPJX0tXfQd4HzGZxUcS0vI5m/8ABNl9ofUPDb/2DqvX7TZoBHMfSaL7sg+vzDsw61Z8PeIJdRmuNM1e2Wx1qyCm4t1bckiH7s0TfxRtg+4IIPIrdrA8U6JcX8MOp6KVi1zTd0lm7HCyg/egc/3HAAPoQrDlRW55pv0Vn6FrNtr+i2+pWYZUmB3RyDDxODh42HZlYFSPUGtCgArG1/w3Fr01jOb++0+5sZGeGeydVYblKsDuVgQQfStmigDmf+EPvP8AocfEX/fy3/8AjNH/AAh95/0OPiL/AL+W/wD8ZrpqKAOZ/wCEPvP+hx8Rf9/Lf/4zR/wh95/0OPiL/v5b/wDxmumooA5n/hD7z/ocfEX/AH8t/wD4zR/wh95/0OPiL/v5b/8AxmumooA5n/hD7z/ocfEX/fy3/wDjNH/CH3n/AEOPiL/v5b//ABmumooA5n/hD7z/AKHHxF/38t//AIzR/wAIfef9Dj4i/wC/lv8A/Ga6aigDmf8AhD7z/ocfEX/fy3/+M0f8Ifef9Dj4i/7+W/8A8ZrpqKAOZ/4Q+8/6HHxF/wB/Lf8A+M1FceBPtqJFqPifXry3WWOVoJZYQshRw6g7YgcZUdCK6uigAooooAKKKKACiiigAooooAKKKKACiiigAooooAKKKKACiiigAooooAKKKKACiiigAooooAKKKKACiiigAooooAKKKKACiiigAooooAKKKKACiiigAoorG8XapJovg7VdQt+biG1f7Ov96UjEY/Fio/GgCh4E/wBK07UtZPJ1bU57hT6xofJiP4xxIfxrqKoaFpceh+HtP0qDmOxto7dT6hFC5/Sr9AHzd8bL1LT4sTB4riTdpltjyoWfHzzdcDiuE/tiH/n2vv8AwEk/wr0T4xf8lWuP+wZbf+hzVxdebWt7Rn1+Xqf1WNn36eb8zD1bVYpNHukFveAtEwy1q4A47kjirn9sQ/8APtff+Akn+FO1r/kB3n/XFv5VerPS2x1KNT2j16Lp6+Zn/wBsQ/8APtff+Akn+FU4dWiGsXb/AGe8IMUQwLV8jBfqMcda3Kz7b/kPX/8A1yh/9noVrPQJqpzR169vJ+Yf2xD/AM+19/4CSf4VT1bVYpNHu0FveAtEwy1q4A47kjityqOtf8gO9/64t/KiNrrQKsans5e90fT/AII3+2If+fa+/wDAST/Cj+2If+fa+/8AAST/AArQopXj2NOWp/N+H/BMKTVYjrkEn2e8wLaRcfZXzyydsdOP5Vd/tiH/AJ9r7/wEk/wpZP8AkYrb/r1l/wDQ46v03ay0M4RqXlr17eS8zNfWIvLb/Rr7p/z6Sf4V9WfDw5+GHhY4xnR7Tg/9cUr5jf8A1bfQ19OfD3/kmPhf/sD2n/olK6sNbWx4mcKS5OZ33/Q6Kiiiuw8EKKKKACiiigD4o07UlgszGbW7crLL80cBZT+8boatf2wn/Plff+AzU/R/+QaP+usv/oxqvV5MmrvQ+5pRn7ONpdOxt/Cm/W5+L2gILe5j5uDmWEqP+PeTua+oa+afhl/yVnQPrcf+k8lfS1d9D4D5jM01iXd9gooorc805G7/AOKQ8W/2gPl0XW5Vjux/Da3ZwqS+yycI3+0EP8TGuuqtqOn2urabcafqEKz2tzG0UsbdGUjBFYPhfU7mzun8L69M0mpWaFra5k/5f7YHCyg93GQrjs3PRhQB09FFFABRRRQAUUUUAFFFFABRRRQAUUUUAFFFFABRRRQAUUUUAFFFFABRRRQAUUUUAFFFFABRRRQAUUUUAFFFFABRRRQAUUUUAFFFFABRRRQAUUUUAFFFFABRRRQAUUUUAFFFFABRRRQAUUUUAFFFFABRRRQAVy/jH/Tb7w7ow5F5qaTzD/plbgz5PtvSIf8AAq6iuXh/4mPxTuZOsej6YsKn0luH3uPqFgi/77oA6iiiigD53+MX/JVrj/sGW3/oc1cXX0xr3w98L+J9TGo65pS3N2Ili80TSISgJIB2sAcFj+dZn/CnPAn/AEAv/Jyf/wCLrlqUHOTlc9vC5pGhRVNxvY+bNa/5Ad5/1xb+VXq+g5Pgz4BljZJNBDKwwQbyfn/x+nf8Kc8Cf9AL/wAnJ/8A4uo+rO1rm6ziPM5cn4+p89Vn23/Iev8A/rlD/wCz19K/8Kc8Cf8AQC/8nJ//AIumj4MeAVkaQaAA7ABj9rn5x0/j96Fhmr6ilnEW0+Tbz8mfPlUda/5Ad7/1xb+VfSf/AApzwJ/0Av8Aycn/APi6bJ8GfAMsbJJoIZWGCDeT8/8Aj9CwzTvcc84jKLjyb+Z8+UV9C/8ACnPAn/QC/wDJyf8A+Lo/4U54E/6AX/k5P/8AF0vqr7lf21D+T8T5rk/5GK2/69Zf/Q46v19B/wDCmfAJkEh0EbwCoP2ufof+B+wp3/CnPAn/AEAv/Jyf/wCLpvDN9SI5xFNvk38z54f/AFbfQ19OfD3/AJJj4X/7A9p/6JSso/BzwGRg6F/5OT//ABddhY2Vvpun29jYxLDa2sSwwxL0RFACqPoABW1Kk6d9Tgx2NWK5bK1rk9FFFbnmhRRRQAUUUUAfGuj/APINH/XWX/0Y1Xq+h5Pg/wCBJZpJToEaGR2dhHcSouScnCq4A5PQDFN/4U54E/6AX/k5P/8AF1xPDNu9z6KGcRjFR5NvM8g+GX/JWdA+tx/6TyV9LVy2i/DXwl4e1aLU9I0hYLyEMI5TPK5TcMHAZiOhIrqa6acOSNjyMXiFiKrqJWCiiitDkCsfxLotrq+mrJPPJZ3FkxuLW+gA8y2cA/MMg5BGQVOQwJBrYooA+T/BXxa+IWi+ML2/1PR9U1bStRuWmuLQWsg8rJ+9DnO3Ax8uSDjB5+Ye/X3xY8G6VHZnVtVewkvLcXEUNxaTLIEyV+ZdmVOQRg+ldlXz58b/APkqtn/2BU/9HyVnUk4RudOFoqvVVNu1z0b/AIXd8PP+hiT/AMBJ/wD4ig/G/wCHYBJ8RoAOpNrP/wDEV4BUF7/x4XH/AFyb+Vcv1l9j23k1NK/Oz7AhmjuIEmgdZIpFDo6nIYEZBBp9Zfhj/kUdH/68YP8A0WK1K7j5sKKKKACiiigAooooAKKKKACiiigAooooAKKKKACiiigAooooAKKKKACiiigAooooAKKKKACiiigAooooAKKKKACiiigAooooAKKKKACiiigAooooAKKKKACiiigAooooAKKKKACiiigArl/A3+l2eq60eTquqTzIfWKMiCM/QpCrf8CrR8V6q+h+ENV1KEbpre1kaFf70mMIv4sQPxqfw/pSaF4b03SozlbK1jg3f3tqgZ/HGaANCiiigDxb4jXeoyfEq6tYdY1W0t4dOtmSGzv5YEDM8244RgCTtHJ9BXO51H/oYvEP/g5uf/i63viD/wAlUv8A/sG2n/oc9YleNiak41Wkz9AyjCYepgoSnBN67pd2ZXiG81ex8PXt1a+JfEKTRRFkb+2Lg4P0L1pZ1H/oYvEP/g5uf/i6yvFn/Ipal/1wNbFZOrU5V7z/AKsd0cDhfbSXs47Lou7GZ1H/AKGLxD/4Obn/AOLqhb3erya9e2reJPEBhhhhdB/bFxwWLg878/witKsq0/5GrU/+va2/nLSjVqWfvMdTA4VShanHfsuzNLOo/wDQxeIf/Bzc/wDxdUNcu9XsdBvbq28SeIFmhhZ0Y6xcHBAyOC+DWlWX4n/5FXU/+vZ/5UQq1HJe8wrYHCqlJqnHZ9EaOdR/6GLxD/4Obn/4ujOo/wDQxeIf/Bzc/wDxdPoqfbVP5mbfUMJ/z6j9yMuW71dfE1raDxL4h8mS0mkZf7ZueWV4gD9/0Y1o51H/AKGLxD/4Obn/AOLrMn/5HKy/68Lj/wBGQ1rVUq1Sy95mNPA4VynenHfsuyIpG1IRsR4j8Q5AP/MZuf8A4uvcPA91Pe/D3w7dXkzz3E+l20ksshy0jtEpLE9ySc14lL/qX/3TXtHw9/5Jj4X/AOwPaf8AolK78FOUubmd9j5riGhSoul7OKV77K3Y6KiiivQPlQooooAKKKKACiiigArzz4yXd5beH9GSwv7yxNxq6RSvZ3DwuyeRM23cpBxlQfwr0OvN/jT/AMgTw/8A9hpP/Sees6rag2ux1YOKliacZbNr8zzzOo/9DF4h/wDBzc//ABdGdR/6GLxD/wCDm5/+Lp9FeF7ap/Mz9L+oYT/n1H7kep/CW6urvwCjX15cXkkd7dRCa6maWQqs7hQWYknAAHNdrXC/B7/kQf8AuI3v/pQ9d1Xvw+FH5hiElWml3f5hXz58b/8Akqtn/wBgVP8A0fJX0HXhHxk099Q+J9mkMkcDro6kyNGXJHnPgY3ADvWVdpU3c7Msi5YqKR51UF7/AMeFx/1yb+VbP/CNXX/QRj/8Bj/8XUF/4euYdNuZG1CEqkLsQbYgEAH/AG68xTjfc+znQrcr938v8z6d8Mf8ijo//XjB/wCixWpWV4Wz/wAIfo2Tk/YIMn1/drWrXtH50FFFFABRRRQAUUUUAFFFFABRRRQAUUUUAFFFFABRRRQAUUUUAFFFFABRRRQAUUUUAFFFFABRRRQAUUUUAFFFFABRRRQAUUUUAFFFFABRRRQAUUUUAFFFFAFXUtRtdI0u51HUJRDa2sZllcgnaoGTwOT9K5W1+IMM3io2d/BJo1hHppu5H1WP7OwJlREO4tt2nceOueuOldF4h0WLxF4dvdJuJHiS7iMfmJ95D2YfQ4NYNr4R1qfXm1TXvECSSfYTZINNtTbFR5ivv3M7nJ24I6enuL4v67P9bA/h/ruv0uO8Q+PdMtfDV1e+HdW0zULqKSGMLFKLkIZJFQMyRtuIGScDBOK0PCOtSa1ps0s+pWl/NFOY3+zWUtoYiADseOVmcNznnHBHFMn8N30djIuleItQiuy6PHLdsJ0G052lPlyrDg4IPoRUnhzQbnSrjUr/AFS9ivNQ1OZZJ3ghMMShUCKqqWY8AdSSST+FC6/12/4IM3aKKKACiiigDl/GX+m3Ph/RRyL7VI5JR/0ytwZyT7bo41/4FXUVzn2ae8+Jn2mWGRbXTNL2QyMpCvJPJl8HuVWBM+m/3ro6ACiiigDwf4nXslp8VbwR2F1d7tNtc+Rs+X55uu5h/kVzf9s3H/QD1L/yD/8AHK6/4g/8lUv/APsG2n/oc9YleJimvbPQ/RcnhJ4Gm1K2/bu/I5bxLqlxN4Y1CM6NqEYMLZd/KwvucOTWl/b03/QC1X/viP8A+Lp/if8A5FXU/wDr2f8AlWpWXMuVaf1od6pz9tL33sui7vyMj+3pv+gFqv8A3xH/APF1m22tSjxJqEn9jakS0EAKBI9y4MnJ+fGDn9DXU1lWn/I1an/17W385aIyjZ6f1cKlOpzQ9/r2XZjf7em/6AWq/wDfEf8A8XWZ4i1uWTw3qCPo2pRBoGUu6R7VyMZOHJxXVVkeLP8AkUtS/wCuDUQceZaCxFOoqM3z9H0XYP7em/6AWq/98R//ABdH9vTf9ALVf++I/wD4uteio5o9jf2dT+d/cv8AI5aTV538V2ko0bUQVsp12FYwxy8XI+fGBj9R71q/2zcf9APUv/IP/wAcom/5G+z/AOvGf/0ZDWpVSkrLQypU580/fe/l2XkZEmsXHlP/AMSPUvun/nj/APHK99+Hhz8MPCx6f8Se06/9cUrxeX/Uv/umvaPh7/yTHwv/ANge0/8ARKV6GBafNp2Pl+JIyi6V3ff9DoqKKK9E+SCiiigAooooAKKKKACvMvjnObbw3oMqwS3BXWkxHCAWb/R5+mSB+tem15v8af8AkCeH/wDsNJ/6Tz1nV/hy9DrwV3iqdu6/M8o/t6b/AKAWq/8AfEf/AMXR/b03/QC1X/viP/4uteivA5o9j9P9nU/nf3L/ACPSvgvKZvhykhieItqF4SkgAZf9Ifg4Jrvq4X4Pf8iD/wBxG9/9KHruq+hh8KPyzEfxp+r/ADCvFvih/wAlWtv+wKv/AKPevaa8N+K1/awfFK1eSUbP7HCblBYBhMxI474I/OscSm6TSO/J5RhjIyk7Iyap6uiy6JfRuMq1vIpHsVNM/tvT/wDn4/8AHG/wqvqGsWL6ZdIkxZmhcACNsk7T7V40ac77M/QKmKw7g1zrbuj3L4X6kdS+G2j+b/r7SAWcwPXfF8mf+BBQ30YV1tcJ4JRtF1wabIpjj1XSrbUYkYYxNHGkM4x9Bbn6sa7uvoT8pCiiigAooooAKKKKACiiigAooooAKKKKACiiigAooooAKKKKACiiigAooooAKKKKACiiigAooooAKKKKACiiigAooooAKKKRziNiOoFJuyuAtFcn8L9Yv9f+Gukanq9wbm8uEkMspULuxIwHAAHQCusqmrOwBRRRSAytb8Sab4fa2XUWuTJdMywxWtnNcu+0ZPyxKxwB3xis7/hP9G/59df/APCcv/8A4zRrn/JQPC3+7ef+i1rpqAOZ/wCE/wBG/wCfXX//AAnL/wD+M1BZ/E3w5qNol1p41m6t5M7JoNAvnRsHBwwhweQR+FdbXDfBn/kkWifSb/0fJQBp/wDCf6N/z66//wCE5f8A/wAZqD/hZvhz+0DY41n7YIvO+z/2BfeZ5ecb9vk5254z0zXW1w6/8nAyf9iuv/pU1AGl/wAJ/o3/AD66/wD+E5f/APxmoLz4meHNOtWudQGs2tuhAaWfQL5EUkgDJMOOSQPqa62uH+Mf/JK9T/67Wn/pVFQBpf8ACf6N/wA+uv8A/hOX/wD8Zo/4T/Rv+fXX/wDwnL//AOM101FAHJWvxM8OXolNmNZuBDK0Mhi0C+bZIpwyHEPDA9R1FT/8J/o3/Prr/wD4Tl//APGazvhj/wAenif/ALGbUP8A0bXb0AYWmeMtI1XVY9Nt/wC0IbuSN5Y0vdLubXeq43bTLGoONw4BzzW7XM6v/wAlJ8Nf9el9/wC0a6agAooooA8S+IP/ACVS/wD+wbaf+hz1iVe+KGjadqnxWvDqNlDcmPTLXZ5qBtuXmzj8hXMf8Ij4e/6A1n/36FeLiuX2zu/6+8/RMnlVWBp8sVbXq+78mS+J/wDkVdT/AOvZ/wCValcl4l8L6HbeGb+a30q1jlSElXWMAg1s/wDCMaF/0CLL/vwv+FYtR5Vr/WnmehGVb20vdWy6vu/7pqVlWn/I1an/ANe1t/OWl/4RjQv+gRZf9+F/wrNtvD2jt4j1CFtMtTEkEDIhhXapJkyQPU7R+QpR5bPX+r+o6kqvND3Vv3fZ+R01ZHiz/kUtS/64NT/+EY0L/oEWX/fhf8KyvE3h7R7fwxqEsGl2kciQkq6QqCp9QacOXnWv9feLESrexneK2fV9vQ6misv/AIRjQv8AoEWX/fhf8KP+EY0L/oEWX/fhf8Ki0e/9feb81b+Vfe/8gm/5G+z/AOvGf/0ZDWpXLXHhrRW8V2cB0q08prKdygiABYPEAfwyfzrQ/wCER8Pf9Aaz/wC/QqpKNlr+H/BMKcq3NO0Vv3fZf3TXl/1L/wC6a9o+Hv8AyTHwv/2B7T/0SlfP0nhHw+ImI0ezztP/ACyFfQPw8GPhh4WA6DR7T/0Slehgbe9byPl+I3Ubpc6S32d+3khbnx34es7uW2nu5xLC5R1WynbBBweQhB/Cov8AhYfhvtc3Z+mm3J/9p101FeifJnM/8LD8O9pb8/TSro/+06P+FheH+zamfpo14f8A2lXTUUAcx/wsHQz92LWn/wBzQL5v5Q0v/CfaWfuad4ib/uXr0fziFdNRQBzP/CdWZ+5o3iJv+4LcD+aCj/hN4z9zw94ib/uGOP54rpqKAPnLxf8AtDeIvCXxOv7BdIW40lREY7K9hMFxHmJScMCerEnkHgit/wAY+MZPGfgzQL2Xw/quildbjGzUIQgkzbTnMZzll98CvWE8LaEniKbXhpNodWm2771og0vyqFGGPI4AHGOlcT8cbeG78N6Fb3USywya0geNxlW/0ec8jvyBWdX+HL0OvBX+tU7d1+ZwdFZf/CMaF/0CLL/vwv8AhR/wjGhf9Aiy/wC/C/4V4Fo9/wCvvP1Dmrfyr73/AJHsXwe/5EH/ALiN7/6UPXdVwXwYhjt/h0sMCLHGmoXiqijAUC4fAFd7X0EPhR+V4i/tp37v8z5v/aC8Haz4l+ImnQeGIry5muLeFLqBJGMaF2kCOR0UYibcxwBtHrXrfww+Gum/Dbw2LO12z6jcANe3mOZWHYeiDJwPx6k1etOPixq/+1olj+k93/jXT1ZgFFFFAHL+Nf8AiXto/iFeP7LvkE5/6d5v3MmfYF0kP/XOuoqnq+mQa1ot7pl4MwXkDwSD/ZZSp/nWd4M1OfVfCNjNfHN9CrWt5/13iYxyf+Pox+hFAG7RRRQAUUUUAFFFFABRRRQAUUUUAFFFFABRRRQAUUUUAFFFFABRRRQAUUUUAFFFFABRRRQAUUUUAFFFFABRRRQAUUUUAFI4zGwHUisvXPEFtoLaat1FLJ/aN9HYxeWAdruDgnJHHy9qpTeMILW9sra802/t3vdTfTYDLGoDsqM3mjn/AFZCnB6+1K3MrfL8v80G39ev+TK3wx0W/wDD3w30nStYt/s97bpIJYt6vtzIzDlSQeCOhrq6KKpu7uAUUUUgOZ1z/koHhb/dvP8A0WtdNXF+MbG51Dxp4WhstUudLk/0s+fbJE748teMSI6/pVz/AIRXXf8Aoftd/wDAWw/+RqAOorhvgz/ySLRPpN/6PkrR/wCEV13/AKH7Xf8AwFsP/kauO+E/h7V7r4X6RNb+MtXso2Eu2CC3s2RP3zjgvAzc9eSetAHrNcOv/JwMn/Yrr/6VNWh/wiuu/wDQ/a7/AOAth/8AI1ccvh3V/wDheD23/CZav53/AAjqyfavs9n5m37Sw2Y8jbtzznbnPfHFAHrNcP8AGP8A5JXqf/Xa0/8ASqKtD/hFdd/6H7Xf/AWw/wDkauP+Kvh3V7X4bahNceMtXvY1ltgYJrezVWzcRgElIFbgnPB6jnI4oA9Yorl/+EV13/oftd/8BbD/AORqP+EV13/oftd/8BbD/wCRqAKHwx/49PE//Yzah/6Nrt68o+Hfh3V7i18RGHxnq9qI/EN9Gwit7M+Ywk5c7oD8x6kDA9AK6/8A4RXXf+h+13/wFsP/AJGoAdq//JSfDX/Xpff+0a6auDXSdQ034meH2v8AxFf6uHs73at3DboI8eT08qJOvvnpXeUAFFFFAHiXxB/5Kpf/APYNtP8A0OesStD4nJqL/FW9/s64tYR/Ztpv8+BpM/PNjGHXH61zXk+IP+f/AE3/AMAZP/jteJiknWep+i5PUksDTSi3v27vzGeLP+RS1L/rga2K5bxPFrY8MagZ73T3j8k7lS0dSR7EyHH5VpeT4k/5/tL/APAKT/47WXKuRa9/0O5VZe2l7j2XbvLzNesq0/5GrU/+va2/nLTfJ8Sf8/2l/wDgFJ/8drNtotf/AOEk1ALeaaJfs8G9jaSbSMyYwPM4PXv6dKIxVnr/AFcdSrLmh7j38uz8zqayPFn/ACKWpf8AXBqPJ8Sf8/2l/wDgFJ/8drL8TRa+PDN+bi8014vJO5UtJFYj2JkOPyohFc61FiKsvYz9x7Pt29Tq6KyPJ8Sf8/2l/wDgFJ/8do8nxJ/z/aX/AOAUn/x2o5V3N/bS/kf4f5iz/wDI5WX/AF4XH/oyGtauZli1n/hJLINd2P2r7JcfOLV9mzfDxt8zOc98/h3rR8nxB/z/AOm/+AMn/wAdqpRVlqZU6kuafuPfy7LzNOX/AFL/AO6a9o+Hv/JMfC//AGB7T/0SleBSQ6/5T/6fpv3T/wAuUn/x2vffh5n/AIVh4Wz1/se0z/35SvQwKtza9j5fiSTk6V01v28vM6KiiivRPkgooooAKKKKACiiigArzf40/wDIE8P/APYaT/0nnr0ivM/jiJ28N6ELR40mOtJsaVCyj/R5+oBBPGe4rOr/AA5eh14LTFU3/eX5nB0VleT4g/5/9N/8AZP/AI7R5PiD/n/03/wBk/8AjteByrufqHtZfyP8P8z2P4Pf8iD/ANxG9/8ASh67quC+DAlHw6UXDI8v9oXm5kUqpP2h+gJOPzrbvfBdjqd3NLqV/q1zDKxY2h1CVIOe2xCMr7HIr6CHwo/K8R/Gn6v8yv4dmXVvG/iLWbVhJZrFbaZFKOVkeEyvIVPcBp9mfVGHauqqG0tLews4rWxgjt7eFQkcMSBVRR0AA4AqarMAooooAK5fRf8AiVePNd0o8Q36x6rbjtkjyplH0ZEY+8tdRXL+L/8AiW6poPiBeFs7wWly3/TC5xGfwEvksfZTQB1FFFFABRRRQAUUUUAFFFFABRRRQAUUUUAFFFFABRRRQAUUUUAFFFFABRRRQAUUUUAFFFFABRRRQAUUUUAFFFFABRRRQBxPxI/13hH/ALGO1/k9ee30mrPLb/2J5Mmo/wDCeXiW32tj5anyXALY5wOuB1xivcbmytbwwm8tobgwSCaLzYw3luOjLnowyeRzUCaNpIkDpp1kHjuDdBhAmVmYYMnThyDy3XmlFWfz/wDkf/kRvVfL9Jf5niN3fXCfDhIY2MeuXGvRWXih7+7aIljnh5UGUhb5Au0YCtgd66r4faVe6D8QL2xVdE02zl08TS6Tpd/NchZN+Fmw8ahMjIODzgHHevQ59E0i5luzcaZZSyX0YS6LwIWuEHAD5HzAdgaj0Tw1onhuGSHQNJs9NjlbdILWBY9598Dmqi7O/wDW1vu6r+mTLVW/re//AAP6sadFFFIZzOuf8lA8Lf7t5/6LWumri/GN9c6f408LTWel3WqSf6WPItXiV8eWvOZHRf1q5/wlet/9CDr3/gTYf/JNAHUVw3wZ/wCSRaJ9Jv8A0fJWj/wlet/9CDr3/gTYf/JNcd8J/EerWvwv0iG38G6xexqJds8E9mEf9854Dzq3HTkDpQB6zXDr/wAnAyf9iuv/AKVNWh/wlet/9CDr3/gTYf8AyTXHL4j1b/heD3P/AAhused/wjqx/ZfPs/M2/aWO/Pn7dueMbs57Y5oA9Zrh/jH/AMkr1P8A67Wn/pVFWh/wlet/9CDr3/gTYf8AyTXH/FXxHq118NtQhuPBusWUbS2xM809mVXFxGQCEnZuSMcDqecDmgD1iiuX/wCEr1v/AKEHXv8AwJsP/kmj/hK9b/6EHXv/AAJsP/kmgCh8Mf8Aj08T/wDYzah/6Nrt68n+HfiPVre18RCHwbrF0JPEN9Ixinsx5bGTlDunHzDocZHoTXYf8JXrf/Qg69/4E2H/AMk0AO1f/kpPhr/r0vv/AGjXTVwa6vf6n8TPD633h3UNICWd6Va8lt3EmfJ6eVK/T3x1rvKACiiigDxL4g/8lUv/APsG2n/oc9Ylb3xHt72L4lXVyul6ncQTadbKktpp806Eq824ZjQgEbhwfWud33X/AEBde/8ABJd//G68bE05yqtpM/QcoxeHp4KEZ1Ip66NruzL8Wf8AIpal/wBcDWxWT4hg1G+8O3tta6FrzzSxFUX+xboZP1MeK0t91/0Bde/8El3/APG6ydKpyr3X93od0cdhfbSftY7Lqu78ySsq0/5GrU/+va2/nLWjvuv+gLr3/gku/wD43Wfbw6gniC+uW0LXhFLBCiN/Yt1yVMmePL/2h+dKNKpZ+6/uHUx2FcoWqx37rs/M1KyPFn/Ipal/1watPfdf9AXXv/BJd/8Axus3xDBqF94dvra10LXnmliKov8AYt0Mn6mPFOFKopL3X9wsRjsK6M0qsdn1Xb1Naio991/0Bde/8El3/wDG6N91/wBAXXv/AASXf/xuo9jU/lf3G31/Cf8AP2P/AIEv8zPm/wCRvs/+vGf/ANGQ1qVlyQ6g3iS2uhoWveSlpNGzf2LdcMzxkDHl56KfyrQ33X/QF17/AMEl3/8AG6qVKpZe6/uMqeOwqlK9WO/ddl5jpf8AUv8A7pr2j4e/8kx8L/8AYHtP/RKV4nI12Y2A0TXskH/mCXf/AMbr3DwLbzWnw78OW13DJBPDpVrHLFIpVkYRKCpB5BB4xXfgoSjzcytsfM8RV6NZ0vZSUrX2afY3qKKK9A+VCiiigAooooAKKKKACvN/jT/yBPD/AP2Gk/8ASeevSK88+MlrdXHh7RpLOzurv7PqySyraW7zOqeRMu7agJxllHTvWdVN02l2OrByUcTTlJ2Sa/M86oqPfdf9AXXv/BJd/wDxujfdf9AXXv8AwSXf/wAbrwvY1P5X9x+l/X8J/wA/Y/8AgS/zPUvg9/yIP/cRvf8A0oeu6rifhLbXNr4BQXlrcWryXt1IsdzC0T7WncqSrAEZBzyK7avfhpFH5hiGnWm13f5hRRRVGIUUUUAFZ+v6THr3h3UNKmbYl5bvDvHVCwwGHuDgj6VoUUAY/hLVpNc8J6ff3KhLp4tlyg/gnQlJV/B1YfhWxXL+Hf8AiV+MPEOiniOWRNVtR/szZWQD6Sxux/66iuooAKKKKACiiigAooooAKKKKACiiigAooooAKKKKACiiigAooooAKKKKACiiigAooooAKKKKACiiigAooooAKKKKAPPPifceIoNX8JDQJ7OKOXV0QidpBvk8uQgNtPMeAcjrnFYlhe+LbPxP4+uPDsWkeXa3qTztfeY3msLWMlECkbeB9456jiu88YeGbnxLb6adP1JdNvNNvkvYJnt/PXcqsuCm5cghz3pmn+EWsm8Ss9+JW16XzCRDt8k+SsX947vu57dce9SrqMrb62/8lt+TK0co320/X/M5K58bOupNr+n+H0ur6TwhFqUaozmVg8mRFxwVGc5C54NavgTxlqviTUWjub/AMO6pZm38wzaRMyyW0mQPLkidi3OT83HTkc0+D4cT2sdv9k1+e1nt/D0Oix3FvDtdWjYMJh8x64+56d6fpHgnVh4ztfEniXVrC7u7K3kt4RYad9mMofGWlYuxbpwBgA81atfy1/OVv0/q5D/AMvyX/B/qx29FFFIZzOuf8lA8Lf7t5/6LWumrl9fkSLx94WaR1QYvOWOP+Wa10X2y2/5+Iv++xQBNXDfBn/kkWifSb/0fJXZ/bLb/n4i/wC+xXD/AAburdfhJooaeNSBNwXH/PeSgDvq4df+TgZP+xXX/wBKmrsvtlt/z8Rf99iuIW6t/wDhf8jefHt/4RhRneMZ+1NQB3tcP8Y/+SV6n/12tP8A0qirsvtlt/z8Rf8AfYriPjDdW7fCzUws8ZPnWvAcf8/MVAHe0VD9stv+fiL/AL7FH2y2/wCfiL/vsUAcd8Mf+PTxP/2M2of+ja7euD+GV1braeJt08Yz4m1AjLjkebXbfbLb/n4i/wC+xQBz+r/8lJ8Nf9el9/7Rrpq5XU54pfiV4bEUqORaX2drA4/1NdVQAUUUUAFFFFABRRRQAUUUUAFFFFABRRRQAUUUUAFFFFABRRRQAUUUUAFFFFAHCn40+AAzL/b+SrFTts5yMg4PIT1pP+F0+AP+g8f/AACuP/jdfP8Aof8AyCx/12m/9GtWhXO6rueFLNJxk1yo+gdC+JnhDxJq8el6NrCz3sqs0cLQSxlwoycF1AJA5x7V1VfOfw8/5Kt4e/37j/0nkr6MraEuZXPUwtZ16fO1YKKKKo6QooooAKKKKACiiigAooooA5fxP/xLPEnh7XRwi3B026P/AEyuMBCf+2yQj/gRrqKyvE+kHXvC+o6Yj+XLcQMsMn/POQco/wBVYKfwpfDWsDX/AAxp2qbPLe6gV5I/+eb4w6H3VgR+FAGpRRRQAUUUUAFFFFABRRRQAUUUUAFFFFABRRRQAUUUUAFFFFABRRRQAUUUUAFFFFABRRRQAUUUUAFFFFABWBrnjjw74bvhZaxqIgujEJlgWGSSRkJIyFRST909OmK3645NOuD8bZtRazk+zDQEhS5MR2b/AD2JQNjGcYOOuKWt0vX8mw6N/wBbpEtv8UfBl3dWlvba7DK14ypC6xyGMu33UL7dqsf7rEH2qbWPiL4U0HVH07VdYjhuYgpmVYndYQenmMqlUz/tEVwkegainwPgsF0q6W8GuLMbcWzCQL/aG7ftxnGznPpz0qza6i3g/wD4S3SNY8Parf3WqahcXVo9pYPPHfxygbULqCqlfukMRgCi+l15/PbT8X9w7a2/rrr+H4npNrrem3upzafaXcct1BDHO8a54jfOxgehBweRmsm38VW2peINMj0rU7KSwu4LlyjRyebK0TKpZGxt2qcg568Yrz688O+JvCHhbwve6RZT3usrpLaJeR26mQx+Yu6Jzj+GOQYJ6AE1pa74KvIL7Q9E0KGZYbfw1f2CXYQ7ElZI1Us3QFiCeevNOXut26X/ACf/AAPvFHW1+tv0/wCD9x2GmfELwtrOsLpem6vHNdSFhEPLdUmK/e8tyoV8f7JNdJXhnh/SpL6XwvpdxP41lvNMuYJJbG6tIoLWxMQ5bzfIAZOCAFYlgete51TSSFd3ON8X6RputeNPC1rrOn2uoW+LtvJu4FlTIjXB2sCKvf8ACuPBH/Qm+H//AAVwf/E03XP+SgeFv928/wDRa101SM5v/hXHgj/oTfD/AP4K4P8A4muN+E3gbwlqXwu0e71Hwvot3cyCXfNPp8Tu2JnAyxXJ4AH4V6tXDfBn/kkWifSb/wBHyUAav/CuPBH/AEJvh/8A8FcH/wATXGr4G8Jf8Lxew/4RfRfsY8OLN9n/ALPi8vzPtLDft243Y4z1xXq1cOv/ACcDJ/2K6/8ApU1AGp/wrjwR/wBCb4f/APBXB/8AE1x3xW8DeEtO+Guo3Wn+F9FtbhJbYLNBp8SOoNxGDghc8gkfQ16rXD/GP/klep/9drT/ANKoqANT/hXHgj/oTfD/AP4K4P8A4mj/AIVx4I/6E3w//wCCuD/4mukooA8r+HXgbwlfWviI3vhbRbgw+Ir6GIy6fE+yNZMKgyvCgdB0Fdh/wrjwR/0Jvh//AMFcH/xNZnwx/wCPTxP/ANjNqH/o2u3oA4U+GdB0D4meHn0LRNO0xprO9EjWdpHCXx5OM7QM4yfzruq5nV/+Sk+Gv+vS+/8AaNdNQAUUUUAFFeE/FfVtZj+JUtpZa7qlhbRadbusNndvCu5nlySFPJ+Uc+1cf/aev/8AQ1+If/BnL/jWcqiTsefWx9OlNwktUfU1FfJ2qa54js9JubmDxZ4gEkUZdc6lKRkD0zVv+09f/wChr8Q/+DOX/Gl7VEf2lStezPqaivln+09f/wChr8Q/+DOX/GqkOueI31a6t28WeIPLijjdf+JlLnLFs85/2RR7VAsypNN2Z9Y0V8s/2nr/AP0NfiH/AMGcv+NVNU1zxHZ6TdXMHizxAJIomdc6lKRkD0zR7VBHMqUnZJn1jRXyz/aev/8AQ1+If/BnL/jR/aev/wDQ1+If/BnL/jR7WIv7To9mfU1FfJsmt+I11yC2HizxB5b20khH9py9VZAO/wDtGrn9p6//ANDX4h/8Gcv+NHtUN5lSVtGfU1FfLD6p4gEbEeLPEOQP+gnL/jX0X4JvLjUPh/4evb6Vp7m50y2lmlbq7tEpZj7kkmqjNS2OnD4qGIvy9DcoooqzqCiiigAooooA+RND/wCQWP8ArtN/6NatCuf0u01KSyLQamsMZml2obYNt/eN3zVz7Dq//QYT/wABF/xria13PkKkI8795b+f+R2fw8/5Kt4e/wB+4/8ASeSvoyvmb4Y21/F8W/DzXeoLcJuuPkEATn7PJ3zX0zXTT+E+gy9JUFZ33CiiitDvCiiigAooooAKKKKACiiigArl/C3/ABLPEHiHQTwkVyNRtR/0xucs2P8Atss/5iuorl/EH/Er8aeH9ZHEVwz6Vcn2lG+Jj9JIwo/66mgDqKKKKACiiigAooooAKKKKACiiigAooooAKKKKACiiigAooooAKKKKACiiigAooooAKKKKACiiigAooooAKKKKACivMPEPibVfC2r+K9MN1LPPf28VzoQkbJWSUiAxr7LIUbHYNWNfzeJr/xZqOgRr4m1CDQrW1gSXSNThtXeR4tzTSmR1ZyT0HK8HikndX/rz+79R7O39dLfee0UV4zpEvivxX4i0LSda1y90rdoks1+NOuY98zR3OxWDxllViMFivPUcVdn1zWrS21LwQNSuW1uXWI7ayvGcmUWc2ZfN3dSUjWVc+qiqt/Xzt/XkL9P8rnrNFIq7UCgk4GMk5JpaQHFeM7fVLnxl4WTRNQt7C5/0s+dcWpuFx5a5G0On86sf2R49/6G/R//AAn3/wDkmp9c/wCSgeFv928/9FrXTUAcl/ZHj3/ob9H/APCff/5Jrj/hRpnjGX4YaQ+m+JtMtbYiXZFNorSsv7585YTrnnJ6CvXa4b4M/wDJItE+k3/o+SgC5/ZHj3/ob9H/APCff/5Jrj10zxj/AMLueL/hJtM+2/8ACOqxuP7FbZ5f2lvl2efnOed272x3r12uHX/k4GT/ALFdf/SpqALf9kePf+hv0f8A8J9//kmuQ+KmmeMYvhvqD6j4m0y5txLbbootFaJiftEeMMbhsYOD05xjjOa9crh/jH/ySvU/+u1p/wClUVAFv+yPHv8A0N+j/wDhPv8A/JNH9kePf+hv0f8A8J9//kmutooA8k+HmmeMZLbxD9h8T6XAF8Q3yyiTRWk3yCT5mH+kDaCei849TXXf2R49/wChv0f/AMJ9/wD5Jqr8Mf8Aj08T/wDYzah/6Nrt6AOAjsvENr8TfD58Qa1ZakjWd75a22nG22H9znJMr57eld/XM6v/AMlJ8Nf9el9/7RrpqACiiigDwD4r/wDJVrr/ALBlr/6HNXJ10PxjvmtPivcBbO5ud2mW3MCg4+ebrkiuK/tmT/oEaj/37X/4quWonzM+Zx1OTxEmvL8iTXv+Rfvv+uDfyrQrndZ1Z5NEvEOl36BoWG541wOOp+ar39syf9AjUf8Av2v/AMVUWdjmdOXIvV/oalZ9v/yMF9/1wg/nJUf9syf9AjUf+/a//FVRg1Zxrd4/9l35LQwjaI1yMF+T83fP6GhJhGnK0vT9UdFWfr3/ACL1/wD9cH/lUf8AbMn/AECNR/79r/8AFVR1rVnk0O8Q6XfoGhYbnjXA46n5qEncKdOXOvU6Kisv+2ZP+gRqP/ftf/iqP7Zk/wCgRqP/AH7X/wCKpWZHspj5f+Rntf8Arzm/9DirRrnZNXP/AAkNvI2m364tZV2+SCxy8fIAJ44/UVe/twf9A3Uf/AY02mXOlO0dOn6s0pP9W30NfRfw9/5Jj4X/AOwPaf8AolK+YJNbHlt/xLdR6H/l2P8AjX0/8PDn4YeFjjGdHtOD/wBcUrakrXPWyuMo89/L9ToqKKK3PZCiiigAooooA+RND/5BY/67Tf8Ao1q0K5/S9UeCxMY02+lCzS/PHGpU/vG6Zarn9syf9AjUf+/a/wDxVcTTufIVKcnN+p2fw8/5Kt4e/wB+4/8ASeSvfdXs9RvLVF0nVP7NmV9xkNuswYYPylT2zjoQeK+dfhjqLXXxb8PI1jd2/wA1wd0yAD/j3k9Ca+ma6afwn0GXxcaCT8zlP+Ej1Xw7cRxeNIbY2cjhE1myVkgVjwBNGxJiyeA25l9SvArq6juLeG7tpbe6iSaGVCkkbrlXUjBBB6giuX8PSTeHNcPhS+meW1aIzaPcSklmiU4eBmPVo8rg9ShHUqxrQ7zrKKKKACiiigAooooAKKKKACsbxdpMut+EtQsrQhbsx+baMf4J4yHib8HVTWzVTVrm7s9Hu7nTrL+0LuGFnhtBKIzOwGQgYggE9MmgCPQtWi13w/YarbgrHe26Tqp6ruUHafcdD9Kv185/CD4r+INf+JkXhb7DBpukCa8uXtWQtNFuLyeWXOMBXbA+UcDFfRlABRRRQAUUUUAFFFFABRRRQAUUUUAFFFFABRRRQAUUUUAFFFFABRRRQAUUUUAFFFFABRRRQAUUUUAFFFc34v8AFknhdtKittKl1S41S7+yQwxSqhD7GYEk8Y+Xk9hz2xQBoan4a0jWNW03U9SslnvNLdpLOUsw8pjjJwDg9B1zyM1R17wLofiLUFv76K5hvPL8l57K8ltnkjznY5jYbl56GubHxJ8RPJq9rH4IZr7RAHv4/wC1EEaoU3qY32Zdiufl2jGOvNdBonjW313W7SwtrWREu9Gh1eOV2HCSNgIV9R65oSvp/W3+SYarX+t/82X9O8K6LpN3a3Om2CW0tpZ/YYCjMAkO4Nt25x1GckZ96xrHw3e3vxMn8U61ZWtqLO0Nhp4im815ELlmlc7RtJGAF5xlueaqv8S/NtoItL0WW91W71K6sLWyE6oH8hiHlZyMKoAz0J5A5rG8Y+MNdXQLR7rQtR0nULPXrKJ7eCfel4jNnbFKNocN0IOMHrQndp/1r1/H8e4NWTX9af8ADHqdFct4f8W3+oeJbrQdf0P+yL+K1W8iCXa3CSxFiudwUYIIwRj8a6mjzA4nxrrEWieMfC11Pa310v8Apa7LG0e4k5jXnYgJxU//AAsjT/8AoA+Kf/Ceu/8A4irOuf8AJQPC3+7ef+i1rpqAOQ/4WRp//QB8U/8AhPXf/wARXH/Cnx1Z6d8MdItJdH8RTPGJcvbaLcyxnMznh1Qg9ex616/XDfBn/kkWifSb/wBHyUAWv+Fkaf8A9AHxT/4T13/8RXHr46s/+F2vf/2P4i8s+Hlh8r+xbnzc/aWO7y9m7b23YxnivX64df8Ak4GT/sV1/wDSpqALP/CyNP8A+gD4p/8ACeu//iK5D4p+OrPUfhxqFrFo3iKFnltiHudEuYkGLiM8syADpgepwO9evVw/xj/5JXqf/Xa0/wDSqKgCz/wsjT/+gD4p/wDCeu//AIij/hZGn/8AQB8U/wDhPXf/AMRXX0UAeRfD3x3Z2Vt4hEmjeIpfO8QX0w8jRLmTaGkyA21DtYd1PI7113/CyNP/AOgD4p/8J67/APiKr/DH/j08T/8AYzah/wCja7egDz+HxPb6/wDE3QEt9P1a08qzvSTqGmzWobPk/dMijPTt0r0CuZ1f/kpPhr/r0vv/AGjXTUAFFFFAHgHxX/5Ktdf9gy1/9Dmrk66z4r/8lWuv+wZa/wDoc1cnXJU+JnyuP/3mXy/JGfr3/Iv33/XBv5VoVn69/wAi/ff9cG/lWhUdDmfwL1f6BWfb/wDIwX3/AFwg/nJWhWfb/wDIwX3/AFwg/nJQgjtL0/VGhWfr3/IvX/8A1wf+VaFZ+vf8i9f/APXB/wCVC3Cn8a9TQooopGZnS/8AIz2v/XnN/wChxVo1nS/8jPa/9ec3/ocVaNNmk9o+n6sbJ/q2+hr6L+Hv/JMfC/8A2B7T/wBEpXzpJ/q2+hr6L+Hv/JMfC/8A2B7T/wBEpW9HqexlP2/l+oXPiyS1u5YD4a16URuVEsVsjI+DjKkPnB+lR/8ACbIPv+HfES/9w1j/ACJrpqK3PbOZ/wCE6tB9/RvES/8AcFuG/kpo/wCE+0kf6yx8QR/73h6+P6iE101FAHlXxJ+NEPhPw3b6joFpPdXBvEjlh1DTrq3UxkMWwzooDcDHXvwaTwF+0B4b8bXkGmyWd9puqTcLAYmnRj6K6DP4sqiu68WeDtF8baXDp3iO2a6s4rhbgRLKyBmUMBkqQcfMeM1b0bw/pHh2z+y6Fplrp8HdLaIJuPqcdT7nmgD5V0P/AJBY/wCu03/o1q0Kz9D/AOQWP+u03/o1q0K4XufGVPjfqb/w8/5Kt4e/37j/ANJ5K+jK+c/h5/yVbw9/v3H/AKTyV9GV1UvhPo8u/wB3XzCsTxXosus6L/xL3WHVLOQXWnzN0jnUHbn/AGWBKMO6s1bdFaHoGdoGsw+INAtNTt0aNbiPLRP96JwcPG3+0rAqfcGtGuUsP+Kd8eXWmn5bDXg17aeiXKgefH/wJdsgHqJTXV0AFFFFABRRRQAUUUUAFcn42+I2j+A5bGLV7e/uJL5ZGiWyg80gJt3E8jH31rrK8S+Pn/Ix+Gf+vS9/9Dt6ipLli2dGGpqrWjB9TBXx14HtPi5H4403S9et5JrWSG9gGm8SucbZB83BwCG9eD1zntv+GhPCv/QK8Q/+C/8A+yrxikb7p+lcX1iR9D/ZFHv/AF959Y6Pqlvreh2Oq2W/7NfW0dzDvGG2OoZcjscEVcrm/hz/AMkr8Kf9gWz/APRCVs6bq2nazai50i/tr6AnHm20qyLn0yDXoHyxbooooAKKKKACiiigAooooAKKKKACiiigAooooAKKKKACiiigAooooAKKKKACiiigAooooAK53xL4futZ1vw3eWskKR6VqBupxIxBZTE6YXAOTlh1xxmuioo63DpY5ODwtexa54wvGlt/L1yKJLYBmyhSExnfxxye2eKwrTwl4q8N3uhX+hxaVqE9toEGj3kNzcyQqrR4IkRgjFlznggHGK9JpGO1SfQZqdI6/wBbNfk2O91y/wBdP8jyzTvh94o0a20zVLa402613TtRvrhond44LmK5bLLu2ko3AI4IHTmtS78MeLvEMEFxrt3YQyprNpex2EMjNFawwnLKJNgZ3bryAOnSui8E+JD4v8G2Gutai0N4rkwiTfs2uy9cDP3c9K3qv4Wl2t+H/DCet/O/43/zOeGgXQ+JbeIfMh+yHSRY7Nx8zf52/OMY249857V0NFFLZW/re4db/wBdjmdc/wCSgeFv928/9FrXTVxHjbQrDxD4w8LWWqJM8H+ltiG5kgbIjX+KNlP61N/wqnwn/wA8NT/8Hd7/APHqAOxrhvgz/wAki0T6Tf8Ao+SrH/CqfCf/ADw1P/wd3v8A8erj/hV8OfDeq/DHSby8hvzNKJdxi1a6iXiZxwqShRwOwoA9hrh1/wCTgZP+xXX/ANKmqf8A4VT4T/54an/4O73/AOPVx6/Dnw3/AMLsfTvJv/sw8PLPj+1rrfv+0sv3/N3Yx/DnHfGaAPYa4f4x/wDJK9T/AOu1p/6VRVP/AMKp8J/88NT/APB3e/8Ax6uQ+Kfw58N6X8ONQu7OG/EyS2wUyatdyL81xGp+VpSDwT2469aAPYKK47/hVPhP/nhqf/g7vf8A49R/wqnwn/zw1P8A8Hd7/wDHqAIfhj/x6eJ/+xm1D/0bXb15B8Pvhz4b1C28Qtcw35MHiC+gTZq13H8iyYGdsoyf9o5J7k113/CqfCf/ADw1P/wd3v8A8eoAt6v/AMlJ8Nf9el9/7Rrpq8+g8IaP4Z+J2gSaRHdI01nehzPfz3HA8nGPMdsde2K9BoAKKKKAPnX4x6ZaX/xXuDdxeYU0y22/MRjLzehriv8AhHNK/wCfX/yI/wDjXoHxX/5Ktdf9gy1/9Dmrk65ajfMz5nHVJrESSb6fkc7rOgabDol5JHbYdIWZT5jHBA+tXv8AhHNK/wCfX/yI/wDjUmvf8i/ff9cG/lWhUXdjmdWpyL3nu+voZf8Awjmlf8+v/kR/8aowaBpp1u8jNt8iwwsB5jcEl89/YV0VZ9v/AMjBff8AXCD+clCbCNWpaXvPbv5oj/4RzSv+fX/yI/8AjVHWtA02HQ7ySO2w6QsynzG4IH1roqz9e/5F6/8A+uD/AMqE3cKdWpzr3nv3I/8AhHNK/wCfX/yI/wDjR/wjmlf8+v8A5Ef/ABrUopczI9tU/mf3nOyaBpo8Q28Qtvka1lYjzG5IeMDv7mr3/COaV/z6/wDkR/8AGny/8jPa/wDXnN/6HFWjTbZc6tS0fee3fzZkyeHNK8tv9F7H/lo/+NfT/wAPAF+GHhYDoNHtAP8AvylfOkn+rb6Gvov4e/8AJMfC/wD2B7T/ANEpW1Jt3PWyucpc/M77fqdFRRRW57IUUUUAFFFFAHxppeh6ddWRmnt90jzSlj5jDP7xvQ1c/wCEc0r/AJ9f/Ij/AONSaH/yCx/12m/9GtWhXE27nyFSrUU2lJ79zS+GOkWNj8W/D0trBsfdcDO9jx9nk9TX0zXzn8PP+SreHv8AfuP/AEnkr6Mrpp/CfQZfJyoJt9wooorQ7zE8WaPPrGhMNPZY9Ts5Fu7CRuizpyoP+ywyjf7LtVvQdYg1/QbTU7ZWRLiPcY3+9E44ZG/2lYFT7g1oVyds3/CLeNprST5NL8QSGa2b+GG82/vI/bzFXeP9pZO5FAHWUUUUAFFFFABRRRQAV4l8fP8AkY/DP/Xpe/8AodvXtteMfHHTRqnijw1C1zPbbbO9ffBt3H57YY+ZSMc1lWaVN3O3AJyxUEu55VSN90/StP8A4Q9P+gzqf5w//G6RvB6bT/xOdT6esP8A8bryeeHc+69hW/l/Ff5n0P8ADj/klnhT/sC2f/ohKn1PwZoWq3ZvZbIW1+f+X6yka3uP+/kZDEexJHtUHw4/5JZ4U/7A1n/6ISukr2z84OW/szxbpHOlazb61AOltq8fly49BPEMf99Rsfej/hOI9P8Al8VaTf6ER1uJY/Otvr50eQo/39n0rqaKAILK/tNStEutOuobu3cZSaCQOjfQjg1PXPXvgbQrq7e8tbeTS75zlrzTJWtpGPq2zAf6OGFV/svjLR/+PS/svENuv/LK/X7LcY/66xgox9vLX60AdTRXLr48sLNhH4mtLzw7JnG/UIx5BPtOhaL82B9q6SCeG6gSa2lSaJxlJI2DKw9QR1oAkooooAKKKKACiiigAooooAKKKKACiiigAooooAKKKKACiiigAooooAKKKKACkchY2L8KBk/SlopPVAct8NUsY/h1pKaTdx3toqOI54lZVf8AeNnAYA9cjkdq6miiqerAKKKKQHM65/yUDwt/u3n/AKLWumrnPEulaxc6xo+qaCLGSbT2mDxXsrxq6yIF4ZVbkEelM+0eO/8AoG+Hf/BjP/8AGKAOmrhvgz/ySLRPpN/6PkrT+0eO/wDoG+Hf/BjP/wDGKw/BuieOvCXhGy0QWvh65FqHHmm+nXdudm6eSf72KAPQq4df+TgZP+xXX/0qatL7R47/AOgb4d/8GM//AMYrDGieOh4/bxN9l8PZbTBp/kfbp+0pk3Z8n3xigD0KuH+Mf/JK9T/67Wn/AKVRVpfaPHf/AEDfDv8A4MZ//jFYfjDRPHXizwrc6MbXw9bCd4m80X07bdkqydPJ77MfjQB6FRXM/aPHf/QN8O/+DGf/AOMUfaPHf/QN8O/+DGf/AOMUAZ3wx/49PE//AGM2of8Ao2u3rz7wzovjrw5FqaC18PT/AG/U7i/z9unXZ5rbtv8Aqecetbf2jx3/ANA3w7/4MZ//AIxQAav/AMlJ8Nf9el9/7Rrpq5S10zxLe+L9O1XXYtKtrewt7iNUs7iSV3aTy8fejUAAIfXrXV0AFFFFAHmvjb4Y6h4m8XyazZalbQpJaRQGKaNiQUZznIPff+lYX/Clta/6C1h/37euq8T+M/EFh4un0fQbDTZY7a0hnklvZ5FJMjSDACqeB5f61nf8Jr46/wCgZ4e/8Cp//iKwlOmnZnjYnFYGFVxq/F1/q5z2ofAzW77Tp7VdZ09DMhTcYnOM/jVj/hS2tf8AQWsP+/b1e1T4jeNdJ0q51C40nQXitozK6pdTbio5OMp1q3/wmvjr/oGeHv8AwKn/APiKXPSsY/XMt5b2Vv68zG/4UtrX/QWsP+/b1Xi+Bmtx6jcXR1nTyJkRAvlPxt3e/wDtV0P/AAmvjr/oGeHv/Aqf/wCIqpD8RvGs2rXWnrpOgiW1jjldjdTbSH3AY+Tr8hz+FHPSBYzLbOyX9fMo/wDClta/6C1h/wB+3qvqHwM1u+06e1XWdPQzIU3GJzjP410P/Ca+Ov8AoGeHv/Aqf/4iqmqfEbxrpGk3OoXGk6C8VrGZXVLqbcQBk4ynWhTpXCOMy1ySilf+vMo/8KW1r/oLWH/ft6P+FLa1/wBBaw/79vWz/wAJr46/6Bnh7/wKn/8AiKP+E18df9Azw9/4FT//ABFLnpE/XMs8v6+ZzzfAzWm1SK7/ALZsMRwvFt8p+dzKc5/4DVj/AIUtrX/QWsP+/b1df4j+No9cg0w6ToHmT20lwrfaptoCMikH5Ov7wfkauf8ACa+Ov+gZ4e/8Cp//AIinz0ipYzLbK6X9fMxW+CutMhA1ewGRj/VPXq3hvSm0HwrpOkPMJ20+yhtTKF2hyiBd2OcZxnFcC/jfxykbN/Zfh47Rn/j6n/8AiK77w5qp17wtpWrtCIDqFlDdGINu8vegbbnAzjOM4FaU5Qfwnfgq2Gq831fpa5pUUUVoegFFFFABRRRQB8caWNSNiTatarF50u0SKxb/AFjdSCKubdY/56WP/ft/8aND/wCQWP8ArtN/6NatCuJvU+PqTtN6Lc1fhmNQHxa8Pfa2tmTdcf6pWB/495PU17L8R9W1XS9N0hNEvzYTXuprbSTiFJCE8mVyAHBHVBzivJPh5/yVbw9/v3H/AKTyV6l8Uv8Aj38Nf9htf/Sa4rZP922evSnKOAlOOjSZgfbPF/8A0OV1/wCAFt/8bo+2eL/+hyuv/AC2/wDjdWKK4vbVO58b/amN/wCfjOo+Hmqajq/hQzaxdfa7qK9urcz+WsZdY5nVSQoAzgDoK2dc0a21/R5tPvd6pJhkkjO14nUhkkQ9mVgCD6iud+F3/Io3H/YVvv8A0peuyr0o7I/RaEnKlFvsjwPWfj9f+DPiRb+HPEttBc2tjH5GpXVsOZJDgrMg7DYVLJ2JYdgT7np2o2er6bBf6ZcR3VpcIJIpo2yrqe4rmNU+E3gXWb2e81Lw1ZzXNxI0s0vzKzsxySSCOSa8y8XS3vww8VxeHfhxdLommXFiL6WB0N0DKZGQlfNY7eFHAwOKbaSuyqtSNKPNLY99or5v/wCFh/EL/oaIf/BZFUVx8SPiHDayyjxPCSiFgDpkXOBmo9rE4lmNB9X9x9K0VS0a8k1DQrC9mCiS4to5XCjgFlBOPbmrtaHohXkvxd/5HLw5/wBeF9/6Mta9arxz4138OneKvDc1wJWU2V6oEUTSHO+2PRQTjjrWNdN0mkd+W1IU8XTnN2Se7OapG+430rH/AOEp0/8A5533/gDN/wDE0jeKdP2H93fdP+fGb/4mvD9lPsz9C/tPA/8AP6P/AIEv8z374c/8ks8Kf9gaz/8ARCV0lc38ORj4W+FR/wBQaz/9EpXSV9EflwUUUUAFFFFACMoZSrAFSMEEda5ufwFowne50YXGg3Tnc02ky+QGPq0fMbn/AHlNdLRQBy2PGmj9GsPEluP73+h3QH1G6Nz+EYp8Pj3SI5kt9cW58P3LHaI9Wi8lWPosuTE59lc101MmhjuIWinjSWNxhkdQVYehB60AOR1dA6MGVhkMDkEUtcw3gLTbVzL4bubzw7KTnGmyhYSfeBg0R+u0H3rZ0iDU7azMetX0F9OHO2aG2MOU4xuXc3zdckYB9BQBeormfiH4kvPCPgW+1rTYIJ7qB4EjjuM7CZJkj5xzwHz+FeS/8Lt8c/8AQL8PfnP/AI10UsPUrK8EYVcRTpO02fQFFfP/APwu3xz/ANAvw9+c/wDjXpPwu8aan410TULjW7a0t7mzvfs+LQtsZfKjcH5uc/OadXC1aUeaaFTxFOrLlizt6KKK5joCiiigAooooAKKKKACiiigAooooAKKKKACiiigAooooAKKKKACiiigAooooAKKKKACiiigAooooAKKKKAK0Wo2s2p3Gnxy5uraOOWWPaRtWQsEOehyUbp6VZrmJv8AQ/itav0XU9HkjJ9Wt5lZR+Vw5/A109ABRRRQB5dr/wDyVLV/+wbZf+h3FFQ+Jby2tfinqwubiKEtptlgSOFz89x61F/a2nf8/wDa/wDf5f8AGvMrp+0Z+d5xGTx1Sy7fkjO8af8AIj6z/wBecn/oJrcrmfGWp2D+CdYRL22ZmtJAAJVJJ2/Wtv8AtbTv+f8Atf8Av8v+NZ2fKefKEvYx06v8kW6w7D/kedZ/687P/wBCnrR/tbTv+f8Atf8Av8v+NYljqdgPG2sOb22CmztAD5q4JDTZ7+4oSdmFOEuWenT9UdNWH41/5EbWf+vKX/0E1o/2tp3/AD/2v/f5f8axPGWp2EngnWES9tmZrOQACVSSdp96Ip8yChCXto6dV+Z01FVP7W07/n/tf+/y/wCNH9rad/z/ANr/AN/l/wAaVmY8kuxmXP8AyUTTf+wVd/8Ao23rermpb+zl+IWnNHdwOF0u6BKyA4zLb/4Vv/bLb/n5h/77FN9DWrF8sNOn6sfN/wAe8n+6f5V2Xw9/5Jj4X/7A9p/6JSuGmvLb7PJ/pMP3T/GPSu5+Hhz8MfC5HT+x7T/0SldeF6n1HDaaVW/l+p0VFFFdh9aFFFFABRRRQB8n2Gk6lp9vJaXmm3sc8NxMrqbZzg+a3cDB+oqz9lu/+fG8/wDAWT/CvqeisvZRPMlllGTbbf4f5Hzz8O7O8/4WjoUhsbtY4jcNJI9u6qg8hwMkjA5IH416H8YL+30zSvDt3euY4Y9bTcwQtjNvOOgBPevQ64X4pf8AHv4a/wCw2v8A6TXFOUVGDRdajChg5wWqs/yOG/4Tzw5/z/Sf+As3/wARR/wnnhz/AJ/pP/AWb/4iuiorzPd7H51zUP5X96/+RNn4R3UN74HkubZi8Uup3rIxUjINw/Y813Fcb8Lv+RRuP+wrff8ApS9dlXqx+FH6fh7exhbsvyCvBPjL/wAlWtP+wKv/AKPkr3uvnz44X1rYfFKye9nSBX0ZQpc4BPnvSqfCYY5N0GkcvVe//wCQdc/9cm/kaq/8JFo//QRt/wDvsVBe+INJbT7hV1CAkxMAA/XiuWzPm40qnMvdf3H1h4Y/5FHR/wDrxg/9FitSuH8OfEPwjD4W0qKXxBYpIllCrKZeQQgyK0v+FkeDv+hjsP8Av7XafYnTV4x8cf8AkaPDX/Xne/8AodtWLB+1Dbaf4s1TTdd0j7Tp9vfTRW19pz5ZolchCUY4YlQCSGH0qX4neI9P8VX3hXVdHadrWazvtpnt3hJ+e27OBke4yPeon8LOXGf7vL0OQpG+6fpS0jfdP0rjPkj6I+HP/JLPCn/YGs//AEQldJXN/Dn/AJJZ4U/7A1n/AOiErpK7z7cKKKKACiiigAooooAKKKKACiiigDg/jV/ySXU/+viz/wDSuGvBa96+NZA+EupknA+0WfJ/6+4a8C86L/non/fQr38pfuS9Tw8z+OI+vYfgL/yAvEH/AGFh/wCk0NeN+dF/z0T/AL6Fex/ANg2g+ICpBH9rDkH/AKdoa0zRr2C9f0Znlqftn6fqj1aiiivnD6AKKKKACiiigAooooAKKKKACiiigAooooAKKKKACiiigAooooAKKKKACiiigAooooAKKKKACiiigAooooA5jxZ/out+FtSHAh1T7PIf9iaGSMD/AL+GL8q6euZ+IilfAeoXigltO8vUVx1zbyLN/wC066VWDKGUggjII70ALRRRQB5H4s0nTtS+KeqHUdPtbspptnsM8Kvty8+cZHHQVV/4RXw9/wBALTP/AADj/wAK1df/AOSpav8A9g2y/wDQ7iivNrN+0Z+eZxUnHHVEm+n5I5Hxf4b0O38G6tNBo2nxSx2sjI6WqBlIHBBA4NbP/CK+Hv8AoBaZ/wCAcf8AhUHjT/kR9Z/685P/AEE1uVnzPlOB1anso+89318kZX/CK+Hv+gFpn/gHH/hWLZeG9Dbxnq8LaNp5iS0tWVDaptUkzZIGOpwPyFdfWHYf8jzrP/XnZ/8AoU9Ck7MKdWpyz957d/NE/wDwivh7/oBaZ/4Bx/4VjeL/AA3odv4M1aaDRtPiljtJGR0tUDKQvBBA4NddWH41/wCRG1n/AK8pf/QTRGT5kFCrU9rH3nuuvmT/APCK+Hv+gFpn/gHH/hR/wivh7/oBaZ/4Bx/4Vq0VPMzH21T+Z/ecbdeGNAbx5p8DaHpphbTbp2jNpHtLCWAA4x1AY8+59a2f+EO8Mf8AQuaT/wCAMX/xNRXP/JRNN/7BV3/6Nt63qpydlqb1K1VRh7z27+bMObwd4ZEDkeHdJB2n/lxi9P8Adr0v4ecfDHwvj/oD2n/olK42b/j3k/3T/Kuy+Hv/ACTHwv8A9ge0/wDRKV1YZt3ufTcOznNVeZ32/U6KiududK8VSXcr2nia0hhZyY4n0reUXPA3eaM4Heo/7L8aDp4p0s/72iMf5XArsPqzpqK5n+zvHA6eJdCP+9oMv9Luj7H47H/Mc8Ot/wBwacf+3RoA6aiuZ+z+Ox/zFPDrf9w2cf8Atc0eV47H/L54db/t0nH/ALUNAHTUVzO3x2P+Wnh1v+ATj+po3eOx/wAs/Drf9tJx/Q0AdNXC/FL/AI9/DX/YbX/0muK8W8Waj8Wo/jhq0XhH7YboCDzoLAvLZqTCmC3mDYMjuQOc813viRfGeoeFPD8HxAi0+zupdajCtpU7iQD7POfmPRWyOqNjHFRP4WcmN/3apfs/yNWisP8A4RW3/wCgnrH/AIMpf/iqP+EVt/8AoJ6x/wCDKX/4qvLsu5+actL+b8P+Cd38Lv8AkUbj/sK33/pS9dlXE/CaH7P4JkhDySCPU71Q0jbmOLhxye59+9dtXqx+FH6hh/4MPRfkFeYeMP8Akq8P/YEH/o816fXmHjD/AJKvD/2BB/6PNZ1/4bPOzn/cpjapa1/yAdQ/69pP/QTV2qWtf8gHUP8Ar2k/9BNeatz88p/Gj0rwx/yKOj/9eMH/AKLFalZfhj/kUdH/AOvGD/0WK1K9g/WjldM+GfhDStdvNat9Et5dTvLl7qW6uB5riR2LEruyE5J+7iuR+LWiR694z8O2st3c2gTT76TfbFAxxJajHzKwxz6dhXrFedePf+ShaB/2C7//ANG2lZ1XaDODMpOGEqSjvY4H/hW9r/0HdY/76g/+NUj/AA4tQjf8T3WOn96D/wCNV2dNf/Vt9DXm88j88+uV/wCb8Edf8Of+SW+Fe3/Ems//AESldJXN/Dn/AJJZ4U/7A1n/AOiErpK9Y/UgooooAKKKKACiiigAooooAKKKKAOB+NyLJ8IdVSRQ6NPZhlYZBH2uHivnn+xtL/6Btn/34X/Cvoj41/8AJJdT/wCviz/9K4a8Er3crjGUJXXU6qCTTKX9jaX/ANA2z/78L/hXtf7P0EVv4d1+K3iSKNdW4RFCgf6PD2FeQ17D8BP+QD4g/wCwsP8A0mhrTM4xVFWXX9GVXSUT1aiiivnjjCiiigAooooAKKKKACiiigAooooAKKKKACiiigAooooAKKKKACiiigAooooAKKKKACiiigAooooAKKKKAK2o2UepaXdWM/8Aq7mF4X+jKQf51leBb2TUPAOh3Fx/rzZRJN7SKoVx/wB9A1vVzHgb/R7PWNM/6B+sXSAeiyP9oUf98zr+FAHT0UUUAeO+M7XV7j4qamdI1O3sgNNs94mszNu+efGPnXHf1qh/Zviv/oY7D/wUn/49XQa//wAlS1f/ALBtl/6HcUV5taTVRn59m9aUcdNJLp0XZeRw/izT/EqeD9Va51+ylhFq5dE0woWGOQG804+uDWx/Zviv/oY7D/wUn/49UnjT/kR9Z/685P8A0E1uVnzPlOB15+yjot39ldl5HP8A9m+K/wDoY7D/AMFJ/wDj1Y9lp/iU+MNWVdfshMLW1LudMJDDM2AF83jGDzk5z2xz3FYdh/yPOs/9edn/AOhT0KTswp158s9Ft/Ku68iP+zfFf/Qx2H/gpP8A8erH8W6f4lTwfqrXOv2UsItZC6JphQsNvIDeacfXBruKw/Gv/Ijaz/15S/8AoJojJ3QUK83Vjot19ld/Qj/s3xX/ANDHYf8AgpP/AMeo/s3xX/0Mdh/4KT/8eroKKXMzL28+y/8AAY/5HCz6f4lHjqwVtesjOdNuSsn9mHCr5sGRt83kklec8YPBzxtf2b4r/wChjsP/AAUn/wCPU65/5KJpv/YKu/8A0bb1vVTk7I2qV58sNFt/Ku78jnJtN8VeQ+fEdhjaf+YSfT/rtXqXw8yPhh4Wycn+x7Tn/tilcbN/x7yf7p/lXZfD3/kmPhf/ALA9p/6JSurDO9z6Xh2o5qre3TZJd+x0VFFFdZ9UFFFFABRRRQAUV8qaTpceoWBubq71BpXnmztv5kGBKwAADAAYA6Vd/wCEetP+fnUv/BlP/wDF140s1hF2cTo9i31Pp6uF+KX/AB7+Gv8AsNr/AOk1xXnXw/tTpXxN0MWl3fbLkzxTJLeSyK6iB2AIZiPvKp/Cu8+MM13BpPh2TTrVLu4Gtpshebyg3+jz/wAWDj8q76VZV6Lmlbc8/Hwaw9SPk/yKNFc1/a/i7/oVbP8A8G//ANqo/tfxd/0Ktn/4N/8A7VXFys/M/q8+6/8AAo/5nonwu/5FG4/7Ct9/6UvXZVw/wjknl8DO93AtvO2p3pkiWTeEb7Q+RuwM/XFdxXqx+FH6dh1ajBeS/I8q+J3xwh+GuvJpdz4dur15YVmimE6xxyKSQcHBOQQQRj+dZvhpfEvxauk8ZfZ4/Clr9l+yWyTL9sa6XeWL4/d7QDxnnPpxk7Pi7wDpHxD+KAt/EHmtBpFhZ3UcaNjzd8t0HQ+iny0zjB4HIr0uGGO3gjht41iijUIiIuFVQMAADoKbSasyqlOFWPJNXRwH/CvPEH/Q2W3/AIKf/t1RXXw1167s5reTxbbhJo2jYrpPIBGP+etej0VHsodjkWW4NO/s19xW06zXTtLtLJHLrbQpCGI5YKoGf0qzRRWh3hXlvxR1W20fxv4euLwTmNtOvkHkQPK2TJanogJxween516lXkvxd/5HLw5/14X3/oy2rnxM+SjKRlVw8cTB0Z7Mxf8AhOtH/wCeepf+Cy4/+IpH8c6P5bfu9S6f9Ay4/wDiKy6RvuN9K+c+vP8AlPM/1Xwf80vw/wAj2b4cjHwt8Kg9tGs+h/6YpXSVzfw5/wCSWeFP+wNZ/wDohK6Svqz2AooooAKKKKACiisfWfFWkaHMlveXJkvZRmKxtkM1xL7rGoLY98YHcigDYrO1jxBpXh+3WbWL6K1Eh2xoxy8rf3UQZZz7KCaxs+LfEP3Qnhewbu2y4vnH05iiP/fz8K0dH8KaTolw91bQNPfyDEt/dyGa4kHoZGyQP9kYUdgKAM7+0/E/iDjRdPXQrJv+X7VU3TsPVLcEY+sjAj+4a29H0x9KsjDNqF5qMruZJLi7cFmY46BQFUcfdUACr9FAHNfEPw3d+LfAt9o2nSww3M7wPG85ITMcySYJAJ5CY6HrXk//AApXxn/z86F/4Ezf/Gq99oreliKtFWg7FxnKOx4F/wAKV8Z/8/Ohf+BM3/xqvRvhd4M1PwZo+pW+szWks95e/aB9kZmVV8qNMZZQc/IT07129FOriatWPLN3QSnKSswooornICiiigAooooAKKKKACiiigAooooAKKKKACiiigAooooAKKKKACiiigAooooAKKKKACiiigAooooAKKKKACuY0n/RPiR4itTwt5bWl+vu2Hhf8hDH+Yrp65jU/wDQ/iZoNz0W9sruyb3YGOVPyEcv50AdPRRRQB5b4sS+s/iNf3a6Pqd3bXGn2qRzWlo8ylkabcCVBwRuX86o/wBo3X/Qva//AOCuX/CvYKKwlQjJ3Z42JybDYmq6s27vz+XY8K8Ty6jqPhXUrO18Oa+809s8aL/ZkoySMDtWr/aN1/0L2v8A/grl/wAK9gopfV4WsY/2DhHFRu/vX+XkeP8A9o3X/Qva/wD+CuX/AArKtJdRj8VaneP4c18Qz21tHG39mS8lDKW7f7Yr3Wij6vAI5DhIppN6+a9ex4//AGjdf9C9r/8A4K5f8KyvE8uo6j4V1OztPDmvvNPbPHGv9mSjJIwO1e60ULDwTuEMhwkJKSb081/keP8A9o3X/Qva/wD+CuX/AAo/tG6/6F7X/wDwVy/4V7BRS+rQJ/1ewneX3r/I8Jmk1F/GVlfL4c177PFYXELt/ZkvDPJCVHT0Rq1v7Ruv+he1/wD8Fcv+FewUU/q8CpZDhJJJt6ea/wAjxyXULtoXA8Pa+SVIH/Erl/wr0fwRaXFh8PvD1newtBc2+l20U0TjDI6xKGU+4IIrcorSnTjT2O/BZfRwXN7K+tt/IKKKK0PQCiiigAooooA+YfDn/IFX/rvP/wCjnrVrndJ1GS3sDFa6VqF3Es82JlEKhj5rZwDJnGcjn0q7/bF1/wBAHUv++oP/AI7XxdSDc2/Puj0E9DpvCH/JTvDf/XW4/wDSaSu++KX/AB7+Gv8AsNr/AOk1xXmvgW/luvil4cSXTby0xJcENN5ZU/6NJ/dcn9K9G+LVxDaad4euLuaOCCLWkMksrBVQfZ5xkk8DkgfjX0OBTWFt6nk5lrQqW/lf5GZRWT/wlfh3/oPaX/4GR/40f8JX4d/6D2l/+Bkf+NZcr7H5b7Gr/K/uO1+F3/Io3H/YVvv/AEpeuyrivhRNFceC5ZoJElik1O9ZHRgVYG4cggjqMVqXvim6iu5rTTvDOsX88bFQwjSGFsd/MkYDb7jJ9Aa9aPwo/UcP/Bh6L8iGy+f4sayR0j0WwB+pmuz/AE/WunrC8NaPeWLX2o6y8L6rqcoluBASY4VVQqRISASFA6kDLMxwM4G7VG4UUUUAFFFFABXkvxd/5HLw5/14X3/oy2r1qvNPiNoKeIfHnh+0kvruyCaZfy+ZaFNxxLajB3qwxz6Z4HNceOko4abfY0p6zRwNI33G+ldT/wAKvt/+hl1z87b/AOM01/hhbiNj/wAJLrnQ97b/AOM18T9Yo/zfg/8AI9Hkl2O/+HP/ACSzwp/2BrP/ANEJXSVzfw5/5Jb4V7f8Saz/APRKV0lfoR5QUUZx1rmbjxvaT3Eln4ZtZvEF4jbXFkR5ETekk5+Rcd1BLf7NAHTVgan4y0ywvn060E2raovWw05PNkT/AHzkLGPd2UVU/wCEd1vXfm8V6uYLZv8AmGaQ7RR49Hn4kf8A4D5YPcGt/TNK0/RrFbPSbKCytk5EUEYRc+uB396AMD+zvFPiDnV75dAsm/5c9MffcMPR7gjC/SNcjs9bGjeHtJ8PwvHpFlHbmU7pZeWkmP8Aed2yzn3Yk1pUUAFFFFABRRRQAUUUUAFFFFABRRRQAUUUUAFFFFABRRRQAUUUUAFFFFABRRRQAUUUUAFFFFABRRRQAUUUUAFFFFABRRRQAUUUUAFFFFABRRRQAVzHjf8A0eLQ9T6fYNZtiT6LMTbH8MT109c/49tJLz4f63HbjM6Wck0H/XRBvT/x5RQB0FFQWV3Hf6fb3kBzFcRLKh9QwyP51PQAUUUUAFFFFABRRRQAUUUUAFFFFABRRRQAUUUUAFFFFABRRRQAUUUUAfMPhz/kCr/13n/9HPWrWV4c/wCQKv8A13n/APRz1q18PV/iS9T0Y7I0fCH/ACU7w3/11uP/AEmkrvPioiyWvhpXUMv9trwRn/l2uK4Pwh/yU7w3/wBdbj/0mkrvvil/x7+Gv+w2v/pNcV9HgP8AdPvPIzP+BU/wv8jC+yW//PvF/wB8Cj7Jb/8APvF/3wKmorM/KuZm98LFVPB86oAoGq32ABjH+kvXZ1xvwu/5FG4/7Ct9/wClL12VevH4UfqmH/gw9F+QUUUVRuFFFFABRRRQAVxPiX/kpuhf9gfUP/R1nXbV57441jTdE+IegXOs6ha2ED6VfxrLdTLGpbzbQ7QWIGcAnHtXn5mnLB1EuxrR0qI2abJ/qn/3TWB/wn/g7/oatF/8GEX/AMVTZPH/AIPMbAeKtF6H/mIRf/FV+c+wrfyv7mevzR7nUfDnj4V+Fc/9AWz/APRCVCfGUmrExeC9Mk1jt9vkYwWS+/mkEyf9s1Ye4qb4c8fC3wrn/oDWf/ohK6Sv1Y8M5X/hD59Y/eeNNUfVFPP9n26mCyX2MYJaX/tozA/3RXTW9vBaW6W9pDHBDGu1I4lCqo9ABwBUlFABRRRQAUUUUAFFFFABRRRQAUUUUAFFFFABRRRQAUUUUAFFFFABRRRQAUUUUAFFFFABRRRQAUUUUAFFFFABRRRQAUUUUAFFFFABRRRQAUUUUAFFFFABRRRQAUjoskbI4DKwIYHuKWigDmvh27f8IBpdtISz2CPp7k9d1u7QnPvmOulrmPCH+jar4n008C31ZpkHqk8Uc2f++3kH4V09AHivxHutQk+JV1bRaxqtpbw6dbMkNnqE1ugZnm3HCMASdo5PoK53Oof9DD4h/wDB3df/AByt74hf8lUv/wDsG2n/AKHPWJXzGOr1YYiSjJpadfI7KcYuCujK8Q3erWPh29ubXxJ4hSaKIsjf21cnB/GStLOof9DD4h/8Hd1/8crK8Wf8ilqX/XA1sVzPEVvZp873fX0L5I32GZ1D/oYfEP8A4O7r/wCOVm2l3q0niLUbZ/EniEwwxQNGv9tXPBbfn/lp7CtWsex/5G3V/wDrhbf+1KIYityy997d/NA4R00NXOof9DD4h/8AB3df/HKoa5d6tY6De3Vt4j8QJNDCzox1m5OCBkcF8GtKsrxP/wAirqf/AF7P/KiniKzmk5vfuDhG2xpZ1D/oYfEP/g7uv/jlGdQ/6GHxD/4O7r/45T6Kz+s1/wCd/ex8kexny32rjXrSxHiLXxA1tPMR/bFzksGiA+bfnABPGccmrudQ/wChh8Q/+Du6/wDjlZs3/I32f/XjP/6MhrVq5YiskrTe3fzYlGPYikbURGxHiHxDkA/8xu6/+OV7j4GuZ734eeHbq8mee4n0q2kllkbc0jGJSWJ7kk5rxGX/AFL/AO6a9p+Hv/JMfC//AGB7T/0SlevldSdTn523t+phWSVrHRUUUV7RzhRRRQAUUUUAfJ+i6FBdaaZnutQRnnnysV9Kij96/RQwAq//AMI3bf8AP7qv/gyn/wDiqf4c/wCQKv8A13n/APRz1q18XUqzU2r9T0ElYf4D0iGw+KnhySK4vZSZLgYnu5JR/wAe0nZiRXtPivwvF4qsbSCS+ubCSzuluoZ7YIWDhGTBDqwIw7dq8k8If8lO8N/9dbj/ANJpK94r6PLm5Ydc2u5x14xk3FrQ4T/hWtx/0N+r/wDfi1/+M0f8K1uP+hv1f/vxa/8Axmu7oru9nDsjz/qOE/59R/8AAV/kZHhjw9F4Y0QadBdT3f76Wd5rjbvd5HLsflAA5bsK16KKs60klZBRRRQMKKKKACiiigAqG7urexs5bu9mjt7eBDJLLKwVUUDJJJ6Cpq5X4lWWkah4A1G38QWb31swUR2scrRtPOWAiQFSOTIVA7ZPNAHI+Bfi2fiJ8Wr/AEzRE2eHtO0+R0kZMPcy+ZGoc55VcFsL15yfQesYry74T/BsfDLVL29Gpi9N7aRRMhi2mJxy+DnlSenAP1616jQAUUUUAFFFFABRRRQAUUUUAFFFFABRRRQAUUUUAFFFFABRRRQAUUUUAFFFFABRRRQAUUUUAFFFFABRRRQAUUUUAFFFFABRRRQAUUUUAFFFFABRRRQAUUUUAFFFFABRRRQAUUUUAcxbf6H8Vb6PoupaTDMo9XgldXP5TRj8BXT1zHiD/RPHHhW/6CWW505j6CSHzR/49bKPqRXT0AeD/E69ltfireCLT7q73aba5MGz5fnm67mX9PSua/ti6/6AOpfnB/8AHK6/4hf8lUv/APsG2n/oc9YlfK4+SWJlp279kdtJe4jlvE+q3Enhi/R9Gv4laEgu5hwvucSE/kK1f7Yuv+gDqX5wf/HKj8Wf8ilqX/XA1sVzOUfZr3er7+XmXZ3Mv+2Lr/oA6l+cH/xysq11S4j8S6lKdG1Bmkhg/dr5RZQN/J+fGDk4wT0OccZ6msq0/wCRq1L/AK9rb+ctKEo2l7vTz7oGnoN/ty4/6AGqflD/APHKzfEeszP4a1BH0XUYlaBlLuItq5GMnDk/pXU1j+LP+RS1L/rg1OlKPtI+71XcGnbck/ti6/6AOpfnB/8AHKP7Yuv+gDqX5wf/ABytSis+aP8AL+f+Y7PucvPq9wPFNo50XUAwspwI/wB0WI3xc/6zGBj17itH+3Lj/oAap+UP/wAcpZv+Rysv+vC4/wDRkNa1aTlG0fd6efdiSfcxpNbuPKf/AIkOqfdPaH/45X0B8PDn4YeFj0/4k9p/6JSvFpf9S/8Aumvafh7/AMkx8L/9ge0/9EpXsZS0+eytt+pz1+hoax/bm2L/AIR8aeTk+b9tLj0xt2/j1rL3eO/+eXh0/wDbScf+y101Fe2c5zPmeO/+ffw6f+3icf8AslHmeO/+ffw6P+3ic/8AsldNRQB478ZpPHK/DK8LLp8befB5baXJObjf5q7dnA5zisv4Vv8AHJlt/wC3Ftf7Lyu468CLjZn5tuz592P+ele7UUAfKGiXGsJpu21020liE8+15L1kY/vX7CM4/OtD7Xr/AP0CbH/wYN/8apfDn/IFX/rvP/6OetWvi6k1zv3Vv5/5noJabkngSfU5Pip4cF/Y21vH5lxhoroyHP2aTsUX+de7audXFsh0FbJ59/zres6qVwehUE5zjtXi3hD/AJKd4b/663H/AKTSV7xX0mXNPDqytuclX4zlX8V6now3eLdAktLYfev9OmN5BGPVxtWRR77Co7kV0ttcwXtrHc2c0c8Eqh45YmDK6noQRwRUtcff6XceDrqbWfDVu0umyMZNS0iFevdp4FHSQdWQcP8A73X0DI7CioLK9ttSsIL2wnS4triMSRSxnKupGQQanoAKKKKACiiigAooooAK5S6/4qL4gQWY+aw8PAXM/o93IpESf8AjLOR6yRntW3rusQaBoN5ql0rPHbRlxGn3pG6Ki/7TMQo9yKqeEtHn0fw+iagyvqV07Xd/IvRp5DufH+yvCj/ZVaANuiiigAooooAKKKKACiiigAooooAKKKKACiiigAooooAKKKKACiiigAooooAKKKKACiiigAooooAKKKKACiiigAooooAKKKKACiiigAooooAKKKKACiiigAooooAKKKKACiiigAooooA5jx/+48NwaiOum6jaXZPoizoJP/IbPXT1leKdMOteEdX0wDLXllNAuOxZCB+pp/hzUxrXhbStUBz9ts4rj/vtA39aAPI/iF/yVS//AOwbaf8Aoc9Yle4at4P8N69eC71vQNN1C4VBGJrq0SRwoJIXLAnGSePeqX/CtfA//QoaH/4L4v8A4mvIxGW+2qupzWv5f8E3jW5Y2seCeLP+RS1L/rga2K9iPw08Dnr4P0P/AMF0X/xNL/wrXwP/ANChof8A4L4v/iaz/sn3VHn/AA9PMr2+ux45WVaf8jVqX/Xtbfzlr3j/AIVr4H/6FDQ//BfF/wDE0n/CtPA//Qn6H/4Lov8A4mkspsmuffy/4Ie38jx2sfxZ/wAilqX/AFwave/+Fa+B/wDoUND/APBfF/8AE0h+Gngc9fB+h/8Agui/+Jpwynlkpc+3l/wQde62PHaK9j/4Vr4H/wChQ0P/AMF8X/xNH/CtfA//AEKGh/8Agvi/+JqP7H/v/h/wQ9v5Hg03/I5WX/Xhcf8AoyGtavYv+FaeB85/4Q/Q/wDwXRf/ABNL/wAK18D/APQoaH/4L4v/AImqllN0vf28v+CHt/I8al/1L/7pr2n4e/8AJMfC/wD2B7T/ANEpUX/CtfA//Qn6H/4Lov8A4mujt7eGztYra0hjgghQRxRRqFVFAwFAHAAAxiu3B4P6tze9e/kZ1KnOSUUUV3mQUUUUAFFFFAHyloevaRaaZ5F1qllDKk8+6OS4RWX96/UE1of8JNoP/Qa0/wD8Ck/xpvhxQdFXIH+vn7f9NnrV2r/dH5V8XUcOd6Pfv/wD0FexN4F1jTdQ+KfhyOx1C1uXElwSsMyuQPs0nYGvoSvB/CCgfE7w3gAfvbjt/wBO0le8V9Hl1vq6t5nJV+MKKKK9EyONm/4oLV3uV48M6hNunXtptw5/1g9InJ+bsrHd0ZsdlTJ4Irm3kguI0lhlUpJG65V1IwQQeoIrj7a8m8AOlhq8jS+Gi2yz1F2JNgD0hnJ/gHRZD0GFbsxAOzorlPC/xJ8NeLtY1HStJvh/aGnzyQyW8uFaQIxXzE5+ZDjOR0yMgZFdXQAUUUUAFFFU9X1S20TRrvU75itvaQtLIQMkgDOAO5PQDuaAMDVP+Kh8c2WkL81lowXUb30ec5FvGfphpD6FY/WurrA8HaXc6foZuNUULqupSte32DnbI+MR57hFCxj2QVv0AFFFFABRRRQAUUUUAFFFFABRRRQAUUUUAFFFFABRRRQAUUUUAFFFFABRRRQAUUUUAFFFFABRRRQAUUUUAFFFFABRRRQAUUUUAFFFFABRRRQAUUUUAFFFFABRRRQAUUUUAFFFFABRRRQAVzHw+/c+FTp566be3VkB6JHO4j/8h7D+NdPXMeHP9E8ZeK7DoHuYL9B6LLCsZ/N4HP1JoA6eiuB1mfWdQ8fajp9p4iv9LtLOxtZEis4rc7mkabcSZYnP8C9CBTf7L13/AKHjXf8AvzY//I1eTiM3wuHqulUbuvI3jQnOPMj0CivJ/Fj+JNC8Jalqln421l57WAyIssFkVJHri3B/Wtj+y9d/6HjXf+/Nj/8AI1Zf25g1FSu7en9dyvq1S9j0CivP/wCy9d/6HjXf+/Nj/wDI1Y9i/iS58W6vpcnjbWRBZQW0kbLBZbiZPM3Z/wBHx/AMcDvRHPMHJNpvTy+X6h9WqHrFFef/ANl67/0PGu/9+bH/AORqy/E3/CR6J4W1LVLbxrrMk1nbPMiSwWRVioyAcW4OPoRRHPMHKSim9fIHhqiVz1SivP8A+y9d/wCh413/AL82P/yNR/Zeu/8AQ8a7/wB+bH/5Gqf7ewXd/cH1WoegUV5dPJ4hTxPYaMvjDVhFLZ3N28/k2fmMUeBFX/Ubdo3sfu5yeuMCtH+y9d/6HjXf+/Nj/wDI1U88waSbb18g+rVD0CivPJdO15IXYeONdyqkjMNj/wDI1dV4Nv7nVfAug6hfyebdXem2880m0LvdolZjgcDJJ6V24PH0cZzey6fqZ1KUqfxGzRRRXcZBRRRQAUUUUAfMPhz/AJAq/wDXef8A9HPWrXNaJptzNpnmR6zfW6tPPiONYSq/vX6boyf1rQ/si7/6GDUv++Lf/wCNV8XUjHnfvLfz/wAj0E9DpvCH/JTvDf8A11uP/SaSvQviZaxX1v4ds7kM1vcayqyorsu9Rbztg4I4yAce1eY+BbCe2+Kfhx5tUu7sGS4GyYRAD/RpOflRTXqfxB/13hb/ALDa/wDpNcV7NP3cunZ9JGD1rL5GN/wgfhv/AKBo/wC/0n/xVH/CB+G/+gaP+/0n/wAVXQ0V8J9YrfzP72enyx7EPwzjWDwpcW8ZbyoNUvoolZy21FuHAUE84ArqrqJp7OaKMoHkjZVMi7lyR3Hce1cx8Of+Rdvv+wxf/wDpTJXWV+n4fWjD0X5Hiy+Jnz1pP7K39m38V6PG91FcRMHSSzsvKdG9VbzDg+9WPiTo7N480yw1q8l1V7fRFzPKPLMjec43FUwM49BXvteK/FH/AJKtbf8AYFX/ANHvWGPbWHbRVL4ji/8AhGtJ/wCfT/yI3+NV9Q8O6XHpl06Wu1lhcgiR+Dg+9btVdT/5BN3/ANcH/wDQTXy8atTmXvM7WlY+gfDbvL4V0mSVmd2soWZmOSSUGSTWNrv/ABUHi7TvD6/NaWOzU9R9DtY/Z4j9ZFL/AEh96v6Rf22l/D6wv76URW1rpkc00h6KixAk/kKh8F2FzFpMuq6pEY9T1mY3tyjdYQQBHF/wCMIp9wx719secdFRRRQAUUUUAFFFFABRRRQAUUUUAFFFFABRRRQAUUUUAFFFFABRRRQAUUUUAFFFFABRRRQAUUUUAFFFFABRRRQAUUUUAFFFFABRRRQAUUUUAFFFFABRRRQAUUUUAFFFFABRRRQAUUUUAFFFFABXMTf6H8VrZ+i6no8kZPq1vMrKPyuHP4GunrmPFn+i634W1IcCHVPs8h/2JoZIwP8Av4YvyoAypf8AkqGu/wDYOsf/AEK4rTrmtb1220f4pawLm31CbzdOstv2PT5rnGHuOvlq23r3xn8Kd/wm+m/8+Gvf+CG8/wDjVfn2b0aksdNxi+n5I9XDySprUZ8R/wDkm+uf9ejV01ed+PfF9hd+AdYgjstaV5LZgGl0a6jUfVmjAH1Jrof+E303/nw17/wQ3n/xquCVCr7GK5Xu+nlE15o8z1OjrmdI/wCSkeJf+vSx/wDa9P8A+E303/nw17/wQ3n/AMarB0vxZYx+PNfuXstZEc1rZqgGjXRf5fOySoj3KOeCQAcHGcHBToVVCfuvbt5oHKN1qeg1z3j/AP5J3r3/AF4S/wDoJo/4TXTP+fLXf/BDe/8AxqsLxv4w0648B61ClrrKNJZSIpl0W7jUEqQMs0YAHuTSoUKqqx917rp5hKUeV6nfUVzn/Cb6b/z4a9/4Ibz/AONUf8Jvpv8Az4a9/wCCG8/+NVl9Xrfyv7iuaPcddf8AJTNL/wCwRef+jrauhrgLjxhp7fELTp/setBV0u7QqdFu95JltzkL5eSODkgYHGeozvf8Jrpn/Plrv/ghvf8A41WtShV5Y+69u3myVKN3qbtx/wAe0v8AuH+VW/h7/wAkx8L/APYHtP8A0SlcpP410028g+xa5yp66De+n/XKur+Hhz8MfC//AGB7T/0SlfTcO05wVXmVtv1OPFtO1joqK5268Qa5ZXUok8JXl1ao5CTWN3A7MueGKOyHpzgZP1qXTPGeiapfLYpcvaagwyLK+he2mOOuEkALD3XI96+rOE3aKKKACiiigD5h8Of8gVf+u8//AKOetWprDwN400u3ezPha4uRHPMVmhvLXZIpkZgw3Sg4II6gH2qz/wAIt4z/AOhPvv8AwMs//j1fJVMHiHNtRe53KpG247wh/wAlO8N/9dbj/wBJpK9C+JkssFv4dltrd7q4XWV8qBWVfMb7POMFiflGMnPPTGOa5Dwh4V8Uw+P9Hv8AUvD0+n2dm0zyzTXNu4+aF0AASRiTlh2rtPiD/rvC3/YbX/0muK9SNOVLL5xmtbMxunVVjG/tnxJ/0Kv/AJUY/wDCj+2fEn/Qq/8AlRj/AMK6GivgvaR/kX4/5nqWfcg+GTvL4VuXliaGRtVvS8bEHY32h8jI4ODkZ79eOldhXJ/Dn/kXb7/sMX//AKUyV1lfp+H/AIMPRfkeLL4mFeNfEzTdVvvipanSLJLsjRRuDTiPbidvXr1r2WuE1n/krEf/AGBP/a9ceazdPCSkjSgrzSPOv+Ed8Wf9AKL/AMD0/wAKq6r4f8VJo940mhxKiwOWP25DgbT7V7DWfr//ACLepf8AXpL/AOgGvh4Y6bkvdX4/5npOkrbleItr2m+E/DBA8r7BbajqgU5AhjVfLj/4HKB9Vjcd69BrkPhvo89h4bTUNSZJL/UkidihyEhRAkMY+iAE/wC07+tdfX6WeOFFFFABRRRQAUUUUAFFFFABRRRQAUUUUAFFFFABRRRQAUUUUAFFFFABRRRQAUUUUAFFFFABRRRQAUUUUAFFFFABRRRQAUUUUAFFFFABRRRQAUUUUAFFFFABRRRQAUUUUAFFFFABRRRQAUUUUAFcz8RFK+A9Qu0BL6cYtQXA5zbyLNx/37rpqKAODlOfifrhHIOnWH/oVxWnWZL/AMlQ13/sHWP/AKFcVp1+c5z/AL/U+X5I9fD/AMJHM/Ef/km+uf8AXo1dNXM/Ef8A5Jvrn/Xo1dNXny/gx9X+UTX7TCue07/komvf9eFj/wChXFdDXPad/wAlE17/AK8LH/0K4op/DP0/VA90dDXM/Eb/AJJvrv8A15vXTVzPxG/5Jvrv/Xm9GH/jQ9V+YT+FnTUUUVgUc5df8lR0r/sDXv8A6Ota6Oucuv8AkqOlf9ga9/8AR1rXR1vV+GHp+rJW7I7j/j2l/wBw/wAqt/D3/kmPhf8A7A9p/wCiUqpcf8e0v+4f5Vb+Hv8AyTHwv/2B7T/0SlfUcN7Vfl+pxYz7J0VU9U0jTtbsWs9XsoL23Y58udAwB7EZ6EdiORVyivrjgOTOi694c/eeGr99Usl66VqkxZgPSK4OWB9pNwPTK9a0tF8U6frU8lmolstShXdPp14nlzxj129GX/bUlT61tVma34e07xBbxpqMJ82Ft9vcxOY5rd/70bjlT9OvQ5FAGnRXI/2trXhL5PEivq2kr93V7aL99CP+niJRyP8Apogx6qo5rqLS8tr+ziu7G4iubeZQ8c0LhkcHuCOCKAJqKKKACuO+IP8ArvC3/YbX/wBJriuxrhPinptrq9t4asr+NpLeTW03KsjITi2nI5UgjketcuMt9WqX7P8AIun8aNKiuW/4Vv4X/wCfCf8A8D7j/wCLo/4Vv4X/AOfCf/wPuP8A4uvzTlofzP7l/wDJHsXl2/r7jpvhz/yLt9/2GL//ANKZK6yuM+FlnBp/hG4tLRCkMOq3yIpYsQBcv3JJP412dfp+Ht7GFuy/I8aXxMK888SahZaf8VoTf3cFsH0XCmaVU3fv+2TXU+MLnVLLwbql3oM9rBf21s80Ul2haIbRuOcEdQCM54PJzjFfN/w/Xxv8a/G23xjqd0NG0l914kaC3yc8QDYAckjnuADznFZYzDLFUXSbtcdOfJLmPb/+Ej0P/oM6f/4FJ/jVDXfEWiN4d1IDWLAk2koAF0nPyH3ruB4c0QAAaNp4A6D7Kn+FL/wjuif9Aew/8BU/wrwI8OQTT9o/u/4J1fW32GeGP+RR0f8A68YP/RYrUoACgADAHAA7UV9UcQUUUUAFFFFABRRRQAUUUUAFFFFABRRRQAUUUUAFFFFABRRRQAUUUUAFFFFABRRRQAUUUUAFFFFABRRRQAUUUUAFFFFABRRRQAUUUUAFFFFABRRRQAUUUUAFFFFABRRRQAUUUUAFFFFABRRRQAUUUUAc/q3gjQ9b1ZtSvorxbt4kheS11G4tt6KWKgiKRQcF25IzzVT/AIVt4d/6jH/g+vv/AI9XV0VnKlTk7uK+4fM11OPufhZ4VvLaS3u4dUngkG145NbvWVh6EGbmpf8AhW3h3/qMf+D6+/8Aj1dXRS9jT/lX3D5pdzlP+FbeHf8AqMf+D6+/+PVGvwt8LJcSXCRaos0qqryDXL3cwXOAT53IGTj6muvoo9jS/lX3BzS7nKf8K28O/wDUY/8AB9ff/HqiufhZ4VvLaS3u4dUngkG145NbvWVh6EGbmuwoo9jTX2V9wc0u5yn/AArbw7/1GP8AwfX3/wAeo/4Vt4d/6jH/AIPr7/49XV0Uexpfyr7g5pdzkD8LfCzXS3LRaoZ0QxrKdcvdyqSCVB87oSqkj2HpUn/CtvDv/UY/8H19/wDHq6uij2NL+VfcHNLucmfhp4cZSD/a5BGCP7dvv/j1dJp9hbaXpttp9hEIbW0hSCGMEnYigKoyeeAB1qxRVRhGHwqwm29woooqxBRRRQAVzF34SlsLyXUfBt0ulXcjF5rV1LWd03cvGPuMf76YPru6V09FAHO6X4tjn1BNJ161fRtYbOy2ncNHcY6mGXgSD24Yd1FdFVTU9KsNasHstWs4by2fBMUyBhkdCPQjsRyK58aP4h8OnPh2+/tewH/MN1WY+Yg9I7jBb8JA3+8ooA6uuO+IP+u8Lf8AYbX/ANJrivMta/aOufDPxPvNJ1rQpY9JhWOOSElPtNvJtBYgqxRxk9M++R0rrPFviu08X6B4Y1LwLqFhfudbQL5zMFjb7NOSsij5lOOxHp2rlxivhqi8n+RdP40dTRXLbvH3/PLw3/39n/8AiaN3j7/nl4b/AO/s/wD8TX5p7D+8vvPY5vI6b4c/8i7ff9hi/wD/AEpkrrK4z4Wfav8AhEbj+0BCLr+1b7zRASU3faXztzzj612dfp+H0owXkvyPGl8TOY+IX77wk2nD/mKXdtYMPVJZkSQf9+y9b9pp9nYNcNZWsNu11KZ5zEgXzZCAC7Y6nCgZ9qwfGHz6j4Vh/wCeutp/47bzyf8AsldNWxIUUUUAFFFFABRRRQAUUUUAFFFFABRRRQAUUUUAFFFFABRRRQAUUUUAFFFFABRRRQAUUUUAFFFFABRRRQAUUUUAFFFFABRRRQAUUUUAFFFFABRRRQAUUUUAFFFFABRRRQAUUUUAFFFFABRRRQAUUUUAFFFFABRRRQAUUUUAFFFFABRRRQAUUUUAFFFFABRRRQAUUUUAFFFFABRRRQAUUUUAFFFFAHLv8NPBk2rXWp3XhvT7q8u5TLNLdQiYux6nD5A/Cs3xnptjph8LRabZW9nH/ba/JbxLGP8Aj1uOwFd1XCfFPUrTSLbw1e6jN5NvFrab3Kk4zbzgcAE9TXLjE3hqiXZ/kXT+NGlRXLf8LK8I/wDQYX/vxJ/8TR/wsrwj/wBBhf8AvxJ/8TX5p9Wr/wAj+5nsc8e503w5/wCRdvv+wxf/APpTJXWVxnwsvINQ8I3F3ZyeZBNqt88b4I3A3L4PNdnX6fh01Rgn2X5HjS+JnM+JP3njLwfF/cvrif8AK0mT/wBqV01czq37z4leGov7llfz/kYE/wDaldNWxIUUUUAFFFFABRRRQAUUUUAFFFFABRRRQAUUUUAFFFFABRRRQAUUUUAFFFFABRRRQAUUUUAFFFFABRRRQAUUUUAFFFFABRRRQAUUUUAFFFFABRRRQAUUUUAFFFFABRRRQAUUUUAFFFFABRRRQAUUUUAFFFFABRRRQAUUUUAFFFFABRRRQAUUUUAFFFFABRRRQAUUUUAFFFFABRRRQAUUUUAFFFFABXHfEH/XeFv+w2v/AKTXFdjXHfEH/XeFv+w2v/pNcVyY7/dan+F/kaU/jXqWKKKK/LT2hnw5/wCRdvv+wxf/APpTJXWVyfw5/wCRdvv+wxf/APpTJVjUfG+nW9zNYaVFcaxqsbGP7FZRM21+mJJMbIx6liPxPFfq2H/gw9F+R4c/iYy3P274qXkq8ppelR2+70knkLsv12wxH/gQrp6xfC2jT6Rpsr6lIk2qX87Xd9LGDtMrADauedqKqoueyjvW1W5IUUUUAFFFFABRRRQAUUUUAFFFFABRRRQAUUUUAFFFFABRRRQAUUUUAFFFFABRRRQAUUUUAFFFFABRRRQAUUUUAFFFFABRRRQAUUUUAFFFFABRRRQAUUUUAFFFFABRRRQAUUUUAFFFFABRRRQAUUUUAFFFFABRRRQAUUUUAFFFFABRRRQAUUUUAFFFFABRRRQAUUUUAFFFFABRRRQAUUUUAFFFFABXCfFKx/tK28NWv2q5tPM1tP31rJskXFvOeG7V3dcd8Qf9d4W/7Da/+k1xXLjG1hqjXZ/kXT+NHPf8IP8A9TR4k/8ABh/9jR/wg/8A1NHiT/wYf/Y11NFfmn1ir3PY5IlX4WW32Pwjc2/nTT+Xqt8vmzvud8XL8se5rs65P4c/8i7ff9hi/wD/AEpkrrK/T8O70YPyX5HjS+JhRRRWxIUUUUAFFFFABRRRQAUUUUAFFFFABRRRQAUUUUAFFFFABRRRQAUUUUAFFFFABRRRQAUUUUAFFFFABRRRQAUUUUAFFFFABRRRQAUUUUAFFFFABRRRQAUUUUAFFFFABRRRQAUUUUAFFFFABRRRQAUUUUAFFFFABRRRQAUUUUAFFFFABRRRQAUUUUAFFFFABRRRQAUUUUAFFFFABRRRQAUUUUAFFFFABXL+OdJ1TU7bSJtEt4bmfT9RW6aGafyg6eVKhw2085kB6djXUUVFSEakHCWzGm07o4LHjH/oWLP/AMGw/wDjdGPGP/QsWf8A4Nh/8brvaK8n+xMD/J+L/wAzf6zV7nO+B9Kv9I8PSRavFFDdT3tzdNFFL5gQSTM4G7AycMO1dFRRXrxioxUVsjBu7uFFFFUIKKKKACiiigAooooAKKKKACiiigAooooAKKKKACiiigAooooAKKKKACiiigAooooAKKKKACiiigAooooAKKKKACiiigAooooAKKKKACiiigAooooAKKKKACiiigAooooAKKKKACiiigAooooAKKKKACiiigAooooAKKKKACiiigAooooAKKKKACiiigAooooAKKKKACiiigAooooAKKKKACiiigAooooAKKKKACiiigAooooAKKKKACiiigAooooAKKKKACiiigAooooAKKKKACiiigAooooAKKKKACiiigAooooAKKKKACiiigAooooAKKKKAP/Z \"CNN architecture for sentence classification\")\n",
    "\n",
    "(source: https://arxiv.org/pdf/1510.03820.pdf)\n"
   ]
  },
  {
   "cell_type": "markdown",
   "metadata": {},
   "source": [
    "CNN based text classifier reads the input sequence and generates a feature representation for the subsequences which are used for classification.\n",
    "\n",
    "For the implementation in this notebook, we first apply the embedding layer on the input sequence $x$ to obtain the embedded representation $x_{emb}$. Next, we apply 1D convolutions of different filter sizes to obtain feature map $x_{conv_i}$ corresponding to each filter $i$. Further, we apply ReLU activation and max pooling over time to reduce each feature map to a single scalar $x_{pool_i}$ and concatenate all these scalar values $x_concat$. Finally, linear transformation is applied over the concatenated representation using the weight matrix $W$ to compute logits. Either sigmoid or softmax is applied to these computed logits depending on the classification problem i.e. binary or multi-class.\n",
    "\n",
    "$$\n",
    "x_{emb} = f_{embedding}(x) \\\\\n",
    "x_{conv_i} = \\text{conv1D}(x_{emb}) \\\\\n",
    "x_{pool_i} = \\text{maxpool}(relu(x_{conv_i})) \\\\\n",
    "x_{concat} = [x_{pool_i}; \\dots; x_{pool_j}] \\\\\n",
    "\\text{logits} = \\text{dropout}(Wx_{concat})\n",
    "$$\n"
   ]
  },
  {
   "cell_type": "code",
   "execution_count": 37,
   "metadata": {
    "executionInfo": {
     "elapsed": 18,
     "status": "ok",
     "timestamp": 1622650979188,
     "user": {
      "displayName": "Jay Gala",
      "photoUrl": "https://lh3.googleusercontent.com/a-/AOh14Ghr20IAxple1q2jggw00r147YTV5sjlqKrRANzYVA=s64",
      "userId": "11525158385229787114"
     },
     "user_tz": -330
    },
    "id": "k8D3rfn_LcH8"
   },
   "outputs": [],
   "source": [
    "class CNNTextClassifier(nn.Module):\n",
    "    \"\"\" Simple 1D Convolutional Neural Network for Sentence Classification.\n",
    "    \"\"\"\n",
    "\n",
    "    def __init__(self, vocab_size, n_classes, embed_size, filter_sizes, n_filters, pad_idx, dropout_rate=0.5):\n",
    "        super(CNNTextClassifier, self).__init__()\n",
    "        \n",
    "        self.vocab_size = vocab_size\n",
    "        self.embed_size = embed_size\n",
    "        self.filter_sizes = filter_sizes\n",
    "        self.n_filters = n_filters\n",
    "        self.n_classes = n_classes\n",
    "        self.pad_idx = pad_idx\n",
    "        self.dropout_rate = dropout_rate\n",
    "\n",
    "        self.embedding = nn.Embedding(vocab_size, embed_size, padding_idx=pad_idx)\n",
    "        self.conv_list =  nn.ModuleList([\n",
    "            nn.Conv1d(in_channels=embed_size, out_channels=n_filters, kernel_size=filter_sizes[i])\n",
    "            for i in range(len(filter_sizes))\n",
    "        ])\n",
    "        self.fc = nn.Linear(len(filter_sizes) * n_filters, n_classes)\n",
    "        self.dropout = nn.Dropout(dropout_rate)\n",
    "\n",
    "    \n",
    "    def load_pretrained_embeddings(self, embeddings, fine_tune=False):\n",
    "        self.embedding.weight = nn.Parameter(embeddings)\n",
    "        for p in self.embedding.parameters():\n",
    "            p.requires_grad = fine_tune\n",
    "    \n",
    "\n",
    "    def _conv_block(self, x, conv_layer):\n",
    "        \"\"\" x: (batch_size, embed_size, seq_len)\n",
    "        \"\"\"\n",
    "        x_conv = F.relu(conv_layer(x))  # (batch_size, n_filters, seq_len - filter_sizes[i] + 1)\n",
    "        x_pool = F.max_pool1d(x_conv, kernel_size=x_conv.shape[2]).squeeze(2)  # (batch_size, n_filters)\n",
    "        return x_pool\n",
    "\n",
    "\n",
    "    def forward(self, x):\n",
    "        \"\"\" x: (batch_size, seq_len)\n",
    "        \"\"\"\n",
    "        embed = self.embedding(x)  # (batch_size, seq_len, embed_size)\n",
    "        embed = embed.permute(0, 2, 1)  # (batch_size, embed_size, seq_len)\n",
    "\n",
    "        conv_stack = [\n",
    "            self._conv_block(embed, conv) for conv in self.conv_list\n",
    "        ]\n",
    "\n",
    "        pooled_values = torch.cat(conv_stack, dim=1)  # (batch_size, sum(num_filters))      \n",
    "\n",
    "        logits = self.fc(self.dropout(pooled_values))  # (batch_size, num_classes)\n",
    "\n",
    "        return logits"
   ]
  },
  {
   "cell_type": "markdown",
   "metadata": {
    "id": "iVgiu3sAX8Kt"
   },
   "source": [
    "## Helper Utilities\n"
   ]
  },
  {
   "cell_type": "code",
   "execution_count": 38,
   "metadata": {
    "executionInfo": {
     "elapsed": 17,
     "status": "ok",
     "timestamp": 1622650979188,
     "user": {
      "displayName": "Jay Gala",
      "photoUrl": "https://lh3.googleusercontent.com/a-/AOh14Ghr20IAxple1q2jggw00r147YTV5sjlqKrRANzYVA=s64",
      "userId": "11525158385229787114"
     },
     "user_tz": -330
    },
    "id": "T_xZRYpYYBf6"
   },
   "outputs": [],
   "source": [
    "def model_summary(model):\n",
    "    print(model)\n",
    "    print(f'# of trainable params: {sum(p.numel() for p in model.parameters() if p.requires_grad):,}')\n",
    "    print(f'# of non-trainable params: {sum(p.numel() for p in model.parameters() if not p.requires_grad):,}')"
   ]
  },
  {
   "cell_type": "code",
   "execution_count": 39,
   "metadata": {
    "executionInfo": {
     "elapsed": 17,
     "status": "ok",
     "timestamp": 1622650979189,
     "user": {
      "displayName": "Jay Gala",
      "photoUrl": "https://lh3.googleusercontent.com/a-/AOh14Ghr20IAxple1q2jggw00r147YTV5sjlqKrRANzYVA=s64",
      "userId": "11525158385229787114"
     },
     "user_tz": -330
    },
    "id": "tpiECqiLdF4x"
   },
   "outputs": [],
   "source": [
    "def accuracy(preds, y):\n",
    "    top_preds = preds.argmax(dim=1, keepdim=True)\n",
    "    correct = (top_preds == y.view_as(top_preds)).sum()\n",
    "    acc = correct / len(y)\n",
    "    return acc"
   ]
  },
  {
   "cell_type": "markdown",
   "metadata": {
    "id": "mudqBztPX3S5"
   },
   "source": [
    "## Training\n"
   ]
  },
  {
   "cell_type": "code",
   "execution_count": 46,
   "metadata": {
    "executionInfo": {
     "elapsed": 3,
     "status": "ok",
     "timestamp": 1622650986652,
     "user": {
      "displayName": "Jay Gala",
      "photoUrl": "https://lh3.googleusercontent.com/a-/AOh14Ghr20IAxple1q2jggw00r147YTV5sjlqKrRANzYVA=s64",
      "userId": "11525158385229787114"
     },
     "user_tz": -330
    },
    "id": "kL7MVl7xxpAq"
   },
   "outputs": [],
   "source": [
    "def train_fn(model, iterator, optimizer, criterion):\n",
    "    model.train()\n",
    "    epoch_loss = 0\n",
    "    epoch_acc = 0\n",
    "    \n",
    "    tk0 = tqdm(iterator, total=len(iterator), position=0, leave=True)\n",
    "\n",
    "    for idx, batch in enumerate(tk0):\n",
    "        \n",
    "        # forward pass\n",
    "        optimizer.zero_grad()\n",
    "        logits = model(batch.text)  # (batch_size)\n",
    "        \n",
    "        # calcalute loss\n",
    "        loss = criterion(logits, batch.label)\n",
    "        \n",
    "        # calculate accuracy\n",
    "        acc = accuracy(logits, batch.label)\n",
    "        \n",
    "        # backward pass\n",
    "        loss.backward()\n",
    "        \n",
    "        # update model parameters\n",
    "        optimizer.step()\n",
    "        \n",
    "        epoch_loss += loss.item()\n",
    "        epoch_acc += acc.item()\n",
    "\n",
    "        tk0.update(0)\n",
    "    \n",
    "    tk0.close()\n",
    "        \n",
    "    return epoch_acc / len(iterator), epoch_loss / len(iterator)"
   ]
  },
  {
   "cell_type": "code",
   "execution_count": 47,
   "metadata": {
    "executionInfo": {
     "elapsed": 4,
     "status": "ok",
     "timestamp": 1622650987090,
     "user": {
      "displayName": "Jay Gala",
      "photoUrl": "https://lh3.googleusercontent.com/a-/AOh14Ghr20IAxple1q2jggw00r147YTV5sjlqKrRANzYVA=s64",
      "userId": "11525158385229787114"
     },
     "user_tz": -330
    },
    "id": "hmytuJE8yFMn"
   },
   "outputs": [],
   "source": [
    "def eval_fn(model, iterator, criterion):\n",
    "    model.eval()\n",
    "    epoch_loss = 0\n",
    "    epoch_acc = 0\n",
    "    \n",
    "    tk0 = tqdm(iterator, total=len(iterator), position=0, leave=True)\n",
    "\n",
    "    with torch.no_grad():\n",
    "        for idx, batch in enumerate(tk0):\n",
    "            \n",
    "            # forward pass\n",
    "            logits = model(batch.text)  # (batch_size)\n",
    "            \n",
    "            # calcalute loss\n",
    "            loss = criterion(logits, batch.label)\n",
    "            \n",
    "            # calculate accuracy\n",
    "            acc = accuracy(logits, batch.label)\n",
    "\n",
    "            epoch_loss += loss.item()\n",
    "            epoch_acc += acc.item()\n",
    "\n",
    "            tk0.update(0)\n",
    "    \n",
    "    tk0.close()\n",
    "        \n",
    "    return epoch_acc / len(iterator), epoch_loss / len(iterator)"
   ]
  },
  {
   "cell_type": "code",
   "execution_count": 48,
   "metadata": {
    "executionInfo": {
     "elapsed": 15,
     "status": "ok",
     "timestamp": 1622650987684,
     "user": {
      "displayName": "Jay Gala",
      "photoUrl": "https://lh3.googleusercontent.com/a-/AOh14Ghr20IAxple1q2jggw00r147YTV5sjlqKrRANzYVA=s64",
      "userId": "11525158385229787114"
     },
     "user_tz": -330
    },
    "id": "A2OGqhaIYXB3"
   },
   "outputs": [],
   "source": [
    "# hyperparameters\n",
    "VOCAB_SIZE = len(review.vocab)\n",
    "EMBED_SIZE = review.vocab.vectors.shape[1]\n",
    "FILTER_SIZES = [3, 4, 5]\n",
    "N_FILTERS = 100\n",
    "N_CLASSES = len(sentiment.vocab)\n",
    "DROPOUT_RATE = 0.5\n",
    "PAD_IDX = review.vocab.stoi[review.pad_token]\n",
    "N_EPOCHS = 20"
   ]
  },
  {
   "cell_type": "code",
   "execution_count": 54,
   "metadata": {
    "colab": {
     "base_uri": "https://localhost:8080/"
    },
    "executionInfo": {
     "elapsed": 686,
     "status": "ok",
     "timestamp": 1622651034647,
     "user": {
      "displayName": "Jay Gala",
      "photoUrl": "https://lh3.googleusercontent.com/a-/AOh14Ghr20IAxple1q2jggw00r147YTV5sjlqKrRANzYVA=s64",
      "userId": "11525158385229787114"
     },
     "user_tz": -330
    },
    "id": "1rmb8RcUYZl9",
    "outputId": "2727b9e4-f361-4ee8-e3f9-493e281c274b"
   },
   "outputs": [
    {
     "name": "stdout",
     "output_type": "stream",
     "text": [
      "CNNTextClassifier(\n",
      "  (embedding): Embedding(25002, 300, padding_idx=1)\n",
      "  (conv_list): ModuleList(\n",
      "    (0): Conv1d(300, 100, kernel_size=(3,), stride=(1,))\n",
      "    (1): Conv1d(300, 100, kernel_size=(4,), stride=(1,))\n",
      "    (2): Conv1d(300, 100, kernel_size=(5,), stride=(1,))\n",
      "  )\n",
      "  (fc): Linear(in_features=300, out_features=2, bias=True)\n",
      "  (dropout): Dropout(p=0.5, inplace=False)\n",
      ")\n",
      "# of trainable params: 7,861,502\n",
      "# of non-trainable params: 0\n"
     ]
    }
   ],
   "source": [
    "model = CNNTextClassifier(VOCAB_SIZE, N_CLASSES, EMBED_SIZE, FILTER_SIZES, N_FILTERS, PAD_IDX, DROPOUT_RATE)\n",
    "# load the pre-trained GloVe embedding\n",
    "model.load_pretrained_embeddings(review.vocab.vectors, fine_tune=True)\n",
    "model = model.to(device)\n",
    "\n",
    "model_summary(model)"
   ]
  },
  {
   "cell_type": "code",
   "execution_count": 55,
   "metadata": {
    "executionInfo": {
     "elapsed": 20,
     "status": "ok",
     "timestamp": 1622651034651,
     "user": {
      "displayName": "Jay Gala",
      "photoUrl": "https://lh3.googleusercontent.com/a-/AOh14Ghr20IAxple1q2jggw00r147YTV5sjlqKrRANzYVA=s64",
      "userId": "11525158385229787114"
     },
     "user_tz": -330
    },
    "id": "vW7sfVU1aPVi"
   },
   "outputs": [],
   "source": [
    "optimizer = optim.Adadelta(model.parameters(), lr=1e-1)\n",
    "scheduler = optim.lr_scheduler.ReduceLROnPlateau(\n",
    "    optimizer, patience=0, threshold=0.001, mode='max'\n",
    ")"
   ]
  },
  {
   "cell_type": "code",
   "execution_count": 56,
   "metadata": {
    "executionInfo": {
     "elapsed": 21,
     "status": "ok",
     "timestamp": 1622651034655,
     "user": {
      "displayName": "Jay Gala",
      "photoUrl": "https://lh3.googleusercontent.com/a-/AOh14Ghr20IAxple1q2jggw00r147YTV5sjlqKrRANzYVA=s64",
      "userId": "11525158385229787114"
     },
     "user_tz": -330
    },
    "id": "pcaK7UVSkiv6"
   },
   "outputs": [],
   "source": [
    "criterion = nn.CrossEntropyLoss()"
   ]
  },
  {
   "cell_type": "code",
   "execution_count": null,
   "metadata": {
    "id": "p7VOszRie17P"
   },
   "outputs": [],
   "source": [
    "best_acc = 0\n",
    "es_patience = 3\n",
    "patience = 0\n",
    "model_path = 'model.pth'\n",
    "\n",
    "\n",
    "for epoch in range(0, N_EPOCHS + 1):\n",
    "    # one epoch training\n",
    "    train_acc, train_loss = train_fn(model, train_iterator, optimizer, criterion)\n",
    "    \n",
    "    # one epoch validation\n",
    "    valid_acc, valid_loss = eval_fn(model, valid_iterator, criterion)\n",
    "    \n",
    "    print(f'Epoch: {epoch}, Train Accuracy: {train_acc * 100:.2f}%, Train loss: {train_loss:.4f}, Valid Accuracy: {valid_acc * 100:.2f}%,, Valid Loss: {valid_loss:.4f}')\n",
    "    \n",
    "    scheduler.step(valid_acc)\n",
    "\n",
    "    is_best = valid_acc > best_acc\n",
    "    if is_best:\n",
    "        print(f'Best accuracy improved ({best_acc * 100:.2f}% -> {valid_acc * 100:.2f}%). Saving Model!')\n",
    "        best_acc = valid_acc\n",
    "        patience = 0\n",
    "        torch.save(model.state_dict(), model_path)\n",
    "    else:\n",
    "        patience += 1\n",
    "        print(f'Early stopping counter: {patience} out of {es_patience}')\n",
    "        if patience == es_patience:\n",
    "            print(f'Early stopping! Best accuracy: {best_acc * 100:.2f}%')\n",
    "            break"
   ]
  },
  {
   "cell_type": "code",
   "execution_count": 58,
   "metadata": {
    "colab": {
     "base_uri": "https://localhost:8080/",
     "height": 101,
     "referenced_widgets": [
      "0e8d20a7c37f41ec8be9bedf0b24c5ad",
      "77cffdfd79db46d098ff3e85694af708",
      "5092dec0198d4ddca6ec280a8efe20fa",
      "97565fb53ca747baac3a3a795dbb60df",
      "76a92c955bba41f4862918d88c888376",
      "57835188d57b40b3b7ab7b32167d5f20",
      "7ddcff75499442dc8e472c6121eed9c2",
      "9ed81c02af6047dea211c5483ba358bc"
     ]
    },
    "executionInfo": {
     "elapsed": 4116,
     "status": "ok",
     "timestamp": 1622651418336,
     "user": {
      "displayName": "Jay Gala",
      "photoUrl": "https://lh3.googleusercontent.com/a-/AOh14Ghr20IAxple1q2jggw00r147YTV5sjlqKrRANzYVA=s64",
      "userId": "11525158385229787114"
     },
     "user_tz": -330
    },
    "id": "xkLMlMCeuRJv",
    "outputId": "8140b6d9-96aa-491d-dec5-bfa51ba4a05a"
   },
   "outputs": [
    {
     "name": "stdout",
     "output_type": "stream",
     "text": [
      "Evaluating the model on test data ...\n"
     ]
    },
    {
     "data": {
      "application/vnd.jupyter.widget-view+json": {
       "model_id": "0e8d20a7c37f41ec8be9bedf0b24c5ad",
       "version_major": 2,
       "version_minor": 0
      },
      "text/plain": [
       "HBox(children=(FloatProgress(value=0.0, max=391.0), HTML(value='')))"
      ]
     },
     "metadata": {
      "tags": []
     },
     "output_type": "display_data"
    },
    {
     "name": "stdout",
     "output_type": "stream",
     "text": [
      "\n",
      "Test Accuracy: 86.63%, Test loss: 0.3117\n"
     ]
    }
   ],
   "source": [
    "# evaluate the model on test data\n",
    "model.load_state_dict(torch.load(model_path, map_location=device))\n",
    "\n",
    "print('Evaluating the model on test data ...')\n",
    "test_acc, test_loss = eval_fn(model, test_iterator, criterion)\n",
    "print(f'Test Accuracy: {test_acc * 100:.2f}%, Test loss: {test_loss:.4f}')"
   ]
  },
  {
   "cell_type": "markdown",
   "metadata": {
    "id": "fZ5zIFfEuLrP"
   },
   "source": [
    "## Inferences\n"
   ]
  },
  {
   "cell_type": "code",
   "execution_count": 59,
   "metadata": {
    "executionInfo": {
     "elapsed": 1540,
     "status": "ok",
     "timestamp": 1622651441453,
     "user": {
      "displayName": "Jay Gala",
      "photoUrl": "https://lh3.googleusercontent.com/a-/AOh14Ghr20IAxple1q2jggw00r147YTV5sjlqKrRANzYVA=s64",
      "userId": "11525158385229787114"
     },
     "user_tz": -330
    },
    "id": "kn5ENhvFwXc1"
   },
   "outputs": [],
   "source": [
    "nlp = spacy.load('en')\n",
    "\n",
    "def predict(model, text, min_len=5):\n",
    "    model.eval()\n",
    "\n",
    "    tokens = [token.text for token in nlp.tokenizer(text)]\n",
    "\n",
    "    if len(tokens) < min_len:\n",
    "        tokens += [review.pad_token] * (min_len - len(tokens))\n",
    "    \n",
    "    token_ids = [review.vocab.stoi.get(token, review.unk_token) for token in tokens]\n",
    "\n",
    "    token_ids = torch.tensor(token_ids, dtype=torch.long).to(device)  # (seq_len)\n",
    "    token_ids = token_ids.unsqueeze(0)  # (1, seq_len)\n",
    "\n",
    "    logits = model(token_ids)\n",
    "\n",
    "    pred_probs = F.softmax(logits, dim=1).squeeze(0)\n",
    "\n",
    "    return pred_probs"
   ]
  },
  {
   "cell_type": "code",
   "execution_count": 67,
   "metadata": {
    "colab": {
     "base_uri": "https://localhost:8080/"
    },
    "executionInfo": {
     "elapsed": 412,
     "status": "ok",
     "timestamp": 1622651694922,
     "user": {
      "displayName": "Jay Gala",
      "photoUrl": "https://lh3.googleusercontent.com/a-/AOh14Ghr20IAxple1q2jggw00r147YTV5sjlqKrRANzYVA=s64",
      "userId": "11525158385229787114"
     },
     "user_tz": -330
    },
    "id": "ypAw26oXk1sY",
    "outputId": "c38e85c8-23b0-4c95-e1ff-bdc20f1e7bcf"
   },
   "outputs": [
    {
     "name": "stdout",
     "output_type": "stream",
     "text": [
      "The movie was great!\n",
      "positive: 73.38%, negative: 26.62%\n"
     ]
    }
   ],
   "source": [
    "sample_text = 'The movie was great!'\n",
    "print(sample_text)\n",
    "\n",
    "pred_probs = predict(model, sample_text)\n",
    "print(f'positive: {pred_probs[0] * 100:.2f}%, negative: {(pred_probs[1]) * 100:.2f}%')"
   ]
  },
  {
   "cell_type": "code",
   "execution_count": 68,
   "metadata": {
    "colab": {
     "base_uri": "https://localhost:8080/"
    },
    "executionInfo": {
     "elapsed": 3,
     "status": "ok",
     "timestamp": 1622651695289,
     "user": {
      "displayName": "Jay Gala",
      "photoUrl": "https://lh3.googleusercontent.com/a-/AOh14Ghr20IAxple1q2jggw00r147YTV5sjlqKrRANzYVA=s64",
      "userId": "11525158385229787114"
     },
     "user_tz": -330
    },
    "id": "DHW1vcRvk7lR",
    "outputId": "7526541b-709b-4600-9520-2eda86e66fd9"
   },
   "outputs": [
    {
     "name": "stdout",
     "output_type": "stream",
     "text": [
      "The movie was okay.\n",
      "positive: 34.23%, negative: 65.77%\n"
     ]
    }
   ],
   "source": [
    "sample_text = 'The movie was okay.'\n",
    "print(sample_text)\n",
    "\n",
    "pred_probs = predict(model, sample_text)\n",
    "print(f'positive: {pred_probs[0] * 100:.2f}%, negative: {(pred_probs[1]) * 100:.2f}%')"
   ]
  },
  {
   "cell_type": "code",
   "execution_count": 69,
   "metadata": {
    "colab": {
     "base_uri": "https://localhost:8080/"
    },
    "executionInfo": {
     "elapsed": 17,
     "status": "ok",
     "timestamp": 1622651695975,
     "user": {
      "displayName": "Jay Gala",
      "photoUrl": "https://lh3.googleusercontent.com/a-/AOh14Ghr20IAxple1q2jggw00r147YTV5sjlqKrRANzYVA=s64",
      "userId": "11525158385229787114"
     },
     "user_tz": -330
    },
    "id": "WdjKB5_8yWz-",
    "outputId": "d6c58f33-ceb9-44ab-9448-c28b5295617e"
   },
   "outputs": [
    {
     "name": "stdout",
     "output_type": "stream",
     "text": [
      "The movie was terrible...\n",
      "positive: 9.10%, negative: 90.90%\n"
     ]
    }
   ],
   "source": [
    "sample_text = 'The movie was terrible...'\n",
    "print(sample_text)\n",
    "\n",
    "pred_probs = predict(model, sample_text)\n",
    "print(f'positive: {pred_probs[0] * 100:.2f}%, negative: {(pred_probs[1]) * 100:.2f}%')"
   ]
  },
  {
   "cell_type": "markdown",
   "metadata": {
    "id": "73M2zaJ4sjdX"
   },
   "source": [
    "## References\n",
    "\n",
    "1. [Convolutional Neural Networks for Sentence Classification](https://arxiv.org/pdf/1408.5882.pdf)\n",
    "2. [A Sensitivity Analysis of (and Practitioners’ Guide to) Convolutional Neural Networks for Sentence Classification](https://arxiv.org/pdf/1510.03820.pdf)\n",
    "3. [Official Theano Implementation by Yoon Kim](https://github.com/yoonkim/CNN_sentence)\n",
    "4. [PyTorch Sentiment Analysis by Ben Trevet](https://github.com/bentrevett/pytorch-sentiment-analysis)\n"
   ]
  }
 ],
 "metadata": {
  "accelerator": "GPU",
  "colab": {
   "authorship_tag": "ABX9TyO+P5BK60lx1rX+gFJHgQ+e",
   "collapsed_sections": [],
   "name": "Convolutional Neural Networks for Sentence Classification.ipynb",
   "provenance": [],
   "toc_visible": true
  },
  "kernelspec": {
   "display_name": "Python 3",
   "language": "python",
   "name": "python3"
  },
  "language_info": {
   "codemirror_mode": {
    "name": "ipython",
    "version": 3
   },
   "file_extension": ".py",
   "mimetype": "text/x-python",
   "name": "python",
   "nbconvert_exporter": "python",
   "pygments_lexer": "ipython3",
   "version": "3.8.5"
  },
  "widgets": {
   "application/vnd.jupyter.widget-state+json": {
    "0e8d20a7c37f41ec8be9bedf0b24c5ad": {
     "model_module": "@jupyter-widgets/controls",
     "model_name": "HBoxModel",
     "state": {
      "_dom_classes": [],
      "_model_module": "@jupyter-widgets/controls",
      "_model_module_version": "1.5.0",
      "_model_name": "HBoxModel",
      "_view_count": null,
      "_view_module": "@jupyter-widgets/controls",
      "_view_module_version": "1.5.0",
      "_view_name": "HBoxView",
      "box_style": "",
      "children": [
       "IPY_MODEL_5092dec0198d4ddca6ec280a8efe20fa",
       "IPY_MODEL_97565fb53ca747baac3a3a795dbb60df"
      ],
      "layout": "IPY_MODEL_77cffdfd79db46d098ff3e85694af708"
     }
    },
    "5092dec0198d4ddca6ec280a8efe20fa": {
     "model_module": "@jupyter-widgets/controls",
     "model_name": "FloatProgressModel",
     "state": {
      "_dom_classes": [],
      "_model_module": "@jupyter-widgets/controls",
      "_model_module_version": "1.5.0",
      "_model_name": "FloatProgressModel",
      "_view_count": null,
      "_view_module": "@jupyter-widgets/controls",
      "_view_module_version": "1.5.0",
      "_view_name": "ProgressView",
      "bar_style": "success",
      "description": "100%",
      "description_tooltip": null,
      "layout": "IPY_MODEL_57835188d57b40b3b7ab7b32167d5f20",
      "max": 391,
      "min": 0,
      "orientation": "horizontal",
      "style": "IPY_MODEL_76a92c955bba41f4862918d88c888376",
      "value": 391
     }
    },
    "57835188d57b40b3b7ab7b32167d5f20": {
     "model_module": "@jupyter-widgets/base",
     "model_name": "LayoutModel",
     "state": {
      "_model_module": "@jupyter-widgets/base",
      "_model_module_version": "1.2.0",
      "_model_name": "LayoutModel",
      "_view_count": null,
      "_view_module": "@jupyter-widgets/base",
      "_view_module_version": "1.2.0",
      "_view_name": "LayoutView",
      "align_content": null,
      "align_items": null,
      "align_self": null,
      "border": null,
      "bottom": null,
      "display": null,
      "flex": null,
      "flex_flow": null,
      "grid_area": null,
      "grid_auto_columns": null,
      "grid_auto_flow": null,
      "grid_auto_rows": null,
      "grid_column": null,
      "grid_gap": null,
      "grid_row": null,
      "grid_template_areas": null,
      "grid_template_columns": null,
      "grid_template_rows": null,
      "height": null,
      "justify_content": null,
      "justify_items": null,
      "left": null,
      "margin": null,
      "max_height": null,
      "max_width": null,
      "min_height": null,
      "min_width": null,
      "object_fit": null,
      "object_position": null,
      "order": null,
      "overflow": null,
      "overflow_x": null,
      "overflow_y": null,
      "padding": null,
      "right": null,
      "top": null,
      "visibility": null,
      "width": null
     }
    },
    "76a92c955bba41f4862918d88c888376": {
     "model_module": "@jupyter-widgets/controls",
     "model_name": "ProgressStyleModel",
     "state": {
      "_model_module": "@jupyter-widgets/controls",
      "_model_module_version": "1.5.0",
      "_model_name": "ProgressStyleModel",
      "_view_count": null,
      "_view_module": "@jupyter-widgets/base",
      "_view_module_version": "1.2.0",
      "_view_name": "StyleView",
      "bar_color": null,
      "description_width": "initial"
     }
    },
    "77cffdfd79db46d098ff3e85694af708": {
     "model_module": "@jupyter-widgets/base",
     "model_name": "LayoutModel",
     "state": {
      "_model_module": "@jupyter-widgets/base",
      "_model_module_version": "1.2.0",
      "_model_name": "LayoutModel",
      "_view_count": null,
      "_view_module": "@jupyter-widgets/base",
      "_view_module_version": "1.2.0",
      "_view_name": "LayoutView",
      "align_content": null,
      "align_items": null,
      "align_self": null,
      "border": null,
      "bottom": null,
      "display": null,
      "flex": null,
      "flex_flow": null,
      "grid_area": null,
      "grid_auto_columns": null,
      "grid_auto_flow": null,
      "grid_auto_rows": null,
      "grid_column": null,
      "grid_gap": null,
      "grid_row": null,
      "grid_template_areas": null,
      "grid_template_columns": null,
      "grid_template_rows": null,
      "height": null,
      "justify_content": null,
      "justify_items": null,
      "left": null,
      "margin": null,
      "max_height": null,
      "max_width": null,
      "min_height": null,
      "min_width": null,
      "object_fit": null,
      "object_position": null,
      "order": null,
      "overflow": null,
      "overflow_x": null,
      "overflow_y": null,
      "padding": null,
      "right": null,
      "top": null,
      "visibility": null,
      "width": null
     }
    },
    "7ddcff75499442dc8e472c6121eed9c2": {
     "model_module": "@jupyter-widgets/controls",
     "model_name": "DescriptionStyleModel",
     "state": {
      "_model_module": "@jupyter-widgets/controls",
      "_model_module_version": "1.5.0",
      "_model_name": "DescriptionStyleModel",
      "_view_count": null,
      "_view_module": "@jupyter-widgets/base",
      "_view_module_version": "1.2.0",
      "_view_name": "StyleView",
      "description_width": ""
     }
    },
    "97565fb53ca747baac3a3a795dbb60df": {
     "model_module": "@jupyter-widgets/controls",
     "model_name": "HTMLModel",
     "state": {
      "_dom_classes": [],
      "_model_module": "@jupyter-widgets/controls",
      "_model_module_version": "1.5.0",
      "_model_name": "HTMLModel",
      "_view_count": null,
      "_view_module": "@jupyter-widgets/controls",
      "_view_module_version": "1.5.0",
      "_view_name": "HTMLView",
      "description": "",
      "description_tooltip": null,
      "layout": "IPY_MODEL_9ed81c02af6047dea211c5483ba358bc",
      "placeholder": "​",
      "style": "IPY_MODEL_7ddcff75499442dc8e472c6121eed9c2",
      "value": " 391/391 [00:25&lt;00:00, 15.09it/s]"
     }
    },
    "9ed81c02af6047dea211c5483ba358bc": {
     "model_module": "@jupyter-widgets/base",
     "model_name": "LayoutModel",
     "state": {
      "_model_module": "@jupyter-widgets/base",
      "_model_module_version": "1.2.0",
      "_model_name": "LayoutModel",
      "_view_count": null,
      "_view_module": "@jupyter-widgets/base",
      "_view_module_version": "1.2.0",
      "_view_name": "LayoutView",
      "align_content": null,
      "align_items": null,
      "align_self": null,
      "border": null,
      "bottom": null,
      "display": null,
      "flex": null,
      "flex_flow": null,
      "grid_area": null,
      "grid_auto_columns": null,
      "grid_auto_flow": null,
      "grid_auto_rows": null,
      "grid_column": null,
      "grid_gap": null,
      "grid_row": null,
      "grid_template_areas": null,
      "grid_template_columns": null,
      "grid_template_rows": null,
      "height": null,
      "justify_content": null,
      "justify_items": null,
      "left": null,
      "margin": null,
      "max_height": null,
      "max_width": null,
      "min_height": null,
      "min_width": null,
      "object_fit": null,
      "object_position": null,
      "order": null,
      "overflow": null,
      "overflow_x": null,
      "overflow_y": null,
      "padding": null,
      "right": null,
      "top": null,
      "visibility": null,
      "width": null
     }
    }
   }
  }
 },
 "nbformat": 4,
 "nbformat_minor": 4
}